{
  "nbformat": 4,
  "nbformat_minor": 0,
  "metadata": {
    "colab": {
      "provenance": [],
      "collapsed_sections": [],
      "toc_visible": true,
      "mount_file_id": "1rOVvwkUQQsEZwVymKttXydcLK2HFpvAo",
      "authorship_tag": "ABX9TyPA0LAoNfwWb98jgWfdd6tT",
      "include_colab_link": true
    },
    "kernelspec": {
      "name": "python3",
      "display_name": "Python 3"
    }
  },
  "cells": [
    {
      "cell_type": "markdown",
      "metadata": {
        "id": "view-in-github",
        "colab_type": "text"
      },
      "source": [
        "<a href=\"https://colab.research.google.com/github/jvitorc/TCC/blob/main/ExplorandoRedesNeurais.ipynb\" target=\"_parent\"><img src=\"https://colab.research.google.com/assets/colab-badge.svg\" alt=\"Open In Colab\"/></a>"
      ]
    },
    {
      "cell_type": "markdown",
      "metadata": {
        "id": "kJdEMw3wBucN"
      },
      "source": [
        "#### João Vitor Cardoso <2020>"
      ]
    },
    {
      "cell_type": "markdown",
      "metadata": {
        "id": "gMSXnirhBxBK"
      },
      "source": [
        "# **Explorando o uso de Redes Neurais para Deteção de Intrusão**\n",
        "\n"
      ]
    },
    {
      "cell_type": "markdown",
      "metadata": {
        "id": "_c9Mk1ukB4Dn"
      },
      "source": [
        "  Usando a base [CSE-CIC-IDS2018](https://www.unb.ca/cic/datasets/ids-2018.html) para detecção de intrusão com redes neurais de ataques DOS\n",
        "\n",
        "  "
      ]
    },
    {
      "cell_type": "markdown",
      "metadata": {
        "id": "0Q_7ra8cB83S"
      },
      "source": [
        "# Baixando Base da Dados"
      ]
    },
    {
      "cell_type": "code",
      "metadata": {
        "id": "RiBwElamB_ei"
      },
      "source": [
        "# Baixando awc-cli\n",
        "!curl \"https://s3.amazonaws.com/aws-cli/awscli-bundle.zip\" -o \"awscli-bundle.zip\"\n",
        "!unzip awscli-bundle.zip\n",
        "!sudo ./awscli-bundle/install -i /usr/local/aws -b /usr/local/bin/aws"
      ],
      "execution_count": null,
      "outputs": []
    },
    {
      "cell_type": "code",
      "metadata": {
        "id": "5oReDSgMCElL"
      },
      "source": [
        "# Baixando CSV do ataques DOS\n",
        "!aws s3 cp --no-sign-request --region sa-east-1 \"s3://cse-cic-ids2018/Processed Traffic Data for ML Algorithms/Friday-16-02-2018_TrafficForML_CICFlowMeter.csv\" \"./CSE-CIC-IDS2018/\""
      ],
      "execution_count": null,
      "outputs": []
    },
    {
      "cell_type": "markdown",
      "metadata": {
        "id": "vB2raVcSCADq"
      },
      "source": [
        "# Pré-processamto dos dados"
      ]
    },
    {
      "cell_type": "code",
      "metadata": {
        "id": "dsWo-vY-Coyz"
      },
      "source": [
        "# Importando bibliotecas\n",
        "import pandas as pd\n",
        "import numpy as np"
      ],
      "execution_count": null,
      "outputs": []
    },
    {
      "cell_type": "code",
      "metadata": {
        "id": "C5-_yOqYCr5c",
        "colab": {
          "base_uri": "https://localhost:8080/"
        },
        "outputId": "76c23d63-92c1-46fb-f294-ab60ad3edd5c"
      },
      "source": [
        "# Carregando dados\n",
        "dataset = pd.read_csv('CSE-CIC-IDS2018/Friday-16-02-2018_TrafficForML_CICFlowMeter.csv')\n",
        "\n",
        "# Criando histórico de tamanho do conjunto de dados\n",
        "size_history = [( \"original\", dataset.shape[0])]"
      ],
      "execution_count": null,
      "outputs": [
        {
          "output_type": "stream",
          "text": [
            "/usr/local/lib/python3.6/dist-packages/IPython/core/interactiveshell.py:2718: DtypeWarning: Columns (0,1,3,4,5,6,7,8,9,10,11,12,13,14,15,16,17,18,19,20,21,22,23,24,25,26,27,28,29,30,31,32,33,34,35,36,37,38,39,40,41,42,43,44,45,46,47,48,49,50,51,52,53,54,55,56,57,58,59,60,61,62,63,64,65,66,67,68,69,70,71,72,73,74,75,76,77,78) have mixed types.Specify dtype option on import or set low_memory=False.\n",
            "  interactivity=interactivity, compiler=compiler, result=result)\n"
          ],
          "name": "stderr"
        }
      ]
    },
    {
      "cell_type": "code",
      "metadata": {
        "id": "NJKADcyZDA3M"
      },
      "source": [
        "# Removendo registro com nomes das colunas\n",
        "dataset = dataset[dataset['Protocol'] != 'Protocol']\n",
        "\n",
        "# Registrando alteração no tamanho dos dados\n",
        "size_history.append(( \"removendo nomes das colunas\", dataset.shape[0]))"
      ],
      "execution_count": null,
      "outputs": []
    },
    {
      "cell_type": "code",
      "metadata": {
        "id": "k-vdAYCnEfk8"
      },
      "source": [
        "# Removendo coluna timestamp\n",
        "timestamp = dataset.pop('Timestamp')"
      ],
      "execution_count": null,
      "outputs": []
    },
    {
      "cell_type": "code",
      "metadata": {
        "id": "5IxPgbgjFi9k"
      },
      "source": [
        "# Separando alvos\n",
        "targets = dataset.pop('Label')\n",
        "\n",
        "# Atualizando tipo da coluna targets\n",
        "targets = pd.Categorical(targets)"
      ],
      "execution_count": null,
      "outputs": []
    },
    {
      "cell_type": "code",
      "metadata": {
        "id": "notMJi0GHMay"
      },
      "source": [
        "# Convertendo tipo de dados\n",
        "dataset = dataset.apply(pd.to_numeric)"
      ],
      "execution_count": null,
      "outputs": []
    },
    {
      "cell_type": "code",
      "metadata": {
        "id": "Cth5j8AuF8nd"
      },
      "source": [
        "# Gerando descrição estatistica para os dados\n",
        "features_stats = dataset.describe().transpose()"
      ],
      "execution_count": null,
      "outputs": []
    },
    {
      "cell_type": "code",
      "metadata": {
        "id": "x-pfukRcGC_8"
      },
      "source": [
        "# Criando função para normalização dos dados\n",
        "def norm(x):\n",
        "  return (x - features_stats['mean']) / features_stats['std']\n",
        "\n",
        "# Normalizando dados\n",
        "normed_dataset = norm(dataset)\n",
        "\n",
        "# Removendo divisão por zero\n",
        "normed_dataset = normed_dataset.replace(np.nan, 0)"
      ],
      "execution_count": null,
      "outputs": []
    },
    {
      "cell_type": "code",
      "metadata": {
        "id": "fCRUo1dRHstp"
      },
      "source": [
        "# Criando rotulos multiclasses\n",
        "multiclass_label = targets.codes"
      ],
      "execution_count": null,
      "outputs": []
    },
    {
      "cell_type": "code",
      "metadata": {
        "id": "guaDatgjK08W",
        "colab": {
          "base_uri": "https://localhost:8080/"
        },
        "outputId": "9b3ac13f-fd7c-43f1-8721-47116a9ec4ac"
      },
      "source": [
        "size_history"
      ],
      "execution_count": null,
      "outputs": [
        {
          "output_type": "execute_result",
          "data": {
            "text/plain": [
              "[('original', 1048575), ('removendo nomes das colunas', 1048574)]"
            ]
          },
          "metadata": {
            "tags": []
          },
          "execution_count": 12
        }
      ]
    },
    {
      "cell_type": "code",
      "metadata": {
        "id": "MsMm3j16IfYS"
      },
      "source": [
        "# Criando rotulos classe binaria\n",
        "binary_label = (targets.codes == 1)*1.0 + (targets.codes == 2)*1.0"
      ],
      "execution_count": null,
      "outputs": []
    },
    {
      "cell_type": "markdown",
      "metadata": {
        "id": "oYsD1PKsIZl6"
      },
      "source": [
        "# Rede Neural (Modelos)"
      ]
    },
    {
      "cell_type": "code",
      "metadata": {
        "id": "l7PLVdvHPovi"
      },
      "source": [
        "# Importando bibliotecas\n",
        "import tensorflow as tf\n",
        "from tensorflow import  keras"
      ],
      "execution_count": null,
      "outputs": []
    },
    {
      "cell_type": "code",
      "metadata": {
        "id": "FRxiMJCqRyS2"
      },
      "source": [
        "# Modelo binario\n",
        "def model_156():\n",
        "  model = keras.Sequential([\n",
        "    keras.layers.Dense(156, activation='relu', input_shape=[78]),\n",
        "    keras.layers.Dense(1, activation='sigmoid'),\n",
        "  ])\n",
        "\n",
        "  model.compile(loss='binary_crossentropy',\n",
        "                optimizer='adam',\n",
        "                metrics=['accuracy'])\n",
        "\n",
        "  return model"
      ],
      "execution_count": null,
      "outputs": []
    },
    {
      "cell_type": "code",
      "metadata": {
        "id": "JQcuCE9GOSvz"
      },
      "source": [
        "def model_78():\n",
        "  model = keras.Sequential([\n",
        "    keras.layers.Dense(78, activation='relu', input_shape=[78]),\n",
        "    keras.layers.Dense(1, activation='sigmoid'),\n",
        "  ])\n",
        "\n",
        "  model.compile(loss='binary_crossentropy',\n",
        "                optimizer='adam',\n",
        "                metrics=['accuracy'])\n",
        "\n",
        "  return model"
      ],
      "execution_count": null,
      "outputs": []
    },
    {
      "cell_type": "code",
      "metadata": {
        "id": "lvPielAAOaP6"
      },
      "source": [
        "def model_39():\n",
        "  model = keras.Sequential([\n",
        "    keras.layers.Dense(39, activation='relu', input_shape=[78]),\n",
        "    keras.layers.Dense(1, activation='sigmoid'),\n",
        "  ])\n",
        "\n",
        "  model.compile(loss='binary_crossentropy',\n",
        "                optimizer='adam',\n",
        "                metrics=['accuracy'])\n",
        "\n",
        "  return model"
      ],
      "execution_count": null,
      "outputs": []
    },
    {
      "cell_type": "code",
      "metadata": {
        "id": "Kf_ntHUifUvC"
      },
      "source": [
        "def model_15():\n",
        "  model = keras.Sequential([\n",
        "    keras.layers.Dense(15, activation='relu', input_shape=[78]),\n",
        "    keras.layers.Dense(1, activation='sigmoid'),\n",
        "  ])\n",
        "\n",
        "  model.compile(loss='binary_crossentropy',\n",
        "                optimizer='adam',\n",
        "                metrics=['accuracy'])\n",
        "\n",
        "  return model"
      ],
      "execution_count": null,
      "outputs": []
    },
    {
      "cell_type": "code",
      "metadata": {
        "id": "no4OkiO2lWLL"
      },
      "source": [
        "def model_10():\n",
        "  model = keras.Sequential([\n",
        "    keras.layers.Dense(10, activation='relu', input_shape=[78]),\n",
        "    keras.layers.Dense(1, activation='sigmoid'),\n",
        "  ])\n",
        "\n",
        "  model.compile(loss='binary_crossentropy',\n",
        "                optimizer='adam',\n",
        "                metrics=['accuracy'])\n",
        "\n",
        "  return model"
      ],
      "execution_count": null,
      "outputs": []
    },
    {
      "cell_type": "code",
      "metadata": {
        "id": "wG4ZKeha0Jpj"
      },
      "source": [
        "def model_5():\n",
        "  model = keras.Sequential([\n",
        "    keras.layers.Dense(5, activation='relu', input_shape=[78]),\n",
        "    keras.layers.Dense(1, activation='sigmoid'),\n",
        "  ])\n",
        "\n",
        "  model.compile(loss='binary_crossentropy',\n",
        "                optimizer='adam',\n",
        "                metrics=['accuracy'])\n",
        "\n",
        "  return model"
      ],
      "execution_count": null,
      "outputs": []
    },
    {
      "cell_type": "markdown",
      "metadata": {
        "id": "kUpZriomOpp9"
      },
      "source": [
        "# Funções de treinamento"
      ]
    },
    {
      "cell_type": "code",
      "metadata": {
        "id": "LY0YDXBTPA8y"
      },
      "source": [
        "# Importando biblioteca\n",
        "from sklearn.model_selection import train_test_split\n",
        "from sklearn.metrics import confusion_matrix\n",
        "import math"
      ],
      "execution_count": null,
      "outputs": []
    },
    {
      "cell_type": "markdown",
      "metadata": {
        "id": "ea9d4jJpQZ2B"
      },
      "source": [
        "## Modelo binario"
      ]
    },
    {
      "cell_type": "code",
      "metadata": {
        "id": "AXHaSuxCMgIk"
      },
      "source": [
        "def binary_training(X_train, X_test, y_train, y_test, f_model):\n",
        "\n",
        "  # Instanciando modelo binario\n",
        "  model = f_model()\n",
        "  print(model.summary())\n",
        "  # Treinamento\n",
        "  history = model.fit(X_train, y_train, epochs=10)\n",
        "\n",
        "  # Avaliação\n",
        "  loss, acc = model.evaluate(X_test, y_test)\n",
        "\n",
        "  # Previsões\n",
        "  predictions = model.predict_classes(X_test)\n",
        "\n",
        "  # Matriz de Confusão\n",
        "  conf_matrix = confusion_matrix(y_test, predictions)\n",
        "\n",
        "  # ..........\n",
        "  tn, fp, fn, tp = confusion_matrix(y_test, predictions).ravel()\n",
        "\n",
        "  # Precisão\n",
        "  precision = tp / (tp+fp)\n",
        "\n",
        "  # Recall\n",
        "  recall = tp / (tp+fn)\n",
        "\n",
        "  # TNR \n",
        "  TNR = tn / (tn+fp)\n",
        "\n",
        "  # f1_score\n",
        "  f1_score = 2 * ( (precision * recall)/(precision + recall))\n",
        "\n",
        "  # MCC\n",
        "  MCC = 0\n",
        "  a,b,c,d = (tp+fp),(fn+tn),(fp+tn),(tp+fn)\n",
        "  if 0 in [a,b,c,d]:\n",
        "    MCC = (tp * tn - fp * fn)/math.sqrt(a*b*c*d)\n",
        "\n",
        "\n",
        "  return {\n",
        "      'model': model,\n",
        "      'conf_matrix': conf_matrix,\n",
        "      'history': history, \n",
        "      'evaluate': {'loss': loss, 'acc': acc},\n",
        "      'statistic': {\n",
        "          'precision': precision,\n",
        "          'recall': recall,\n",
        "          'TNR': TNR,\n",
        "          'f1_score': f1_score\n",
        "      }\n",
        "  }"
      ],
      "execution_count": null,
      "outputs": []
    },
    {
      "cell_type": "markdown",
      "metadata": {
        "id": "d8ClLPEep_Zd"
      },
      "source": [
        "## Cross Validation"
      ]
    },
    {
      "cell_type": "code",
      "metadata": {
        "id": "XThozoJTqtWS"
      },
      "source": [
        "from sklearn.model_selection import KFold"
      ],
      "execution_count": null,
      "outputs": []
    },
    {
      "cell_type": "code",
      "metadata": {
        "id": "t3lj7CxsqC3_"
      },
      "source": [
        "def cross_validation(data, label, f_model, f, n=10):\n",
        "  kf = KFold(n_splits=n)\n",
        "  info = []\n",
        "  i = 0\n",
        "  for train_index, test_index in kf.split(data):\n",
        "    X_train, X_test = data[train_index], data[test_index]\n",
        "    y_train, y_test = label[train_index], label[test_index]\n",
        "\n",
        "    i = i+1\n",
        "    print(f\"Folder {i}\\n\")\n",
        "    info.append( f(X_train, X_test, y_train, y_test, f_model) )\n",
        "\n",
        "  return info"
      ],
      "execution_count": null,
      "outputs": []
    },
    {
      "cell_type": "code",
      "metadata": {
        "id": "u-PUopOzHtnt"
      },
      "source": [
        "def save_statistic(info, filepath):\n",
        "  st = pd.DataFrame(columns=['precision', 'recall', 'TNR', 'f1_score'])\n",
        "  for model in info:\n",
        "    st = st.append(model['statistic'], ignore_index=True)\n",
        "\n",
        "  filename = filepath+'statistic.csv'\n",
        "  st.to_csv(filename, encoding='utf-8', index=False)\n"
      ],
      "execution_count": null,
      "outputs": []
    },
    {
      "cell_type": "code",
      "metadata": {
        "id": "Mbmo46oZIALz"
      },
      "source": [
        "def save_evaluate(info, filepath):\n",
        "  et = pd.DataFrame(columns=['acc', 'loss'])\n",
        "  for model in info:\n",
        "    et = et.append(model['evaluate'], ignore_index=True)\n",
        "\n",
        "  filename = filepath+'evaluate.csv'\n",
        "  et.to_csv(filename,encoding='utf-8', index=False)\n"
      ],
      "execution_count": null,
      "outputs": []
    },
    {
      "cell_type": "code",
      "metadata": {
        "id": "R_p8S1Z5zNHx"
      },
      "source": [
        "def save_confusion_matrix(info, filepath):\n",
        "  cm = 'CONFUSION MATRIX\\n'\n",
        "  i = 0\n",
        "  for model in info:\n",
        "    i += 1\n",
        "    m = model['conf_matrix'].tolist()\n",
        "    cm += f'FOLDER {str(i)}\\n'\n",
        "    cm += f',BEGIN,INTRUSION\\n'\n",
        "    cm += f'BEGIN,{str(m[0][0])},{str(m[0][1])}\\n'\n",
        "    cm += f'INTRUSION,{str(m[1][0])},{str(m[1][1])}\\n\\n'\n",
        "\n",
        "  filename = filepath+'confusion_matrix.csv'\n",
        "  with open(filename, 'w') as f:\n",
        "    f.write(cm)"
      ],
      "execution_count": null,
      "outputs": []
    },
    {
      "cell_type": "code",
      "metadata": {
        "id": "oKvx7VVAHMNl"
      },
      "source": [
        "def save_history(info, filepath):\n",
        "  hs = list(map(lambda x: x['history'].history, info))\n",
        "  df = pd.DataFrame()\n",
        "  i = 0\n",
        "  for h in hs:\n",
        "    i += 1\n",
        "    for key, value in h.items():\n",
        "      df[f'FOLDER{i}-{key}'] = value\n",
        "\n",
        "  filename = filepath+'history.csv'\n",
        "  df.to_csv(filename,encoding='utf-8', index=False)"
      ],
      "execution_count": null,
      "outputs": []
    },
    {
      "cell_type": "code",
      "metadata": {
        "id": "0B2QmBsvN1-O"
      },
      "source": [
        "def save_model(info, filepath):\n",
        "  models = list(map(lambda x: x['model'], info))\n",
        "\n",
        "  for x in range(1, len(models)+1):\n",
        "    filename = filepath + f'model-{x}'\n",
        "    models[x].save(filename)"
      ],
      "execution_count": null,
      "outputs": []
    },
    {
      "cell_type": "code",
      "metadata": {
        "id": "CYpwIi1tyyPi"
      },
      "source": [
        "def salve(info, filepath='training/'):\n",
        "  save_statistic(info, filepath)\n",
        "  save_evaluate(info, filepath)\n",
        "  save_confusion_matrix(info, filepath)\n",
        "  save_history(info, filepath)\n",
        "  save_model(info, filepath)"
      ],
      "execution_count": null,
      "outputs": []
    },
    {
      "cell_type": "markdown",
      "metadata": {
        "id": "G6IwV-xFO1s4"
      },
      "source": [
        "# Treinamento"
      ]
    },
    {
      "cell_type": "markdown",
      "metadata": {
        "id": "RutNNzUGQCQ0"
      },
      "source": [
        "## Dataset-Modelo-156"
      ]
    },
    {
      "cell_type": "code",
      "metadata": {
        "id": "nWDooS7A1AOf"
      },
      "source": [
        "info = cross_validation(dataset.values, binary_label, model_156, binary_training)"
      ],
      "execution_count": null,
      "outputs": []
    },
    {
      "cell_type": "code",
      "metadata": {
        "id": "NGv_BvqTTUDD"
      },
      "source": [
        "!mkdir dataset_model_156"
      ],
      "execution_count": null,
      "outputs": []
    },
    {
      "cell_type": "code",
      "metadata": {
        "id": "I21NXyQf-Rif"
      },
      "source": [
        "salve(info, 'dataset_model_156/')"
      ],
      "execution_count": null,
      "outputs": []
    },
    {
      "cell_type": "code",
      "metadata": {
        "id": "Obng_QdVb5GA"
      },
      "source": [
        "!zip -r dataset_model_156.zip dataset_model_156/"
      ],
      "execution_count": null,
      "outputs": []
    },
    {
      "cell_type": "markdown",
      "metadata": {
        "id": "vvT2c77VQTGG"
      },
      "source": [
        "## Dataset-Modelo-78"
      ]
    },
    {
      "cell_type": "code",
      "metadata": {
        "id": "mk8SX4C6QYks"
      },
      "source": [
        "info = cross_validation(dataset.values, binary_label, model_78, binary_training)"
      ],
      "execution_count": null,
      "outputs": []
    },
    {
      "cell_type": "code",
      "metadata": {
        "id": "KwBMIgX_Qebb"
      },
      "source": [
        "!mkdir dataset_model_78"
      ],
      "execution_count": null,
      "outputs": []
    },
    {
      "cell_type": "code",
      "metadata": {
        "id": "NzmS29UxQhiP"
      },
      "source": [
        "salve(info, 'dataset_model_78/')"
      ],
      "execution_count": null,
      "outputs": []
    },
    {
      "cell_type": "code",
      "metadata": {
        "id": "cr4nPiJ1Qihd"
      },
      "source": [
        "!zip -r dataset_model_78.zip dataset_model_78/"
      ],
      "execution_count": null,
      "outputs": []
    },
    {
      "cell_type": "markdown",
      "metadata": {
        "id": "svwQRbGdQqeW"
      },
      "source": [
        "## Dataset-Modelo-39"
      ]
    },
    {
      "cell_type": "code",
      "metadata": {
        "id": "HGycIgySQuVQ"
      },
      "source": [
        "info = cross_validation(dataset.values, binary_label, model_39, binary_training)"
      ],
      "execution_count": null,
      "outputs": []
    },
    {
      "cell_type": "code",
      "metadata": {
        "id": "I2tsqMGrQzdR"
      },
      "source": [
        "!mkdir dataset_model_39"
      ],
      "execution_count": null,
      "outputs": []
    },
    {
      "cell_type": "code",
      "metadata": {
        "id": "CAZ6J75MQzn9"
      },
      "source": [
        "salve(info, 'dataset_model_39/')"
      ],
      "execution_count": null,
      "outputs": []
    },
    {
      "cell_type": "code",
      "metadata": {
        "id": "-DYpxpL6Qztk"
      },
      "source": [
        "!zip -r dataset_model_39.zip dataset_model_39/"
      ],
      "execution_count": null,
      "outputs": []
    },
    {
      "cell_type": "markdown",
      "metadata": {
        "id": "A7xmcC4vH3OL"
      },
      "source": [
        "## Dataset-Modelo-15"
      ]
    },
    {
      "cell_type": "code",
      "metadata": {
        "id": "AhBOvu0GH_le"
      },
      "source": [
        "info = cross_validation(dataset.values, binary_label, model_15, binary_training)"
      ],
      "execution_count": null,
      "outputs": []
    },
    {
      "cell_type": "code",
      "metadata": {
        "id": "G51rHuDVIFCp"
      },
      "source": [
        "!mkdir dataset_model_15"
      ],
      "execution_count": null,
      "outputs": []
    },
    {
      "cell_type": "code",
      "metadata": {
        "id": "mNWfzpr5IMMK"
      },
      "source": [
        "salve(info, 'dataset_model_15/')"
      ],
      "execution_count": null,
      "outputs": []
    },
    {
      "cell_type": "code",
      "metadata": {
        "id": "WhhWurI9IRb2"
      },
      "source": [
        "!zip -r dataset_model_15.zip dataset_model_15/"
      ],
      "execution_count": null,
      "outputs": []
    },
    {
      "cell_type": "markdown",
      "metadata": {
        "id": "97GEfgnMlrGd"
      },
      "source": [
        "## Dataset-Modelo-10"
      ]
    },
    {
      "cell_type": "code",
      "metadata": {
        "id": "vP6EWBEklumT"
      },
      "source": [
        "info = cross_validation(dataset.values, binary_label, model_10, binary_training)"
      ],
      "execution_count": null,
      "outputs": []
    },
    {
      "cell_type": "code",
      "metadata": {
        "id": "iof9lMh1lzp4"
      },
      "source": [
        "!mkdir dataset_model_10"
      ],
      "execution_count": null,
      "outputs": []
    },
    {
      "cell_type": "code",
      "metadata": {
        "id": "Ffk-u-iFl1PV"
      },
      "source": [
        "salve(info, 'dataset_model_10/')"
      ],
      "execution_count": null,
      "outputs": []
    },
    {
      "cell_type": "code",
      "metadata": {
        "id": "gr3_Xcf5l2e_"
      },
      "source": [
        "!zip -r dataset_model_10.zip dataset_model_10/"
      ],
      "execution_count": null,
      "outputs": []
    },
    {
      "cell_type": "markdown",
      "metadata": {
        "id": "6yqOt5Ko0WET"
      },
      "source": [
        "## Dataset-Modelo-5"
      ]
    },
    {
      "cell_type": "code",
      "metadata": {
        "id": "1t7KyiqEmCJ_"
      },
      "source": [
        "info = cross_validation(dataset.values, binary_label, model_5, binary_training)"
      ],
      "execution_count": null,
      "outputs": []
    },
    {
      "cell_type": "code",
      "metadata": {
        "id": "Pwf_zRRM0eQZ"
      },
      "source": [
        "!mkdir dataset_model_5"
      ],
      "execution_count": null,
      "outputs": []
    },
    {
      "cell_type": "code",
      "metadata": {
        "id": "IDfSoip40hXR"
      },
      "source": [
        "salve(info, 'dataset_model_5/')"
      ],
      "execution_count": null,
      "outputs": []
    },
    {
      "cell_type": "code",
      "metadata": {
        "id": "gJDPf6aK0jIf"
      },
      "source": [
        "!zip -r dataset_model_5.zip dataset_model_5/"
      ],
      "execution_count": null,
      "outputs": []
    },
    {
      "cell_type": "markdown",
      "metadata": {
        "id": "d64ZHC8cEdhG"
      },
      "source": [
        "# Estratégia OneVsAll"
      ]
    },
    {
      "cell_type": "code",
      "metadata": {
        "id": "p8usSXGnExz1"
      },
      "source": [
        "# Importar estratégia\n",
        "from sklearn.multiclass import OneVsRestClassifier\n",
        "# Importar MLP\n",
        "from sklearn.neural_network import MLPClassifier"
      ],
      "execution_count": null,
      "outputs": []
    },
    {
      "cell_type": "code",
      "metadata": {
        "id": "1w-PU97eE_1D"
      },
      "source": [
        "mlpClassifier = MLPClassifier(solver='lbfgs', alpha=1e-5, hidden_layer_sizes=(100, 1), random_state=1)"
      ],
      "execution_count": null,
      "outputs": []
    },
    {
      "cell_type": "code",
      "metadata": {
        "id": "Ub_jOpxDIdpR"
      },
      "source": [
        "mlpClassifier.fit(dataset.values,multiclass_label)"
      ],
      "execution_count": null,
      "outputs": []
    }
  ]
}