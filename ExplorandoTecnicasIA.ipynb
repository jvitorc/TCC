{
  "nbformat": 4,
  "nbformat_minor": 0,
  "metadata": {
    "colab": {
      "provenance": [],
      "collapsed_sections": [],
      "toc_visible": true,
      "include_colab_link": true
    },
    "kernelspec": {
      "display_name": "Python 3",
      "name": "python3"
    },
    "language_info": {
      "codemirror_mode": {
        "name": "ipython",
        "version": 3
      },
      "file_extension": ".py",
      "mimetype": "text/x-python",
      "name": "python",
      "nbconvert_exporter": "python",
      "pygments_lexer": "ipython3",
      "version": "3.7.5"
    }
  },
  "cells": [
    {
      "cell_type": "markdown",
      "metadata": {
        "id": "view-in-github",
        "colab_type": "text"
      },
      "source": [
        "<a href=\"https://colab.research.google.com/github/jvitorc/TCC/blob/main/ExplorandoTecnicasIA.ipynb\" target=\"_parent\"><img src=\"https://colab.research.google.com/assets/colab-badge.svg\" alt=\"Open In Colab\"/></a>"
      ]
    },
    {
      "cell_type": "markdown",
      "metadata": {
        "id": "1LKKi4HAzVt-"
      },
      "source": [
        "#### *João Vitor Cardoso <2021>*"
      ]
    },
    {
      "cell_type": "markdown",
      "metadata": {
        "id": "BVFEcb74zVuD"
      },
      "source": [
        "# **Explorando Tecnicas de IA para Deteção de Intrusão**"
      ]
    },
    {
      "cell_type": "markdown",
      "metadata": {
        "id": "3-Zr7u2OBdvM"
      },
      "source": [
        "  Usando a base [CSE-CIC-IDS2018](https://www.unb.ca/cic/datasets/ids-2018.html) para detecção de intrusão com redes neurais e outras tecnicas de IA"
      ]
    },
    {
      "cell_type": "code",
      "metadata": {
        "id": "CXong3FbX7HL"
      },
      "source": [
        "!lscpu"
      ],
      "execution_count": null,
      "outputs": []
    },
    {
      "cell_type": "code",
      "metadata": {
        "id": "b-3uqiw7YdDc"
      },
      "source": [
        "!free"
      ],
      "execution_count": null,
      "outputs": []
    },
    {
      "cell_type": "code",
      "metadata": {
        "id": "loNGEUsCYtan"
      },
      "source": [
        "!lsb_release -a"
      ],
      "execution_count": null,
      "outputs": []
    },
    {
      "cell_type": "code",
      "metadata": {
        "id": "M8CKnEJ1anPq",
        "outputId": "075c4e39-0e17-435b-8fc4-8567c5cbe153",
        "colab": {
          "base_uri": "https://localhost:8080/"
        }
      },
      "source": [
        "!python --version"
      ],
      "execution_count": null,
      "outputs": [
        {
          "output_type": "stream",
          "text": [
            "Python 3.7.10\n"
          ],
          "name": "stdout"
        }
      ]
    },
    {
      "cell_type": "markdown",
      "metadata": {
        "id": "ORrj_QgPzqf3"
      },
      "source": [
        "## Baixando Base da Dados"
      ]
    },
    {
      "cell_type": "markdown",
      "metadata": {
        "id": "uGqd-ZzD5k-2"
      },
      "source": [
        "#### Baixando awc-cli"
      ]
    },
    {
      "cell_type": "code",
      "metadata": {
        "id": "RFHm6zkhz02c"
      },
      "source": [
        "!curl \"https://awscli.amazonaws.com/awscli-exe-linux-x86_64.zip\" -o \"awscliv2.zip\"\n",
        "!unzip awscliv2.zip\n",
        "!sudo ./aws/install"
      ],
      "execution_count": null,
      "outputs": []
    },
    {
      "cell_type": "markdown",
      "metadata": {
        "id": "BJxsnkGd5rpT"
      },
      "source": [
        "#### Baixando CSV de ataques DOS"
      ]
    },
    {
      "cell_type": "code",
      "metadata": {
        "id": "Qqj79-lR2Wfz"
      },
      "source": [
        "!aws s3 sync --no-sign-request --region sa-east-1 \"s3://cse-cic-ids2018/Processed Traffic Data for ML Algorithms\" \"./CSE-CIC-IDS2018\""
      ],
      "execution_count": null,
      "outputs": []
    },
    {
      "cell_type": "code",
      "metadata": {
        "id": "543p2ZTRYbUv"
      },
      "source": [
        "!ls -l --block-size=M \"CSE-CIC-IDS2018\""
      ],
      "execution_count": null,
      "outputs": []
    },
    {
      "cell_type": "markdown",
      "metadata": {
        "id": "i9jERw_GeI1h"
      },
      "source": [
        "## Conectar com o drive"
      ]
    },
    {
      "cell_type": "code",
      "metadata": {
        "id": "KYtJ62jI1cc9"
      },
      "source": [
        "from google.colab import drive\n",
        "drive.mount('/content/drive')"
      ],
      "execution_count": null,
      "outputs": []
    },
    {
      "cell_type": "markdown",
      "metadata": {
        "id": "iojCuqpVzVuF"
      },
      "source": [
        "## Importando Bibliotecas"
      ]
    },
    {
      "cell_type": "code",
      "metadata": {
        "id": "Rnypr__BzVuH"
      },
      "source": [
        "import os\n",
        "import pandas as pd\n",
        "import numpy as np\n",
        "import tensorflow as tf\n",
        "from tensorflow import  keras\n",
        "import matplotlib.pyplot as plt\n",
        "from sklearn.multiclass import OneVsRestClassifier\n",
        "from sklearn.neural_network import MLPClassifier"
      ],
      "execution_count": null,
      "outputs": []
    },
    {
      "cell_type": "markdown",
      "metadata": {
        "id": "TURl6Oa3zVuN"
      },
      "source": [
        "# Tratar base para 10%"
      ]
    },
    {
      "cell_type": "markdown",
      "metadata": {
        "id": "4Woenr4-zVuO"
      },
      "source": [
        "### Carregando dados e salvar dados"
      ]
    },
    {
      "cell_type": "code",
      "metadata": {
        "id": "Is7HzUdQQIMg"
      },
      "source": [
        "FILEPATH = 'CSE-CIC-IDS2018/'"
      ],
      "execution_count": null,
      "outputs": []
    },
    {
      "cell_type": "code",
      "metadata": {
        "id": "hRV-3gv5PZCQ"
      },
      "source": [
        "def carregar_arquivos(filename):\n",
        "  data = pd.read_csv(FILEPATH + filename)\n",
        "  data = data[data['Protocol'] != 'Protocol']\n",
        "  target = data.pop('Label')\n",
        "  timestamp = data.pop('Timestamp')\n",
        "  data = data.apply(pd.to_numeric)\n",
        "  data['Label'] = target\n",
        "  return data\n"
      ],
      "execution_count": null,
      "outputs": []
    },
    {
      "cell_type": "code",
      "metadata": {
        "id": "utmY7hpOvS6h"
      },
      "source": [
        "from sklearn.model_selection import train_test_split\n",
        "\n",
        "CONJUNTO_10 = '/content/drive/MyDrive/UFSC/TCC/Arquivos/ids2018/conjunto10/'\n",
        "def separar_salvar(dataset, name):\n",
        "  dataset.to_csv(CONJUNTO_10 + name + '.csv', encoding='utf-8', index=False)"
      ],
      "execution_count": null,
      "outputs": []
    },
    {
      "cell_type": "markdown",
      "metadata": {
        "id": "AzpQdXwDtc2e"
      },
      "source": [
        "## Wednesday 14/02/2018 - Brute Force (FTP-BruteForce, SSH-BruteForce)"
      ]
    },
    {
      "cell_type": "code",
      "metadata": {
        "id": "KXApiSTyNMFi"
      },
      "source": [
        "dataset = carregar_arquivos('Wednesday-14-02-2018_TrafficForML_CICFlowMeter.csv')\n",
        "dataset['Label'] = dataset['Label'].replace('SSH-Bruteforce', 'Brute Force')\n",
        "dataset['Label'] = dataset['Label'].replace('FTP-BruteForce', 'Brute Force')"
      ],
      "execution_count": null,
      "outputs": []
    },
    {
      "cell_type": "code",
      "metadata": {
        "id": "kwIHYYKotigw",
        "colab": {
          "base_uri": "https://localhost:8080/"
        },
        "outputId": "c822dd9c-48ca-40df-ef7e-99f0b59fe798"
      },
      "source": [
        "dataset['Label'].value_counts()"
      ],
      "execution_count": null,
      "outputs": [
        {
          "output_type": "execute_result",
          "data": {
            "text/plain": [
              "Benign         667626\n",
              "Brute Force    380949\n",
              "Name: Label, dtype: int64"
            ]
          },
          "metadata": {
            "tags": []
          },
          "execution_count": 22
        }
      ]
    },
    {
      "cell_type": "code",
      "metadata": {
        "id": "VCaC7928tk61"
      },
      "source": [
        "target = dataset.pop('Label')\n",
        "\n",
        "X_train, X_test, y_train, y_test = train_test_split(dataset, target, test_size=0.10, random_state=42, stratify=target) "
      ],
      "execution_count": null,
      "outputs": []
    },
    {
      "cell_type": "code",
      "metadata": {
        "id": "so4h8DqKuUiJ",
        "colab": {
          "base_uri": "https://localhost:8080/"
        },
        "outputId": "2509c6e8-6b13-41be-c86b-e5e78c762dd7"
      },
      "source": [
        "X_train.shape, y_train.shape, X_test.shape, y_test.shape "
      ],
      "execution_count": null,
      "outputs": [
        {
          "output_type": "execute_result",
          "data": {
            "text/plain": [
              "((943717, 78), (943717,), (104858, 78), (104858,))"
            ]
          },
          "metadata": {
            "tags": []
          },
          "execution_count": 24
        }
      ]
    },
    {
      "cell_type": "code",
      "metadata": {
        "id": "N9ryd348vaxt"
      },
      "source": [
        "X_test[\"Label\"] = y_test.values\n",
        "\n",
        "separar_salvar(X_test, 'brute_force')"
      ],
      "execution_count": null,
      "outputs": []
    },
    {
      "cell_type": "markdown",
      "metadata": {
        "id": "hIJ7HhFjvADu"
      },
      "source": [
        "## Friday 02/03/2018 - Bot"
      ]
    },
    {
      "cell_type": "code",
      "metadata": {
        "id": "BVQgmw9DxO22"
      },
      "source": [
        "dataset = carregar_arquivos('Friday-02-03-2018_TrafficForML_CICFlowMeter.csv')"
      ],
      "execution_count": null,
      "outputs": []
    },
    {
      "cell_type": "code",
      "metadata": {
        "id": "a48iUY0VxO23",
        "colab": {
          "base_uri": "https://localhost:8080/"
        },
        "outputId": "d553675d-532e-468a-f1c7-135211118dfb"
      },
      "source": [
        "dataset['Label'].value_counts()"
      ],
      "execution_count": null,
      "outputs": [
        {
          "output_type": "execute_result",
          "data": {
            "text/plain": [
              "Benign    762384\n",
              "Bot       286191\n",
              "Name: Label, dtype: int64"
            ]
          },
          "metadata": {
            "tags": []
          },
          "execution_count": 27
        }
      ]
    },
    {
      "cell_type": "code",
      "metadata": {
        "id": "Azf5BSUMxO24"
      },
      "source": [
        "target = dataset.pop('Label')\n",
        "\n",
        "X_train, X_test, y_train, y_test = train_test_split(dataset, target, test_size=0.10, random_state=42, stratify=target) "
      ],
      "execution_count": null,
      "outputs": []
    },
    {
      "cell_type": "code",
      "metadata": {
        "id": "4NDOAoOSxO25",
        "colab": {
          "base_uri": "https://localhost:8080/"
        },
        "outputId": "8dd9fa50-a049-4ef9-8fbd-3b855d201a45"
      },
      "source": [
        "X_train.shape, y_train.shape, X_test.shape, y_test.shape "
      ],
      "execution_count": null,
      "outputs": [
        {
          "output_type": "execute_result",
          "data": {
            "text/plain": [
              "((943717, 78), (943717,), (104858, 78), (104858,))"
            ]
          },
          "metadata": {
            "tags": []
          },
          "execution_count": 29
        }
      ]
    },
    {
      "cell_type": "code",
      "metadata": {
        "id": "zmky8iMXxO25"
      },
      "source": [
        "X_test[\"Label\"] = y_test.values\n",
        "\n",
        "separar_salvar(X_test, 'bot')"
      ],
      "execution_count": null,
      "outputs": []
    },
    {
      "cell_type": "markdown",
      "metadata": {
        "id": "fcW-GpT7xu1F"
      },
      "source": [
        "## Wed 28/02/2018 and Thursday 01/03/2018- Infiltration"
      ]
    },
    {
      "cell_type": "code",
      "metadata": {
        "id": "VbcmDQ_Nxu1G"
      },
      "source": [
        "dataset = carregar_arquivos('Thursday-01-03-2018_TrafficForML_CICFlowMeter.csv')\n",
        "dataset = dataset.append(carregar_arquivos('Wednesday-28-02-2018_TrafficForML_CICFlowMeter.csv'), ignore_index=False)"
      ],
      "execution_count": null,
      "outputs": []
    },
    {
      "cell_type": "code",
      "metadata": {
        "id": "cU7Px3CFxu1H",
        "colab": {
          "base_uri": "https://localhost:8080/"
        },
        "outputId": "315956b5-b341-4bc0-f526-d8fd837178fc"
      },
      "source": [
        "dataset['Label'].value_counts()"
      ],
      "execution_count": null,
      "outputs": [
        {
          "output_type": "execute_result",
          "data": {
            "text/plain": [
              "Benign           782237\n",
              "Infilteration    161934\n",
              "Name: Label, dtype: int64"
            ]
          },
          "metadata": {
            "tags": []
          },
          "execution_count": 32
        }
      ]
    },
    {
      "cell_type": "code",
      "metadata": {
        "id": "ApCcGDGixu1J"
      },
      "source": [
        "target = dataset.pop('Label')\n",
        "\n",
        "X_train, X_test, y_train, y_test = train_test_split(dataset, target, test_size=0.10, random_state=42, stratify=target) "
      ],
      "execution_count": null,
      "outputs": []
    },
    {
      "cell_type": "code",
      "metadata": {
        "id": "EqWqY0f-xu1K",
        "colab": {
          "base_uri": "https://localhost:8080/"
        },
        "outputId": "48fc7ba1-14c0-4ed4-ae30-ceaca737cc5d"
      },
      "source": [
        "X_train.shape, y_train.shape, X_test.shape, y_test.shape "
      ],
      "execution_count": null,
      "outputs": [
        {
          "output_type": "execute_result",
          "data": {
            "text/plain": [
              "((849753, 78), (849753,), (94418, 78), (94418,))"
            ]
          },
          "metadata": {
            "tags": []
          },
          "execution_count": 34
        }
      ]
    },
    {
      "cell_type": "code",
      "metadata": {
        "id": "tO_3pPt4xu1M"
      },
      "source": [
        "X_test[\"Label\"] = y_test.values\n",
        "\n",
        "separar_salvar(X_test, 'infiltration')"
      ],
      "execution_count": null,
      "outputs": []
    },
    {
      "cell_type": "markdown",
      "metadata": {
        "id": "0YWDwiZBy4sK"
      },
      "source": [
        "## Fri 23/02/2018 and \tThurs 22/02/2018 - Web Attack (Brute Force -Web, Brute Force -XSS, SQL Injection)"
      ]
    },
    {
      "cell_type": "code",
      "metadata": {
        "id": "78pn_FRAy4sd"
      },
      "source": [
        "dataset = carregar_arquivos('Friday-23-02-2018_TrafficForML_CICFlowMeter.csv')\n",
        "dataset = dataset.append(carregar_arquivos('Thursday-22-02-2018_TrafficForML_CICFlowMeter.csv'), ignore_index=False)"
      ],
      "execution_count": null,
      "outputs": []
    },
    {
      "cell_type": "code",
      "metadata": {
        "id": "1ek2Wsqhy4sf",
        "colab": {
          "base_uri": "https://localhost:8080/"
        },
        "outputId": "9e5a33b2-654f-41a1-8ebf-7dbaac6f4d1f"
      },
      "source": [
        "dataset['Label'].value_counts()"
      ],
      "execution_count": null,
      "outputs": [
        {
          "output_type": "execute_result",
          "data": {
            "text/plain": [
              "Benign              2096222\n",
              "Brute Force -Web        611\n",
              "Brute Force -XSS        230\n",
              "SQL Injection            87\n",
              "Name: Label, dtype: int64"
            ]
          },
          "metadata": {
            "tags": []
          },
          "execution_count": 37
        }
      ]
    },
    {
      "cell_type": "code",
      "metadata": {
        "id": "eMYsmxmhzvWy"
      },
      "source": [
        "dataset['Label'] = dataset['Label'].replace('Brute Force -Web', 'Web Attack')\n",
        "dataset['Label'] = dataset['Label'].replace('Brute Force -XSS', 'Web Attack')\n",
        "dataset['Label'] = dataset['Label'].replace('SQL Injection', 'Web Attack')"
      ],
      "execution_count": null,
      "outputs": []
    },
    {
      "cell_type": "code",
      "metadata": {
        "id": "-e3rl0S7z6EQ",
        "colab": {
          "base_uri": "https://localhost:8080/"
        },
        "outputId": "1caf0dd0-bb56-4d62-f304-443056c5a4bc"
      },
      "source": [
        "dataset['Label'].value_counts()"
      ],
      "execution_count": null,
      "outputs": [
        {
          "output_type": "execute_result",
          "data": {
            "text/plain": [
              "Benign        2096222\n",
              "Web Attack        928\n",
              "Name: Label, dtype: int64"
            ]
          },
          "metadata": {
            "tags": []
          },
          "execution_count": 39
        }
      ]
    },
    {
      "cell_type": "code",
      "metadata": {
        "id": "0C5wt5gEy4sf"
      },
      "source": [
        "target = dataset.pop('Label')\n",
        "\n",
        "X_train, X_test, y_train, y_test = train_test_split(dataset, target, test_size=0.10, random_state=42, stratify=target) "
      ],
      "execution_count": null,
      "outputs": []
    },
    {
      "cell_type": "code",
      "metadata": {
        "id": "s0YVD8Ohy4sg",
        "colab": {
          "base_uri": "https://localhost:8080/"
        },
        "outputId": "5253dc45-e95b-4217-e2be-4b3069dfba8c"
      },
      "source": [
        "X_train.shape, y_train.shape, X_test.shape, y_test.shape "
      ],
      "execution_count": null,
      "outputs": [
        {
          "output_type": "execute_result",
          "data": {
            "text/plain": [
              "((1887435, 78), (1887435,), (209715, 78), (209715,))"
            ]
          },
          "metadata": {
            "tags": []
          },
          "execution_count": 41
        }
      ]
    },
    {
      "cell_type": "code",
      "metadata": {
        "id": "HkTC075Vy4sg"
      },
      "source": [
        "X_test[\"Label\"] = y_test.values\n",
        "\n",
        "separar_salvar(X_test, 'web')"
      ],
      "execution_count": null,
      "outputs": []
    },
    {
      "cell_type": "markdown",
      "metadata": {
        "id": "tZDvh8s_0BMK"
      },
      "source": [
        "## Wed 21/02/2018 and \tTues 20/02/2018 - DDOS (LOIC-HTTP, LOIC-UDP, HOIC)"
      ]
    },
    {
      "cell_type": "code",
      "metadata": {
        "id": "NiixmcFcRVk8",
        "colab": {
          "base_uri": "https://localhost:8080/"
        },
        "outputId": "855176e2-6978-4f14-ea8f-145fc3b8c8a8"
      },
      "source": [
        "filename = 'CSE-CIC-IDS2018/Thuesday-20-02-2018_TrafficForML_CICFlowMeter.csv'\n",
        "\n",
        "with open(filename) as f:\n",
        "    quantidade_linhas = sum(1 for line in f)\n",
        "\n",
        "print(quantidade_linhas)"
      ],
      "execution_count": null,
      "outputs": [
        {
          "output_type": "stream",
          "text": [
            "7948749\n"
          ],
          "name": "stdout"
        }
      ]
    },
    {
      "cell_type": "markdown",
      "metadata": {
        "id": "VW39_rP9gULI"
      },
      "source": [
        "### Verificar diferença de colunas"
      ]
    },
    {
      "cell_type": "code",
      "metadata": {
        "id": "infJ648VeLbI",
        "colab": {
          "base_uri": "https://localhost:8080/"
        },
        "outputId": "5b8281d3-f403-415f-9b32-36dd46d54e2f"
      },
      "source": [
        "tamanho_conjunto = 300\n",
        "data = pd.read_csv(filename, nrows=tamanho_conjunto)\n",
        "\n",
        "print(data.shape)\n",
        "\n",
        "header = []\n",
        "for col in data.columns:\n",
        "    header.append(col)\n",
        "    \n",
        "print(header)"
      ],
      "execution_count": null,
      "outputs": [
        {
          "output_type": "stream",
          "text": [
            "(300, 84)\n",
            "['Flow ID', 'Src IP', 'Src Port', 'Dst IP', 'Dst Port', 'Protocol', 'Timestamp', 'Flow Duration', 'Tot Fwd Pkts', 'Tot Bwd Pkts', 'TotLen Fwd Pkts', 'TotLen Bwd Pkts', 'Fwd Pkt Len Max', 'Fwd Pkt Len Min', 'Fwd Pkt Len Mean', 'Fwd Pkt Len Std', 'Bwd Pkt Len Max', 'Bwd Pkt Len Min', 'Bwd Pkt Len Mean', 'Bwd Pkt Len Std', 'Flow Byts/s', 'Flow Pkts/s', 'Flow IAT Mean', 'Flow IAT Std', 'Flow IAT Max', 'Flow IAT Min', 'Fwd IAT Tot', 'Fwd IAT Mean', 'Fwd IAT Std', 'Fwd IAT Max', 'Fwd IAT Min', 'Bwd IAT Tot', 'Bwd IAT Mean', 'Bwd IAT Std', 'Bwd IAT Max', 'Bwd IAT Min', 'Fwd PSH Flags', 'Bwd PSH Flags', 'Fwd URG Flags', 'Bwd URG Flags', 'Fwd Header Len', 'Bwd Header Len', 'Fwd Pkts/s', 'Bwd Pkts/s', 'Pkt Len Min', 'Pkt Len Max', 'Pkt Len Mean', 'Pkt Len Std', 'Pkt Len Var', 'FIN Flag Cnt', 'SYN Flag Cnt', 'RST Flag Cnt', 'PSH Flag Cnt', 'ACK Flag Cnt', 'URG Flag Cnt', 'CWE Flag Count', 'ECE Flag Cnt', 'Down/Up Ratio', 'Pkt Size Avg', 'Fwd Seg Size Avg', 'Bwd Seg Size Avg', 'Fwd Byts/b Avg', 'Fwd Pkts/b Avg', 'Fwd Blk Rate Avg', 'Bwd Byts/b Avg', 'Bwd Pkts/b Avg', 'Bwd Blk Rate Avg', 'Subflow Fwd Pkts', 'Subflow Fwd Byts', 'Subflow Bwd Pkts', 'Subflow Bwd Byts', 'Init Fwd Win Byts', 'Init Bwd Win Byts', 'Fwd Act Data Pkts', 'Fwd Seg Size Min', 'Active Mean', 'Active Std', 'Active Max', 'Active Min', 'Idle Mean', 'Idle Std', 'Idle Max', 'Idle Min', 'Label']\n"
          ],
          "name": "stdout"
        }
      ]
    },
    {
      "cell_type": "code",
      "metadata": {
        "id": "YTnFrhgiJA2_"
      },
      "source": [
        "data_aux = pd.read_csv('CSE-CIC-IDS2018/Wednesday-21-02-2018_TrafficForML_CICFlowMeter.csv')\n",
        "print(data_aux.shape)\n",
        "header_aux = []\n",
        "for col in data_aux.columns:\n",
        "    header_aux.append(col)\n",
        "\n",
        "print(header_aux)"
      ],
      "execution_count": null,
      "outputs": []
    },
    {
      "cell_type": "markdown",
      "metadata": {
        "id": "wgWkRG3hLe7M"
      },
      "source": [
        "tem que remover as colunas do arquivo Thuesday-20-02-2018_TrafficForML_CICFlowMeter\n",
        "\n",
        "'Flow ID'\n",
        "\n",
        "'Src IP'\n",
        "\n",
        "'Src Port'\n",
        "\n",
        "'Dst IP'\n",
        "\n"
      ]
    },
    {
      "cell_type": "markdown",
      "metadata": {
        "id": "SxMf-2_XL8me"
      },
      "source": [
        "### Linhas ate 3000000"
      ]
    },
    {
      "cell_type": "code",
      "metadata": {
        "id": "KenHdGSLMHQG",
        "colab": {
          "base_uri": "https://localhost:8080/"
        },
        "outputId": "f02bb6e8-f6ed-4ef8-bca9-b8f4df3581af"
      },
      "source": [
        "tamanho_conjunto = 3000000\n",
        "filename = 'CSE-CIC-IDS2018/Thuesday-20-02-2018_TrafficForML_CICFlowMeter.csv'\n",
        "data = pd.read_csv(filename, nrows=tamanho_conjunto)\n",
        "\n",
        "header = []\n",
        "for col in data.columns:\n",
        "    header.append(col)\n",
        "\n",
        "print(data.shape)\n",
        "\n",
        "data = data[data['Protocol'] != 'Protocol']\n",
        "target = data.pop('Label')\n",
        "timestamp = data.pop('Timestamp')\n",
        "timestamp = data.pop('Flow ID')\n",
        "timestamp = data.pop('Src IP')\n",
        "timestamp = data.pop('Src Port')\n",
        "timestamp = data.pop('Dst IP')\n",
        "data = data.apply(pd.to_numeric)\n",
        "data['Label'] = target\n",
        "print(data.shape)\n"
      ],
      "execution_count": null,
      "outputs": [
        {
          "output_type": "stream",
          "text": [
            "(3000000, 84)\n",
            "(3000000, 79)\n"
          ],
          "name": "stdout"
        }
      ]
    },
    {
      "cell_type": "code",
      "metadata": {
        "id": "4fiEZ9z4uheD",
        "colab": {
          "base_uri": "https://localhost:8080/"
        },
        "outputId": "ad91344c-f1ee-4f43-9176-57744911c1b9"
      },
      "source": [
        "data['Label'].value_counts()"
      ],
      "execution_count": null,
      "outputs": [
        {
          "output_type": "execute_result",
          "data": {
            "text/plain": [
              "Benign                    2423809\n",
              "DDoS attacks-LOIC-HTTP     576191\n",
              "Name: Label, dtype: int64"
            ]
          },
          "metadata": {
            "tags": []
          },
          "execution_count": 47
        }
      ]
    },
    {
      "cell_type": "code",
      "metadata": {
        "id": "22C7UdDiuho4",
        "colab": {
          "base_uri": "https://localhost:8080/"
        },
        "outputId": "12b2ba9c-b81f-4269-a037-d19b5599ce87"
      },
      "source": [
        "target = data.pop('Label')\n",
        "X_train, X_test, y_train, y_test = train_test_split(data, target, test_size=0.10, random_state=42, stratify=target) \n",
        "\n",
        "X_test['Label'] = y_test.values\n",
        "X_test['Label'].value_counts()\n",
        "\n",
        "separar_salvar(X_test, 'ddos1')"
      ],
      "execution_count": null,
      "outputs": [
        {
          "output_type": "stream",
          "text": [
            "/usr/local/lib/python3.7/dist-packages/ipykernel_launcher.py:4: SettingWithCopyWarning: \n",
            "A value is trying to be set on a copy of a slice from a DataFrame.\n",
            "Try using .loc[row_indexer,col_indexer] = value instead\n",
            "\n",
            "See the caveats in the documentation: https://pandas.pydata.org/pandas-docs/stable/user_guide/indexing.html#returning-a-view-versus-a-copy\n",
            "  after removing the cwd from sys.path.\n"
          ],
          "name": "stderr"
        }
      ]
    },
    {
      "cell_type": "markdown",
      "metadata": {
        "id": "e_zpfXBJhW_J"
      },
      "source": [
        "### Linhas 3000001 à 6000000"
      ]
    },
    {
      "cell_type": "code",
      "metadata": {
        "id": "OoYz8CNIiV3I",
        "colab": {
          "base_uri": "https://localhost:8080/"
        },
        "outputId": "dc3ce3a4-3b15-413a-ab1b-ea8336790ddf"
      },
      "source": [
        "filename = 'CSE-CIC-IDS2018/Thuesday-20-02-2018_TrafficForML_CICFlowMeter.csv'\n",
        "data = pd.read_csv(filename, names=header, header=None, skiprows= tamanho_conjunto, nrows=tamanho_conjunto)\n",
        "\n",
        "print(data.shape)\n",
        "\n",
        "data = data[data['Protocol'] != 'Protocol']\n",
        "target = data.pop('Label')\n",
        "timestamp = data.pop('Timestamp')\n",
        "timestamp = data.pop('Flow ID')\n",
        "timestamp = data.pop('Src IP')\n",
        "timestamp = data.pop('Src Port')\n",
        "timestamp = data.pop('Dst IP')\n",
        "data = data.apply(pd.to_numeric)\n",
        "data['Label'] = target\n",
        "print(data.shape)\n"
      ],
      "execution_count": null,
      "outputs": [
        {
          "output_type": "stream",
          "text": [
            "(3000000, 84)\n",
            "(3000000, 79)\n"
          ],
          "name": "stdout"
        }
      ]
    },
    {
      "cell_type": "code",
      "metadata": {
        "id": "Q1R1rz5MuSWU",
        "colab": {
          "base_uri": "https://localhost:8080/"
        },
        "outputId": "e0ecb25a-395a-4c87-8fb7-902dd17c46cc"
      },
      "source": [
        "print(data['Label'].value_counts())"
      ],
      "execution_count": null,
      "outputs": [
        {
          "output_type": "stream",
          "text": [
            "Benign    3000000\n",
            "Name: Label, dtype: int64\n"
          ],
          "name": "stdout"
        }
      ]
    },
    {
      "cell_type": "code",
      "metadata": {
        "id": "r6YDWFTcuThh",
        "colab": {
          "base_uri": "https://localhost:8080/"
        },
        "outputId": "a57db2e0-7b8c-4ff5-f7fe-ba04265496a0"
      },
      "source": [
        "target = data.pop('Label')\n",
        "X_train, X_test, y_train, y_test = train_test_split(data, target, test_size=0.10, random_state=42, stratify=target) \n",
        "\n",
        "X_test['Label'] = y_test.values\n",
        "X_test['Label'].value_counts()\n",
        "\n",
        "separar_salvar(X_test, 'ddos2')"
      ],
      "execution_count": null,
      "outputs": [
        {
          "output_type": "stream",
          "text": [
            "/usr/local/lib/python3.7/dist-packages/ipykernel_launcher.py:4: SettingWithCopyWarning: \n",
            "A value is trying to be set on a copy of a slice from a DataFrame.\n",
            "Try using .loc[row_indexer,col_indexer] = value instead\n",
            "\n",
            "See the caveats in the documentation: https://pandas.pydata.org/pandas-docs/stable/user_guide/indexing.html#returning-a-view-versus-a-copy\n",
            "  after removing the cwd from sys.path.\n"
          ],
          "name": "stderr"
        }
      ]
    },
    {
      "cell_type": "markdown",
      "metadata": {
        "id": "jGJNHKDerox8"
      },
      "source": [
        "### Linhas acima de 6000000"
      ]
    },
    {
      "cell_type": "code",
      "metadata": {
        "id": "4nlK9mu1jLHA",
        "colab": {
          "base_uri": "https://localhost:8080/"
        },
        "outputId": "ef8b8131-27f4-4609-a50a-404b4d2a058d"
      },
      "source": [
        "filename = 'CSE-CIC-IDS2018/Thuesday-20-02-2018_TrafficForML_CICFlowMeter.csv'\n",
        "data = pd.read_csv(filename, names=header, header=None, skiprows= (tamanho_conjunto*2))\n",
        "print(data.shape)\n",
        "\n",
        "data = data[data['Protocol'] != 'Protocol']\n",
        "target = data.pop('Label')\n",
        "timestamp = data.pop('Timestamp')\n",
        "timestamp = data.pop('Flow ID')\n",
        "timestamp = data.pop('Src IP')\n",
        "timestamp = data.pop('Src Port')\n",
        "timestamp = data.pop('Dst IP')\n",
        "data = data.apply(pd.to_numeric)\n",
        "data['Label'] = target\n",
        "print(data.shape)"
      ],
      "execution_count": null,
      "outputs": [
        {
          "output_type": "stream",
          "text": [
            "(1948749, 84)\n",
            "(1948749, 79)\n"
          ],
          "name": "stdout"
        }
      ]
    },
    {
      "cell_type": "code",
      "metadata": {
        "id": "4Isv471SuZIw",
        "colab": {
          "base_uri": "https://localhost:8080/"
        },
        "outputId": "2e48db81-d9d3-4987-c7d8-04a7b618d09f"
      },
      "source": [
        "print(data['Label'].value_counts())"
      ],
      "execution_count": null,
      "outputs": [
        {
          "output_type": "stream",
          "text": [
            "Benign    1948749\n",
            "Name: Label, dtype: int64\n"
          ],
          "name": "stdout"
        }
      ]
    },
    {
      "cell_type": "code",
      "metadata": {
        "id": "Asok9I3QuZWw",
        "colab": {
          "base_uri": "https://localhost:8080/"
        },
        "outputId": "7a43d9c8-c8bc-4c38-9f97-5ec7c829b561"
      },
      "source": [
        "target = data.pop('Label')\n",
        "X_train, X_test, y_train, y_test = train_test_split(data, target, test_size=0.10, random_state=42, stratify=target) \n",
        "\n",
        "X_test['Label'] = y_test.values\n",
        "X_test['Label'].value_counts()\n",
        "\n",
        "separar_salvar(X_test, 'ddos3')"
      ],
      "execution_count": null,
      "outputs": [
        {
          "output_type": "stream",
          "text": [
            "/usr/local/lib/python3.7/dist-packages/ipykernel_launcher.py:4: SettingWithCopyWarning: \n",
            "A value is trying to be set on a copy of a slice from a DataFrame.\n",
            "Try using .loc[row_indexer,col_indexer] = value instead\n",
            "\n",
            "See the caveats in the documentation: https://pandas.pydata.org/pandas-docs/stable/user_guide/indexing.html#returning-a-view-versus-a-copy\n",
            "  after removing the cwd from sys.path.\n"
          ],
          "name": "stderr"
        }
      ]
    },
    {
      "cell_type": "markdown",
      "metadata": {
        "id": "YudIPKq3sgkU"
      },
      "source": [
        "### Info arquivos"
      ]
    },
    {
      "cell_type": "code",
      "metadata": {
        "id": "Q_BrdnRWjLZf",
        "colab": {
          "base_uri": "https://localhost:8080/"
        },
        "outputId": "39fe33fc-53f7-44c1-c628-5cb83a3fafde"
      },
      "source": [
        "dos_path ='/content/drive/MyDrive/UFSC/TCC/Arquivos/ids2018/conjunto10/'\n",
        "\n",
        "dataset = pd.read_csv(dos_path + 'ddos1.csv')\n",
        "\n",
        "dataset.shape"
      ],
      "execution_count": null,
      "outputs": [
        {
          "output_type": "execute_result",
          "data": {
            "text/plain": [
              "(300000, 79)"
            ]
          },
          "metadata": {
            "tags": []
          },
          "execution_count": 55
        }
      ]
    },
    {
      "cell_type": "code",
      "metadata": {
        "id": "19CIZCC99GO_",
        "colab": {
          "base_uri": "https://localhost:8080/"
        },
        "outputId": "0e0b7301-eecc-40b2-f872-702dc683b6bf"
      },
      "source": [
        "dataset = pd.read_csv(dos_path + 'ddos2.csv')\n",
        "\n",
        "dataset.shape"
      ],
      "execution_count": null,
      "outputs": [
        {
          "output_type": "execute_result",
          "data": {
            "text/plain": [
              "(300000, 79)"
            ]
          },
          "metadata": {
            "tags": []
          },
          "execution_count": 56
        }
      ]
    },
    {
      "cell_type": "code",
      "metadata": {
        "id": "m7N4ofib9GaZ",
        "colab": {
          "base_uri": "https://localhost:8080/"
        },
        "outputId": "61431312-af8a-4c11-9091-0285c8ae63ae"
      },
      "source": [
        "dataset = pd.read_csv(dos_path + 'ddos3.csv')\n",
        "\n",
        "dataset.shape"
      ],
      "execution_count": null,
      "outputs": [
        {
          "output_type": "execute_result",
          "data": {
            "text/plain": [
              "(194875, 79)"
            ]
          },
          "metadata": {
            "tags": []
          },
          "execution_count": 57
        }
      ]
    },
    {
      "cell_type": "markdown",
      "metadata": {
        "id": "Y_C9cFw0QmN7"
      },
      "source": [
        "### Juntar arquivos"
      ]
    },
    {
      "cell_type": "markdown",
      "metadata": {
        "id": "2s8sTn9CSYNM"
      },
      "source": [
        "Carrega e junta arquivos de 10% do Thuesday-20-02-2018_TrafficForML_CICFlowMeter.csv"
      ]
    },
    {
      "cell_type": "code",
      "metadata": {
        "id": "a09w02OHQq0p"
      },
      "source": [
        "dos_path ='/content/drive/MyDrive/UFSC/TCC/Arquivos/ids2018/conjunto10/'\n",
        "\n",
        "dataset = pd.read_csv(dos_path + 'ddos1.csv')\n",
        "dataset = dataset.append(pd.read_csv(dos_path + 'ddos2.csv'))\n",
        "dataset = dataset.append(pd.read_csv(dos_path + 'ddos3.csv'))"
      ],
      "execution_count": null,
      "outputs": []
    },
    {
      "cell_type": "code",
      "metadata": {
        "id": "XNrNRPkeQ4fA",
        "colab": {
          "base_uri": "https://localhost:8080/"
        },
        "outputId": "d4ac52ac-face-4194-ec06-3b45befa3c87"
      },
      "source": [
        "dataset.shape"
      ],
      "execution_count": null,
      "outputs": [
        {
          "output_type": "execute_result",
          "data": {
            "text/plain": [
              "(794875, 79)"
            ]
          },
          "metadata": {
            "tags": []
          },
          "execution_count": 59
        }
      ]
    },
    {
      "cell_type": "markdown",
      "metadata": {
        "id": "McF0WT4xSiRc"
      },
      "source": [
        "Carrega Wednesday-21-02-2018_TrafficForML_CICFlowMeter.csv"
      ]
    },
    {
      "cell_type": "code",
      "metadata": {
        "id": "Sms_sSyqJ0-b"
      },
      "source": [
        "data = carregar_arquivos('Wednesday-21-02-2018_TrafficForML_CICFlowMeter.csv')\n",
        "print(dataset.shape)\n",
        "\n",
        "target = data.pop('Label')\n",
        "X_train, data_wednesday, y_train, y_test = train_test_split(data, target, test_size=0.10, random_state=42, stratify=target) \n",
        "\n",
        "data_wednesday['Label'] = y_test.values\n",
        "data_wednesday['Label'].value_counts()\n",
        "print(data_wednesday.shape)\n"
      ],
      "execution_count": null,
      "outputs": []
    },
    {
      "cell_type": "markdown",
      "metadata": {
        "id": "bmqni-KYSmDk"
      },
      "source": [
        "Junta os dois arquivos"
      ]
    },
    {
      "cell_type": "code",
      "metadata": {
        "id": "YWes1n8oSoiz"
      },
      "source": [
        "dataset = dataset.append(data_wednesday)"
      ],
      "execution_count": null,
      "outputs": []
    },
    {
      "cell_type": "code",
      "metadata": {
        "id": "LA5YMxcy0BML",
        "colab": {
          "base_uri": "https://localhost:8080/"
        },
        "outputId": "9ce4f54d-b03f-427c-fd01-a28973ebe156"
      },
      "source": [
        "dataset['Label'].value_counts()"
      ],
      "execution_count": null,
      "outputs": [
        {
          "output_type": "execute_result",
          "data": {
            "text/plain": [
              "Benign                    773339\n",
              "DDOS attack-HOIC           68602\n",
              "DDoS attacks-LOIC-HTTP     57619\n",
              "DDOS attack-LOIC-UDP         173\n",
              "Name: Label, dtype: int64"
            ]
          },
          "metadata": {
            "tags": []
          },
          "execution_count": 62
        }
      ]
    },
    {
      "cell_type": "code",
      "metadata": {
        "id": "az14RH8e0BMM"
      },
      "source": [
        "dataset['Label'] = dataset['Label'].replace('DDOS attack-HOIC', 'DDOS')\n",
        "dataset['Label'] = dataset['Label'].replace('DDOS attack-LOIC-UDP', 'DDOS')\n",
        "dataset['Label'] = dataset['Label'].replace('DDoS attacks-LOIC-HTTP', 'DDOS')"
      ],
      "execution_count": null,
      "outputs": []
    },
    {
      "cell_type": "code",
      "metadata": {
        "id": "ub9MQoE10BMM",
        "colab": {
          "base_uri": "https://localhost:8080/"
        },
        "outputId": "35fcc282-610f-49f6-dd7c-22401217796f"
      },
      "source": [
        "dataset['Label'].value_counts()"
      ],
      "execution_count": null,
      "outputs": [
        {
          "output_type": "execute_result",
          "data": {
            "text/plain": [
              "Benign    773339\n",
              "DDOS      126394\n",
              "Name: Label, dtype: int64"
            ]
          },
          "metadata": {
            "tags": []
          },
          "execution_count": 64
        }
      ]
    },
    {
      "cell_type": "code",
      "metadata": {
        "id": "fjQj4jWW0BMN"
      },
      "source": [
        "separar_salvar(dataset, 'ddos')"
      ],
      "execution_count": null,
      "outputs": []
    },
    {
      "cell_type": "markdown",
      "metadata": {
        "id": "1nwmYDsk4tMF"
      },
      "source": [
        "## Thurs 15/02/2018 and \tFri 16/02/2018 - DOS (GoldenEye, Slowloris, SlowHTTPTest, Hulk)"
      ]
    },
    {
      "cell_type": "code",
      "metadata": {
        "id": "FAN_XUSE4tMO"
      },
      "source": [
        "dataset = carregar_arquivos('Thursday-15-02-2018_TrafficForML_CICFlowMeter.csv')\n",
        "dataset = dataset.append(carregar_arquivos('Friday-16-02-2018_TrafficForML_CICFlowMeter.csv'), ignore_index=False)"
      ],
      "execution_count": null,
      "outputs": []
    },
    {
      "cell_type": "code",
      "metadata": {
        "id": "pcW7cuH94tMP",
        "colab": {
          "base_uri": "https://localhost:8080/"
        },
        "outputId": "06e7bb54-5d22-4b70-aac3-2e18f789381e"
      },
      "source": [
        "dataset['Label'].value_counts()"
      ],
      "execution_count": null,
      "outputs": [
        {
          "output_type": "execute_result",
          "data": {
            "text/plain": [
              "Benign                      1442849\n",
              "DoS attacks-Hulk             461912\n",
              "DoS attacks-SlowHTTPTest     139890\n",
              "DoS attacks-GoldenEye         41508\n",
              "DoS attacks-Slowloris         10990\n",
              "Name: Label, dtype: int64"
            ]
          },
          "metadata": {
            "tags": []
          },
          "execution_count": 67
        }
      ]
    },
    {
      "cell_type": "code",
      "metadata": {
        "id": "NT9oq4xS4tMQ"
      },
      "source": [
        "dataset['Label'] = dataset['Label'].replace('DoS attacks-GoldenEye', 'DoS')\n",
        "dataset['Label'] = dataset['Label'].replace('DoS attacks-Slowloris', 'DoS')\n",
        "dataset['Label'] = dataset['Label'].replace('DoS attacks-Hulk', 'DoS')\n",
        "dataset['Label'] = dataset['Label'].replace('DoS attacks-SlowHTTPTest', 'DoS')"
      ],
      "execution_count": null,
      "outputs": []
    },
    {
      "cell_type": "code",
      "metadata": {
        "id": "udGdLxi54tMR",
        "colab": {
          "base_uri": "https://localhost:8080/"
        },
        "outputId": "3fad091d-64c3-499c-cffe-737d33473221"
      },
      "source": [
        "dataset['Label'].value_counts()"
      ],
      "execution_count": null,
      "outputs": [
        {
          "output_type": "execute_result",
          "data": {
            "text/plain": [
              "Benign    1442849\n",
              "DoS        654300\n",
              "Name: Label, dtype: int64"
            ]
          },
          "metadata": {
            "tags": []
          },
          "execution_count": 69
        }
      ]
    },
    {
      "cell_type": "code",
      "metadata": {
        "id": "yy_YfIBP4tMT"
      },
      "source": [
        "target = dataset.pop('Label')\n",
        "\n",
        "X_train, X_test, y_train, y_test = train_test_split(dataset, target, test_size=0.10, random_state=42, stratify=target) "
      ],
      "execution_count": null,
      "outputs": []
    },
    {
      "cell_type": "code",
      "metadata": {
        "id": "HlLzla-24tMU",
        "colab": {
          "base_uri": "https://localhost:8080/"
        },
        "outputId": "80d29b3e-b8df-45e0-94fe-fbf27704d48a"
      },
      "source": [
        "X_train.shape, y_train.shape, X_test.shape, y_test.shape "
      ],
      "execution_count": null,
      "outputs": [
        {
          "output_type": "execute_result",
          "data": {
            "text/plain": [
              "((1887434, 78), (1887434,), (209715, 78), (209715,))"
            ]
          },
          "metadata": {
            "tags": []
          },
          "execution_count": 71
        }
      ]
    },
    {
      "cell_type": "code",
      "metadata": {
        "id": "7CbCfCMU4tMV"
      },
      "source": [
        "X_test[\"Label\"] = y_test.values\n",
        "\n",
        "separar_salvar(X_test, 'dos')"
      ],
      "execution_count": null,
      "outputs": []
    },
    {
      "cell_type": "markdown",
      "metadata": {
        "id": "Tv-9hoSKf3Dv"
      },
      "source": [
        "# **Execução Experimento**"
      ]
    },
    {
      "cell_type": "code",
      "metadata": {
        "id": "21XpgbPtf8qP"
      },
      "source": [
        "def carregar_arquivo(name, path):\n",
        "  return pd.read_csv(path + name + '.csv')"
      ],
      "execution_count": null,
      "outputs": []
    },
    {
      "cell_type": "code",
      "metadata": {
        "id": "TO7aGkbWVqCb"
      },
      "source": [
        "def carregar_arquivo_conjunto10(name):\n",
        "  return carregar_arquivo(name, CONJUNTO_10)"
      ],
      "execution_count": null,
      "outputs": []
    },
    {
      "cell_type": "markdown",
      "metadata": {
        "id": "e24f1RIb08vd"
      },
      "source": [
        "### Juntar "
      ]
    },
    {
      "cell_type": "code",
      "metadata": {
        "id": "cgwjocde1Bet"
      },
      "source": [
        "CONJUNTO_10 = '/content/drive/MyDrive/UFSC/TCC/Arquivos/ids2018/conjunto10/'\n"
      ],
      "execution_count": null,
      "outputs": []
    },
    {
      "cell_type": "code",
      "metadata": {
        "id": "C2f6hYX912RS"
      },
      "source": [
        "train = carregar_arquivo_conjunto10('bot')\n",
        "train = train.append(carregar_arquivo_conjunto10('brute_force'), ignore_index=False)\n",
        "train = train.append(carregar_arquivo_conjunto10('ddos'), ignore_index=False)\n",
        "train = train.append(carregar_arquivo_conjunto10('dos'), ignore_index=False)\n",
        "train = train.append(carregar_arquivo_conjunto10('infiltration'), ignore_index=False)\n",
        "train = train.append(carregar_arquivo_conjunto10('web'), ignore_index=False)"
      ],
      "execution_count": null,
      "outputs": []
    },
    {
      "cell_type": "code",
      "metadata": {
        "colab": {
          "base_uri": "https://localhost:8080/"
        },
        "id": "lraiejAFTy2q",
        "outputId": "51a9b0a0-b397-4d45-c5fa-60dabbb400c6"
      },
      "source": [
        "train['Label'].value_counts()"
      ],
      "execution_count": null,
      "outputs": [
        {
          "output_type": "execute_result",
          "data": {
            "text/plain": [
              "Benign           1348472\n",
              "DDOS              126394\n",
              "DoS                65430\n",
              "Brute Force        38095\n",
              "Bot                28619\n",
              "Infilteration      16194\n",
              "Web Attack            93\n",
              "Name: Label, dtype: int64"
            ]
          },
          "metadata": {
            "tags": []
          },
          "execution_count": 77
        }
      ]
    },
    {
      "cell_type": "code",
      "metadata": {
        "id": "9Vr8SerfmfC5"
      },
      "source": [
        "with pd.option_context('mode.use_inf_as_na', True):\n",
        "  dataset = train.dropna()"
      ],
      "execution_count": null,
      "outputs": []
    },
    {
      "cell_type": "code",
      "metadata": {
        "id": "JMJliGO_Vyaf"
      },
      "source": [
        "CODIGOS_LABEL = {'Benign': 0, 'Bot': 1, 'Brute Force': 2, 'DDOS': 3, 'DoS': 4,'Infilteration': 5, 'Web Attack': 6 }"
      ],
      "execution_count": null,
      "outputs": []
    },
    {
      "cell_type": "code",
      "metadata": {
        "id": "WQiffYyFWcMK"
      },
      "source": [
        "for key,value in CODIGOS_LABEL.items():\n",
        "  dataset['Label'] = dataset['Label'].replace(key, value)"
      ],
      "execution_count": null,
      "outputs": []
    },
    {
      "cell_type": "code",
      "metadata": {
        "id": "Om4upqcoNggZ",
        "colab": {
          "base_uri": "https://localhost:8080/"
        },
        "outputId": "9e54628d-70fd-4a98-c864-91f8fb3edc53"
      },
      "source": [
        "train['Label'].value_counts()"
      ],
      "execution_count": null,
      "outputs": [
        {
          "output_type": "execute_result",
          "data": {
            "text/plain": [
              "Benign           1348472\n",
              "DDOS              126394\n",
              "DoS                65430\n",
              "Brute Force        38095\n",
              "Bot                28619\n",
              "Infilteration      16194\n",
              "Web Attack            93\n",
              "Name: Label, dtype: int64"
            ]
          },
          "metadata": {
            "tags": []
          },
          "execution_count": 81
        }
      ]
    },
    {
      "cell_type": "code",
      "metadata": {
        "colab": {
          "base_uri": "https://localhost:8080/"
        },
        "id": "ljbekgs8VMLy",
        "outputId": "7c0d648a-7456-433a-d686-e5b961e88f24"
      },
      "source": [
        "dataset.shape"
      ],
      "execution_count": null,
      "outputs": [
        {
          "output_type": "execute_result",
          "data": {
            "text/plain": [
              "(1613742, 79)"
            ]
          },
          "metadata": {
            "tags": []
          },
          "execution_count": 82
        }
      ]
    },
    {
      "cell_type": "code",
      "metadata": {
        "id": "6ZUgMSoi3D2a",
        "colab": {
          "base_uri": "https://localhost:8080/"
        },
        "outputId": "7daad24f-0468-4687-f79a-f1fc55aed39e"
      },
      "source": [
        "target = pd.Categorical(dataset.pop('Label'))\n",
        "target.shape"
      ],
      "execution_count": null,
      "outputs": [
        {
          "output_type": "execute_result",
          "data": {
            "text/plain": [
              "(1613742,)"
            ]
          },
          "metadata": {
            "tags": []
          },
          "execution_count": 83
        }
      ]
    },
    {
      "cell_type": "code",
      "metadata": {
        "colab": {
          "base_uri": "https://localhost:8080/",
          "height": 297
        },
        "id": "jm5RZxQk3SbS",
        "outputId": "17a6216a-e6ee-46f2-cc23-2349e98e38a2"
      },
      "source": [
        "target.describe()"
      ],
      "execution_count": null,
      "outputs": [
        {
          "output_type": "execute_result",
          "data": {
            "text/html": [
              "<div>\n",
              "<style scoped>\n",
              "    .dataframe tbody tr th:only-of-type {\n",
              "        vertical-align: middle;\n",
              "    }\n",
              "\n",
              "    .dataframe tbody tr th {\n",
              "        vertical-align: top;\n",
              "    }\n",
              "\n",
              "    .dataframe thead th {\n",
              "        text-align: right;\n",
              "    }\n",
              "</style>\n",
              "<table border=\"1\" class=\"dataframe\">\n",
              "  <thead>\n",
              "    <tr style=\"text-align: right;\">\n",
              "      <th></th>\n",
              "      <th>counts</th>\n",
              "      <th>freqs</th>\n",
              "    </tr>\n",
              "    <tr>\n",
              "      <th>categories</th>\n",
              "      <th></th>\n",
              "      <th></th>\n",
              "    </tr>\n",
              "  </thead>\n",
              "  <tbody>\n",
              "    <tr>\n",
              "      <th>0</th>\n",
              "      <td>1339059</td>\n",
              "      <td>0.829785</td>\n",
              "    </tr>\n",
              "    <tr>\n",
              "      <th>1</th>\n",
              "      <td>28619</td>\n",
              "      <td>0.017735</td>\n",
              "    </tr>\n",
              "    <tr>\n",
              "      <th>2</th>\n",
              "      <td>38095</td>\n",
              "      <td>0.023607</td>\n",
              "    </tr>\n",
              "    <tr>\n",
              "      <th>3</th>\n",
              "      <td>126394</td>\n",
              "      <td>0.078324</td>\n",
              "    </tr>\n",
              "    <tr>\n",
              "      <th>4</th>\n",
              "      <td>65430</td>\n",
              "      <td>0.040546</td>\n",
              "    </tr>\n",
              "    <tr>\n",
              "      <th>5</th>\n",
              "      <td>16052</td>\n",
              "      <td>0.009947</td>\n",
              "    </tr>\n",
              "    <tr>\n",
              "      <th>6</th>\n",
              "      <td>93</td>\n",
              "      <td>0.000058</td>\n",
              "    </tr>\n",
              "  </tbody>\n",
              "</table>\n",
              "</div>"
            ],
            "text/plain": [
              "             counts     freqs\n",
              "categories                   \n",
              "0           1339059  0.829785\n",
              "1             28619  0.017735\n",
              "2             38095  0.023607\n",
              "3            126394  0.078324\n",
              "4             65430  0.040546\n",
              "5             16052  0.009947\n",
              "6                93  0.000058"
            ]
          },
          "metadata": {
            "tags": []
          },
          "execution_count": 84
        }
      ]
    },
    {
      "cell_type": "markdown",
      "metadata": {
        "id": "FMk8OQcjWWWE"
      },
      "source": [
        "## Normalizar "
      ]
    },
    {
      "cell_type": "code",
      "metadata": {
        "id": "5vQ0HEw2WVer"
      },
      "source": [
        "from sklearn.preprocessing import StandardScaler"
      ],
      "execution_count": null,
      "outputs": []
    },
    {
      "cell_type": "code",
      "metadata": {
        "id": "n_uNbxyoczgc"
      },
      "source": [
        "transformer = StandardScaler()"
      ],
      "execution_count": null,
      "outputs": []
    },
    {
      "cell_type": "code",
      "metadata": {
        "id": "YThphT69f0cZ"
      },
      "source": [
        "transformer = transformer.fit(dataset.values)"
      ],
      "execution_count": null,
      "outputs": []
    },
    {
      "cell_type": "code",
      "metadata": {
        "id": "uuHn4UnUXIZV"
      },
      "source": [
        "normalized_dataset = transformer.transform(dataset.values)"
      ],
      "execution_count": null,
      "outputs": []
    },
    {
      "cell_type": "code",
      "metadata": {
        "id": "5bG_52E-YR1X"
      },
      "source": [
        "normalized_dataset  = pd.DataFrame(normalized_dataset)\n",
        "normalized_dataset['Label'] = target"
      ],
      "execution_count": null,
      "outputs": []
    },
    {
      "cell_type": "code",
      "metadata": {
        "colab": {
          "base_uri": "https://localhost:8080/",
          "height": 224
        },
        "id": "b_-Fty-kUjkX",
        "outputId": "1b1ac93d-cd13-4e05-b898-4b3d5a83894e"
      },
      "source": [
        "normalized_dataset.head()"
      ],
      "execution_count": null,
      "outputs": [
        {
          "output_type": "execute_result",
          "data": {
            "text/html": [
              "<div>\n",
              "<style scoped>\n",
              "    .dataframe tbody tr th:only-of-type {\n",
              "        vertical-align: middle;\n",
              "    }\n",
              "\n",
              "    .dataframe tbody tr th {\n",
              "        vertical-align: top;\n",
              "    }\n",
              "\n",
              "    .dataframe thead th {\n",
              "        text-align: right;\n",
              "    }\n",
              "</style>\n",
              "<table border=\"1\" class=\"dataframe\">\n",
              "  <thead>\n",
              "    <tr style=\"text-align: right;\">\n",
              "      <th></th>\n",
              "      <th>0</th>\n",
              "      <th>1</th>\n",
              "      <th>2</th>\n",
              "      <th>3</th>\n",
              "      <th>4</th>\n",
              "      <th>5</th>\n",
              "      <th>6</th>\n",
              "      <th>7</th>\n",
              "      <th>8</th>\n",
              "      <th>9</th>\n",
              "      <th>10</th>\n",
              "      <th>11</th>\n",
              "      <th>12</th>\n",
              "      <th>13</th>\n",
              "      <th>14</th>\n",
              "      <th>15</th>\n",
              "      <th>16</th>\n",
              "      <th>17</th>\n",
              "      <th>18</th>\n",
              "      <th>19</th>\n",
              "      <th>20</th>\n",
              "      <th>21</th>\n",
              "      <th>22</th>\n",
              "      <th>23</th>\n",
              "      <th>24</th>\n",
              "      <th>25</th>\n",
              "      <th>26</th>\n",
              "      <th>27</th>\n",
              "      <th>28</th>\n",
              "      <th>29</th>\n",
              "      <th>30</th>\n",
              "      <th>31</th>\n",
              "      <th>32</th>\n",
              "      <th>33</th>\n",
              "      <th>34</th>\n",
              "      <th>35</th>\n",
              "      <th>36</th>\n",
              "      <th>37</th>\n",
              "      <th>38</th>\n",
              "      <th>39</th>\n",
              "      <th>40</th>\n",
              "      <th>41</th>\n",
              "      <th>42</th>\n",
              "      <th>43</th>\n",
              "      <th>44</th>\n",
              "      <th>45</th>\n",
              "      <th>46</th>\n",
              "      <th>47</th>\n",
              "      <th>48</th>\n",
              "      <th>49</th>\n",
              "      <th>50</th>\n",
              "      <th>51</th>\n",
              "      <th>52</th>\n",
              "      <th>53</th>\n",
              "      <th>54</th>\n",
              "      <th>55</th>\n",
              "      <th>56</th>\n",
              "      <th>57</th>\n",
              "      <th>58</th>\n",
              "      <th>59</th>\n",
              "      <th>60</th>\n",
              "      <th>61</th>\n",
              "      <th>62</th>\n",
              "      <th>63</th>\n",
              "      <th>64</th>\n",
              "      <th>65</th>\n",
              "      <th>66</th>\n",
              "      <th>67</th>\n",
              "      <th>68</th>\n",
              "      <th>69</th>\n",
              "      <th>70</th>\n",
              "      <th>71</th>\n",
              "      <th>72</th>\n",
              "      <th>73</th>\n",
              "      <th>74</th>\n",
              "      <th>75</th>\n",
              "      <th>76</th>\n",
              "      <th>77</th>\n",
              "      <th>Label</th>\n",
              "    </tr>\n",
              "  </thead>\n",
              "  <tbody>\n",
              "    <tr>\n",
              "      <th>0</th>\n",
              "      <td>-0.044693</td>\n",
              "      <td>-0.562277</td>\n",
              "      <td>-0.395816</td>\n",
              "      <td>-0.013588</td>\n",
              "      <td>-0.015447</td>\n",
              "      <td>-0.013042</td>\n",
              "      <td>-0.021063</td>\n",
              "      <td>0.408003</td>\n",
              "      <td>-0.457578</td>\n",
              "      <td>0.949763</td>\n",
              "      <td>1.002518</td>\n",
              "      <td>-0.483553</td>\n",
              "      <td>-0.521281</td>\n",
              "      <td>-0.497294</td>\n",
              "      <td>-0.384792</td>\n",
              "      <td>-0.056255</td>\n",
              "      <td>-0.194874</td>\n",
              "      <td>-0.248260</td>\n",
              "      <td>-0.275738</td>\n",
              "      <td>-0.358994</td>\n",
              "      <td>-0.217159</td>\n",
              "      <td>-0.387690</td>\n",
              "      <td>-0.268322</td>\n",
              "      <td>-0.269351</td>\n",
              "      <td>-0.349929</td>\n",
              "      <td>-0.220923</td>\n",
              "      <td>-0.294366</td>\n",
              "      <td>-0.189651</td>\n",
              "      <td>-0.251591</td>\n",
              "      <td>-0.254785</td>\n",
              "      <td>-0.075835</td>\n",
              "      <td>-0.209331</td>\n",
              "      <td>0.0</td>\n",
              "      <td>-0.012694</td>\n",
              "      <td>0.0</td>\n",
              "      <td>-0.015221</td>\n",
              "      <td>-0.013781</td>\n",
              "      <td>-0.171094</td>\n",
              "      <td>-0.161612</td>\n",
              "      <td>-0.485597</td>\n",
              "      <td>-0.128250</td>\n",
              "      <td>-0.204519</td>\n",
              "      <td>-0.042065</td>\n",
              "      <td>-0.310398</td>\n",
              "      <td>-0.065587</td>\n",
              "      <td>-0.209331</td>\n",
              "      <td>2.075457</td>\n",
              "      <td>1.238970</td>\n",
              "      <td>-0.698645</td>\n",
              "      <td>-0.208865</td>\n",
              "      <td>-0.012694</td>\n",
              "      <td>2.075445</td>\n",
              "      <td>0.447882</td>\n",
              "      <td>-0.231446</td>\n",
              "      <td>0.949763</td>\n",
              "      <td>-0.497294</td>\n",
              "      <td>0.0</td>\n",
              "      <td>0.0</td>\n",
              "      <td>0.0</td>\n",
              "      <td>0.0</td>\n",
              "      <td>0.0</td>\n",
              "      <td>0.0</td>\n",
              "      <td>-0.013588</td>\n",
              "      <td>-0.013042</td>\n",
              "      <td>-0.015447</td>\n",
              "      <td>-0.021064</td>\n",
              "      <td>-0.039085</td>\n",
              "      <td>-0.412347</td>\n",
              "      <td>-0.012548</td>\n",
              "      <td>0.261957</td>\n",
              "      <td>-0.069261</td>\n",
              "      <td>-0.057579</td>\n",
              "      <td>-0.079411</td>\n",
              "      <td>-0.05475</td>\n",
              "      <td>-0.30279</td>\n",
              "      <td>-0.090838</td>\n",
              "      <td>-0.306095</td>\n",
              "      <td>-0.296124</td>\n",
              "      <td>1</td>\n",
              "    </tr>\n",
              "    <tr>\n",
              "      <th>1</th>\n",
              "      <td>-0.473974</td>\n",
              "      <td>1.668682</td>\n",
              "      <td>-0.395563</td>\n",
              "      <td>-0.014889</td>\n",
              "      <td>-0.035327</td>\n",
              "      <td>-0.018963</td>\n",
              "      <td>-0.021366</td>\n",
              "      <td>-0.562409</td>\n",
              "      <td>0.814182</td>\n",
              "      <td>-0.320954</td>\n",
              "      <td>-0.610446</td>\n",
              "      <td>-0.582066</td>\n",
              "      <td>0.710776</td>\n",
              "      <td>-0.309970</td>\n",
              "      <td>-0.647740</td>\n",
              "      <td>-0.067106</td>\n",
              "      <td>-0.197114</td>\n",
              "      <td>-0.247099</td>\n",
              "      <td>-0.276760</td>\n",
              "      <td>-0.358494</td>\n",
              "      <td>-0.215877</td>\n",
              "      <td>-0.387706</td>\n",
              "      <td>-0.268340</td>\n",
              "      <td>-0.269415</td>\n",
              "      <td>-0.349954</td>\n",
              "      <td>-0.220927</td>\n",
              "      <td>-0.294732</td>\n",
              "      <td>-0.190380</td>\n",
              "      <td>-0.253120</td>\n",
              "      <td>-0.255675</td>\n",
              "      <td>-0.075839</td>\n",
              "      <td>-0.209331</td>\n",
              "      <td>0.0</td>\n",
              "      <td>-0.012694</td>\n",
              "      <td>0.0</td>\n",
              "      <td>-0.020403</td>\n",
              "      <td>-0.041606</td>\n",
              "      <td>-0.172247</td>\n",
              "      <td>-0.165334</td>\n",
              "      <td>0.880848</td>\n",
              "      <td>-0.639863</td>\n",
              "      <td>-0.350860</td>\n",
              "      <td>-0.638174</td>\n",
              "      <td>-0.453919</td>\n",
              "      <td>-0.065587</td>\n",
              "      <td>-0.209331</td>\n",
              "      <td>-0.481821</td>\n",
              "      <td>-0.807122</td>\n",
              "      <td>-0.698645</td>\n",
              "      <td>-0.208865</td>\n",
              "      <td>-0.012694</td>\n",
              "      <td>-0.481824</td>\n",
              "      <td>0.447882</td>\n",
              "      <td>-0.254498</td>\n",
              "      <td>-0.320954</td>\n",
              "      <td>-0.309970</td>\n",
              "      <td>0.0</td>\n",
              "      <td>0.0</td>\n",
              "      <td>0.0</td>\n",
              "      <td>0.0</td>\n",
              "      <td>0.0</td>\n",
              "      <td>0.0</td>\n",
              "      <td>-0.014889</td>\n",
              "      <td>-0.018963</td>\n",
              "      <td>-0.035327</td>\n",
              "      <td>-0.021366</td>\n",
              "      <td>-0.542893</td>\n",
              "      <td>-0.422990</td>\n",
              "      <td>-0.013198</td>\n",
              "      <td>-1.293584</td>\n",
              "      <td>-0.069261</td>\n",
              "      <td>-0.057579</td>\n",
              "      <td>-0.079411</td>\n",
              "      <td>-0.05475</td>\n",
              "      <td>-0.30279</td>\n",
              "      <td>-0.090838</td>\n",
              "      <td>-0.306095</td>\n",
              "      <td>-0.296124</td>\n",
              "      <td>0</td>\n",
              "    </tr>\n",
              "    <tr>\n",
              "      <th>2</th>\n",
              "      <td>2.546605</td>\n",
              "      <td>-0.562277</td>\n",
              "      <td>-0.396135</td>\n",
              "      <td>-0.014239</td>\n",
              "      <td>-0.041953</td>\n",
              "      <td>-0.019585</td>\n",
              "      <td>-0.021655</td>\n",
              "      <td>-0.664384</td>\n",
              "      <td>-0.457578</td>\n",
              "      <td>-0.828149</td>\n",
              "      <td>-0.610446</td>\n",
              "      <td>-0.708725</td>\n",
              "      <td>-0.521281</td>\n",
              "      <td>-0.693757</td>\n",
              "      <td>-0.647740</td>\n",
              "      <td>-0.068522</td>\n",
              "      <td>0.024456</td>\n",
              "      <td>-0.248377</td>\n",
              "      <td>-0.276760</td>\n",
              "      <td>-0.359520</td>\n",
              "      <td>-0.217157</td>\n",
              "      <td>-0.387704</td>\n",
              "      <td>-0.268337</td>\n",
              "      <td>-0.269415</td>\n",
              "      <td>-0.349952</td>\n",
              "      <td>-0.220925</td>\n",
              "      <td>-0.294732</td>\n",
              "      <td>-0.190380</td>\n",
              "      <td>-0.253120</td>\n",
              "      <td>-0.255675</td>\n",
              "      <td>-0.075839</td>\n",
              "      <td>-0.209331</td>\n",
              "      <td>0.0</td>\n",
              "      <td>-0.012694</td>\n",
              "      <td>0.0</td>\n",
              "      <td>-0.017812</td>\n",
              "      <td>-0.044256</td>\n",
              "      <td>0.102760</td>\n",
              "      <td>-0.165938</td>\n",
              "      <td>-0.485597</td>\n",
              "      <td>-0.762416</td>\n",
              "      <td>-0.751793</td>\n",
              "      <td>-0.751793</td>\n",
              "      <td>-0.457694</td>\n",
              "      <td>-0.065587</td>\n",
              "      <td>-0.209331</td>\n",
              "      <td>-0.481821</td>\n",
              "      <td>-0.807122</td>\n",
              "      <td>1.431343</td>\n",
              "      <td>-0.208865</td>\n",
              "      <td>-0.012694</td>\n",
              "      <td>-0.481824</td>\n",
              "      <td>-0.448223</td>\n",
              "      <td>-0.830784</td>\n",
              "      <td>-0.828149</td>\n",
              "      <td>-0.693757</td>\n",
              "      <td>0.0</td>\n",
              "      <td>0.0</td>\n",
              "      <td>0.0</td>\n",
              "      <td>0.0</td>\n",
              "      <td>0.0</td>\n",
              "      <td>0.0</td>\n",
              "      <td>-0.014239</td>\n",
              "      <td>-0.019585</td>\n",
              "      <td>-0.041953</td>\n",
              "      <td>-0.021655</td>\n",
              "      <td>-0.527090</td>\n",
              "      <td>-0.422990</td>\n",
              "      <td>-0.013198</td>\n",
              "      <td>0.261957</td>\n",
              "      <td>-0.069261</td>\n",
              "      <td>-0.057579</td>\n",
              "      <td>-0.079411</td>\n",
              "      <td>-0.05475</td>\n",
              "      <td>-0.30279</td>\n",
              "      <td>-0.090838</td>\n",
              "      <td>-0.306095</td>\n",
              "      <td>-0.296124</td>\n",
              "      <td>0</td>\n",
              "    </tr>\n",
              "    <tr>\n",
              "      <th>3</th>\n",
              "      <td>-0.044693</td>\n",
              "      <td>-0.562277</td>\n",
              "      <td>-0.395795</td>\n",
              "      <td>-0.013588</td>\n",
              "      <td>-0.015447</td>\n",
              "      <td>-0.013042</td>\n",
              "      <td>-0.021063</td>\n",
              "      <td>0.408003</td>\n",
              "      <td>-0.457578</td>\n",
              "      <td>0.949763</td>\n",
              "      <td>1.002518</td>\n",
              "      <td>-0.483553</td>\n",
              "      <td>-0.521281</td>\n",
              "      <td>-0.497294</td>\n",
              "      <td>-0.384792</td>\n",
              "      <td>-0.057019</td>\n",
              "      <td>-0.195040</td>\n",
              "      <td>-0.248252</td>\n",
              "      <td>-0.275669</td>\n",
              "      <td>-0.358958</td>\n",
              "      <td>-0.217160</td>\n",
              "      <td>-0.387687</td>\n",
              "      <td>-0.268320</td>\n",
              "      <td>-0.269337</td>\n",
              "      <td>-0.349924</td>\n",
              "      <td>-0.220923</td>\n",
              "      <td>-0.294344</td>\n",
              "      <td>-0.189606</td>\n",
              "      <td>-0.251485</td>\n",
              "      <td>-0.254726</td>\n",
              "      <td>-0.075839</td>\n",
              "      <td>-0.209331</td>\n",
              "      <td>0.0</td>\n",
              "      <td>-0.012694</td>\n",
              "      <td>0.0</td>\n",
              "      <td>-0.015221</td>\n",
              "      <td>-0.013781</td>\n",
              "      <td>-0.171182</td>\n",
              "      <td>-0.161882</td>\n",
              "      <td>-0.485597</td>\n",
              "      <td>-0.128250</td>\n",
              "      <td>-0.204519</td>\n",
              "      <td>-0.042065</td>\n",
              "      <td>-0.310398</td>\n",
              "      <td>-0.065587</td>\n",
              "      <td>-0.209331</td>\n",
              "      <td>2.075457</td>\n",
              "      <td>1.238970</td>\n",
              "      <td>-0.698645</td>\n",
              "      <td>-0.208865</td>\n",
              "      <td>-0.012694</td>\n",
              "      <td>2.075445</td>\n",
              "      <td>0.447882</td>\n",
              "      <td>-0.231446</td>\n",
              "      <td>0.949763</td>\n",
              "      <td>-0.497294</td>\n",
              "      <td>0.0</td>\n",
              "      <td>0.0</td>\n",
              "      <td>0.0</td>\n",
              "      <td>0.0</td>\n",
              "      <td>0.0</td>\n",
              "      <td>0.0</td>\n",
              "      <td>-0.013588</td>\n",
              "      <td>-0.013042</td>\n",
              "      <td>-0.015447</td>\n",
              "      <td>-0.021064</td>\n",
              "      <td>-0.039085</td>\n",
              "      <td>-0.412347</td>\n",
              "      <td>-0.012548</td>\n",
              "      <td>0.261957</td>\n",
              "      <td>-0.069261</td>\n",
              "      <td>-0.057579</td>\n",
              "      <td>-0.079411</td>\n",
              "      <td>-0.05475</td>\n",
              "      <td>-0.30279</td>\n",
              "      <td>-0.090838</td>\n",
              "      <td>-0.306095</td>\n",
              "      <td>-0.296124</td>\n",
              "      <td>1</td>\n",
              "    </tr>\n",
              "    <tr>\n",
              "      <th>4</th>\n",
              "      <td>-0.295566</td>\n",
              "      <td>-0.562277</td>\n",
              "      <td>-0.304923</td>\n",
              "      <td>-0.010337</td>\n",
              "      <td>0.011059</td>\n",
              "      <td>0.003052</td>\n",
              "      <td>-0.014234</td>\n",
              "      <td>1.509997</td>\n",
              "      <td>-0.457578</td>\n",
              "      <td>1.478773</td>\n",
              "      <td>1.297378</td>\n",
              "      <td>1.649547</td>\n",
              "      <td>-0.521281</td>\n",
              "      <td>0.538320</td>\n",
              "      <td>1.326810</td>\n",
              "      <td>-0.068262</td>\n",
              "      <td>-0.197518</td>\n",
              "      <td>-0.234785</td>\n",
              "      <td>-0.206297</td>\n",
              "      <td>-0.304296</td>\n",
              "      <td>-0.217160</td>\n",
              "      <td>-0.296250</td>\n",
              "      <td>-0.239596</td>\n",
              "      <td>-0.131563</td>\n",
              "      <td>-0.251712</td>\n",
              "      <td>-0.220927</td>\n",
              "      <td>-0.194710</td>\n",
              "      <td>-0.104961</td>\n",
              "      <td>-0.173246</td>\n",
              "      <td>-0.162722</td>\n",
              "      <td>-0.020355</td>\n",
              "      <td>-0.209331</td>\n",
              "      <td>0.0</td>\n",
              "      <td>-0.012694</td>\n",
              "      <td>0.0</td>\n",
              "      <td>-0.007124</td>\n",
              "      <td>0.012718</td>\n",
              "      <td>-0.172497</td>\n",
              "      <td>-0.165908</td>\n",
              "      <td>-0.485597</td>\n",
              "      <td>1.519416</td>\n",
              "      <td>0.802508</td>\n",
              "      <td>1.150410</td>\n",
              "      <td>0.600392</td>\n",
              "      <td>-0.065587</td>\n",
              "      <td>-0.209331</td>\n",
              "      <td>2.075457</td>\n",
              "      <td>1.238970</td>\n",
              "      <td>-0.698645</td>\n",
              "      <td>-0.208865</td>\n",
              "      <td>-0.012694</td>\n",
              "      <td>2.075445</td>\n",
              "      <td>0.447882</td>\n",
              "      <td>0.751698</td>\n",
              "      <td>1.478773</td>\n",
              "      <td>0.538320</td>\n",
              "      <td>0.0</td>\n",
              "      <td>0.0</td>\n",
              "      <td>0.0</td>\n",
              "      <td>0.0</td>\n",
              "      <td>0.0</td>\n",
              "      <td>0.0</td>\n",
              "      <td>-0.010337</td>\n",
              "      <td>0.003052</td>\n",
              "      <td>0.011059</td>\n",
              "      <td>-0.014234</td>\n",
              "      <td>-0.039085</td>\n",
              "      <td>2.618475</td>\n",
              "      <td>-0.009945</td>\n",
              "      <td>0.261957</td>\n",
              "      <td>-0.069261</td>\n",
              "      <td>-0.057579</td>\n",
              "      <td>-0.079411</td>\n",
              "      <td>-0.05475</td>\n",
              "      <td>-0.30279</td>\n",
              "      <td>-0.090838</td>\n",
              "      <td>-0.306095</td>\n",
              "      <td>-0.296124</td>\n",
              "      <td>0</td>\n",
              "    </tr>\n",
              "  </tbody>\n",
              "</table>\n",
              "</div>"
            ],
            "text/plain": [
              "          0         1         2         3  ...        75        76        77  Label\n",
              "0 -0.044693 -0.562277 -0.395816 -0.013588  ... -0.090838 -0.306095 -0.296124      1\n",
              "1 -0.473974  1.668682 -0.395563 -0.014889  ... -0.090838 -0.306095 -0.296124      0\n",
              "2  2.546605 -0.562277 -0.396135 -0.014239  ... -0.090838 -0.306095 -0.296124      0\n",
              "3 -0.044693 -0.562277 -0.395795 -0.013588  ... -0.090838 -0.306095 -0.296124      1\n",
              "4 -0.295566 -0.562277 -0.304923 -0.010337  ... -0.090838 -0.306095 -0.296124      0\n",
              "\n",
              "[5 rows x 79 columns]"
            ]
          },
          "metadata": {
            "tags": []
          },
          "execution_count": 90
        }
      ]
    },
    {
      "cell_type": "markdown",
      "metadata": {
        "id": "yQgaGDiti6sB"
      },
      "source": [
        "## Treinamento"
      ]
    },
    {
      "cell_type": "code",
      "metadata": {
        "id": "HsKhO9QmOSnG"
      },
      "source": [
        "from sklearn.model_selection import train_test_split\n",
        "from sklearn.multiclass import OneVsRestClassifier\n",
        "from sklearn.multiclass import OneVsOneClassifier"
      ],
      "execution_count": null,
      "outputs": []
    },
    {
      "cell_type": "code",
      "metadata": {
        "id": "SLdnWXwVcr_D"
      },
      "source": [
        "target = normalized_dataset.pop('Label')"
      ],
      "execution_count": null,
      "outputs": []
    },
    {
      "cell_type": "code",
      "metadata": {
        "id": "5T6WVb0gi_7b"
      },
      "source": [
        "X_train, X_test, y_train, y_test = train_test_split(normalized_dataset.values, target, test_size=0.3, random_state=42, stratify=target) "
      ],
      "execution_count": null,
      "outputs": []
    },
    {
      "cell_type": "code",
      "metadata": {
        "colab": {
          "base_uri": "https://localhost:8080/"
        },
        "id": "eeGyX0AkdG57",
        "outputId": "46bcf087-6249-4346-aae0-4e98af8abefe"
      },
      "source": [
        "X_train.shape, y_train.shape, X_test.shape, y_test.shape "
      ],
      "execution_count": null,
      "outputs": [
        {
          "output_type": "execute_result",
          "data": {
            "text/plain": [
              "((1129619, 78), (1129619,), (484123, 78), (484123,))"
            ]
          },
          "metadata": {
            "tags": []
          },
          "execution_count": 94
        }
      ]
    },
    {
      "cell_type": "code",
      "metadata": {
        "colab": {
          "base_uri": "https://localhost:8080/",
          "height": 297
        },
        "id": "PtBDqysPCwaH",
        "outputId": "5ff92321-1b92-4fd2-c238-1a4476a67e86"
      },
      "source": [
        "pd.Categorical(y_test).describe()"
      ],
      "execution_count": null,
      "outputs": [
        {
          "output_type": "execute_result",
          "data": {
            "text/html": [
              "<div>\n",
              "<style scoped>\n",
              "    .dataframe tbody tr th:only-of-type {\n",
              "        vertical-align: middle;\n",
              "    }\n",
              "\n",
              "    .dataframe tbody tr th {\n",
              "        vertical-align: top;\n",
              "    }\n",
              "\n",
              "    .dataframe thead th {\n",
              "        text-align: right;\n",
              "    }\n",
              "</style>\n",
              "<table border=\"1\" class=\"dataframe\">\n",
              "  <thead>\n",
              "    <tr style=\"text-align: right;\">\n",
              "      <th></th>\n",
              "      <th>counts</th>\n",
              "      <th>freqs</th>\n",
              "    </tr>\n",
              "    <tr>\n",
              "      <th>categories</th>\n",
              "      <th></th>\n",
              "      <th></th>\n",
              "    </tr>\n",
              "  </thead>\n",
              "  <tbody>\n",
              "    <tr>\n",
              "      <th>0</th>\n",
              "      <td>401718</td>\n",
              "      <td>0.829785</td>\n",
              "    </tr>\n",
              "    <tr>\n",
              "      <th>1</th>\n",
              "      <td>8586</td>\n",
              "      <td>0.017735</td>\n",
              "    </tr>\n",
              "    <tr>\n",
              "      <th>2</th>\n",
              "      <td>11428</td>\n",
              "      <td>0.023606</td>\n",
              "    </tr>\n",
              "    <tr>\n",
              "      <th>3</th>\n",
              "      <td>37918</td>\n",
              "      <td>0.078323</td>\n",
              "    </tr>\n",
              "    <tr>\n",
              "      <th>4</th>\n",
              "      <td>19629</td>\n",
              "      <td>0.040545</td>\n",
              "    </tr>\n",
              "    <tr>\n",
              "      <th>5</th>\n",
              "      <td>4816</td>\n",
              "      <td>0.009948</td>\n",
              "    </tr>\n",
              "    <tr>\n",
              "      <th>6</th>\n",
              "      <td>28</td>\n",
              "      <td>0.000058</td>\n",
              "    </tr>\n",
              "  </tbody>\n",
              "</table>\n",
              "</div>"
            ],
            "text/plain": [
              "            counts     freqs\n",
              "categories                  \n",
              "0           401718  0.829785\n",
              "1             8586  0.017735\n",
              "2            11428  0.023606\n",
              "3            37918  0.078323\n",
              "4            19629  0.040545\n",
              "5             4816  0.009948\n",
              "6               28  0.000058"
            ]
          },
          "metadata": {
            "tags": []
          },
          "execution_count": 95
        }
      ]
    },
    {
      "cell_type": "code",
      "metadata": {
        "colab": {
          "base_uri": "https://localhost:8080/",
          "height": 297
        },
        "id": "Kb8_XQdE_Pgh",
        "outputId": "c76eb4a8-e56b-46cb-f18e-8bdf6eedff93"
      },
      "source": [
        "pd.Categorical(y_train).describe()"
      ],
      "execution_count": null,
      "outputs": [
        {
          "output_type": "execute_result",
          "data": {
            "text/html": [
              "<div>\n",
              "<style scoped>\n",
              "    .dataframe tbody tr th:only-of-type {\n",
              "        vertical-align: middle;\n",
              "    }\n",
              "\n",
              "    .dataframe tbody tr th {\n",
              "        vertical-align: top;\n",
              "    }\n",
              "\n",
              "    .dataframe thead th {\n",
              "        text-align: right;\n",
              "    }\n",
              "</style>\n",
              "<table border=\"1\" class=\"dataframe\">\n",
              "  <thead>\n",
              "    <tr style=\"text-align: right;\">\n",
              "      <th></th>\n",
              "      <th>counts</th>\n",
              "      <th>freqs</th>\n",
              "    </tr>\n",
              "    <tr>\n",
              "      <th>categories</th>\n",
              "      <th></th>\n",
              "      <th></th>\n",
              "    </tr>\n",
              "  </thead>\n",
              "  <tbody>\n",
              "    <tr>\n",
              "      <th>0</th>\n",
              "      <td>937341</td>\n",
              "      <td>0.829785</td>\n",
              "    </tr>\n",
              "    <tr>\n",
              "      <th>1</th>\n",
              "      <td>20033</td>\n",
              "      <td>0.017734</td>\n",
              "    </tr>\n",
              "    <tr>\n",
              "      <th>2</th>\n",
              "      <td>26667</td>\n",
              "      <td>0.023607</td>\n",
              "    </tr>\n",
              "    <tr>\n",
              "      <th>3</th>\n",
              "      <td>88476</td>\n",
              "      <td>0.078324</td>\n",
              "    </tr>\n",
              "    <tr>\n",
              "      <th>4</th>\n",
              "      <td>45801</td>\n",
              "      <td>0.040546</td>\n",
              "    </tr>\n",
              "    <tr>\n",
              "      <th>5</th>\n",
              "      <td>11236</td>\n",
              "      <td>0.009947</td>\n",
              "    </tr>\n",
              "    <tr>\n",
              "      <th>6</th>\n",
              "      <td>65</td>\n",
              "      <td>0.000058</td>\n",
              "    </tr>\n",
              "  </tbody>\n",
              "</table>\n",
              "</div>"
            ],
            "text/plain": [
              "            counts     freqs\n",
              "categories                  \n",
              "0           937341  0.829785\n",
              "1            20033  0.017734\n",
              "2            26667  0.023607\n",
              "3            88476  0.078324\n",
              "4            45801  0.040546\n",
              "5            11236  0.009947\n",
              "6               65  0.000058"
            ]
          },
          "metadata": {
            "tags": []
          },
          "execution_count": 96
        }
      ]
    },
    {
      "cell_type": "markdown",
      "metadata": {
        "id": "9jmG3iU_PXCn"
      },
      "source": [
        "### **Balancear dados de treinamento**"
      ]
    },
    {
      "cell_type": "code",
      "metadata": {
        "colab": {
          "base_uri": "https://localhost:8080/"
        },
        "id": "-jJO4lQ_Pm9t",
        "outputId": "b53578e3-e5de-46f0-d9db-0ba7c88269b8"
      },
      "source": [
        "X_train.shape, y_train.shape, X_test.shape, y_test.shape "
      ],
      "execution_count": null,
      "outputs": [
        {
          "output_type": "execute_result",
          "data": {
            "text/plain": [
              "((1129619, 78), (1129619,), (484123, 78), (484123,))"
            ]
          },
          "metadata": {
            "tags": []
          },
          "execution_count": 97
        }
      ]
    },
    {
      "cell_type": "code",
      "metadata": {
        "id": "naBilZfSPbkv"
      },
      "source": [
        "from imblearn.over_sampling import SMOTE\n",
        "from imblearn.combine import SMOTEENN\n",
        "from imblearn.combine import SMOTETomek\n",
        "from imblearn.under_sampling import CondensedNearestNeighbour\n",
        "from imblearn.over_sampling import ADASYN \n",
        "from imblearn.under_sampling import RandomUnderSampler \n",
        "from imblearn.under_sampling import ClusterCentroids \n",
        "\n",
        "#0\t937341\t0.829785\n",
        "#1\t20033\t0.017734\n",
        "#2\t26667\t0.023607\n",
        "#3\t88476\t0.078324\n",
        "#4\t45801\t0.040546\n",
        "#5\t11236\t0.009947\n",
        "#6\t65\t0.000058\n",
        "\n",
        "\n",
        "quantidade_exemplos_por_classe = {0: 937341, 1: 100000, 2: 100000, 3: 100000, 4: 100000, 5: 100000, 6: 100000}\n",
        "oversample = SMOTE(sampling_strategy=quantidade_exemplos_por_classe)\n",
        "X_train, y_train = oversample.fit_resample(X_train, y_train)\n",
        "\n",
        "#sme = SMOTEENN(random_state=42)\n",
        "#X_train, y_train = sme.fit_resample(X_train, y_train)\n",
        "\n",
        "#rus = RandomUnderSampler(random_state=42,sampling_strategy='majority')\n",
        "#X_train, y_train = rus.fit_resample(X_train, y_train)\n",
        "\n",
        "#cnn = CondensedNearestNeighbour(random_state=42) \n",
        "#X_train, y_train = cnn.fit_resample(X_train, y_train)\n",
        "\n",
        "#cc = ClusterCentroids(random_state=42, sampling_strategy='majority')\n",
        "#X_train, y_train = cc.fit_resample(X_train, y_train)"
      ],
      "execution_count": null,
      "outputs": []
    },
    {
      "cell_type": "code",
      "metadata": {
        "colab": {
          "base_uri": "https://localhost:8080/"
        },
        "id": "Xs6nzDBhPl_P",
        "outputId": "fa2b8dde-7de0-4f91-c4da-2b561e97974d"
      },
      "source": [
        "X_train.shape, y_train.shape, X_test.shape, y_test.shape "
      ],
      "execution_count": null,
      "outputs": [
        {
          "output_type": "execute_result",
          "data": {
            "text/plain": [
              "((1537341, 78), (1537341,), (484123, 78), (484123,))"
            ]
          },
          "metadata": {
            "tags": []
          },
          "execution_count": 99
        }
      ]
    },
    {
      "cell_type": "code",
      "metadata": {
        "colab": {
          "base_uri": "https://localhost:8080/",
          "height": 297
        },
        "id": "asOP43k5XhHO",
        "outputId": "f957d9d9-6424-4411-db32-e3fdb0bdbc20"
      },
      "source": [
        "pd.Categorical(y_train).describe()"
      ],
      "execution_count": null,
      "outputs": [
        {
          "output_type": "execute_result",
          "data": {
            "text/html": [
              "<div>\n",
              "<style scoped>\n",
              "    .dataframe tbody tr th:only-of-type {\n",
              "        vertical-align: middle;\n",
              "    }\n",
              "\n",
              "    .dataframe tbody tr th {\n",
              "        vertical-align: top;\n",
              "    }\n",
              "\n",
              "    .dataframe thead th {\n",
              "        text-align: right;\n",
              "    }\n",
              "</style>\n",
              "<table border=\"1\" class=\"dataframe\">\n",
              "  <thead>\n",
              "    <tr style=\"text-align: right;\">\n",
              "      <th></th>\n",
              "      <th>counts</th>\n",
              "      <th>freqs</th>\n",
              "    </tr>\n",
              "    <tr>\n",
              "      <th>categories</th>\n",
              "      <th></th>\n",
              "      <th></th>\n",
              "    </tr>\n",
              "  </thead>\n",
              "  <tbody>\n",
              "    <tr>\n",
              "      <th>0</th>\n",
              "      <td>937341</td>\n",
              "      <td>0.609716</td>\n",
              "    </tr>\n",
              "    <tr>\n",
              "      <th>1</th>\n",
              "      <td>100000</td>\n",
              "      <td>0.065047</td>\n",
              "    </tr>\n",
              "    <tr>\n",
              "      <th>2</th>\n",
              "      <td>100000</td>\n",
              "      <td>0.065047</td>\n",
              "    </tr>\n",
              "    <tr>\n",
              "      <th>3</th>\n",
              "      <td>100000</td>\n",
              "      <td>0.065047</td>\n",
              "    </tr>\n",
              "    <tr>\n",
              "      <th>4</th>\n",
              "      <td>100000</td>\n",
              "      <td>0.065047</td>\n",
              "    </tr>\n",
              "    <tr>\n",
              "      <th>5</th>\n",
              "      <td>100000</td>\n",
              "      <td>0.065047</td>\n",
              "    </tr>\n",
              "    <tr>\n",
              "      <th>6</th>\n",
              "      <td>100000</td>\n",
              "      <td>0.065047</td>\n",
              "    </tr>\n",
              "  </tbody>\n",
              "</table>\n",
              "</div>"
            ],
            "text/plain": [
              "            counts     freqs\n",
              "categories                  \n",
              "0           937341  0.609716\n",
              "1           100000  0.065047\n",
              "2           100000  0.065047\n",
              "3           100000  0.065047\n",
              "4           100000  0.065047\n",
              "5           100000  0.065047\n",
              "6           100000  0.065047"
            ]
          },
          "metadata": {
            "tags": []
          },
          "execution_count": 100
        }
      ]
    },
    {
      "cell_type": "code",
      "metadata": {
        "colab": {
          "base_uri": "https://localhost:8080/",
          "height": 297
        },
        "id": "vs_jS8UlXq3Y",
        "outputId": "0f7dff43-6d40-485f-bd75-d7f601275a0b"
      },
      "source": [
        "pd.Categorical(y_test).describe()"
      ],
      "execution_count": null,
      "outputs": [
        {
          "output_type": "execute_result",
          "data": {
            "text/html": [
              "<div>\n",
              "<style scoped>\n",
              "    .dataframe tbody tr th:only-of-type {\n",
              "        vertical-align: middle;\n",
              "    }\n",
              "\n",
              "    .dataframe tbody tr th {\n",
              "        vertical-align: top;\n",
              "    }\n",
              "\n",
              "    .dataframe thead th {\n",
              "        text-align: right;\n",
              "    }\n",
              "</style>\n",
              "<table border=\"1\" class=\"dataframe\">\n",
              "  <thead>\n",
              "    <tr style=\"text-align: right;\">\n",
              "      <th></th>\n",
              "      <th>counts</th>\n",
              "      <th>freqs</th>\n",
              "    </tr>\n",
              "    <tr>\n",
              "      <th>categories</th>\n",
              "      <th></th>\n",
              "      <th></th>\n",
              "    </tr>\n",
              "  </thead>\n",
              "  <tbody>\n",
              "    <tr>\n",
              "      <th>0</th>\n",
              "      <td>401718</td>\n",
              "      <td>0.829785</td>\n",
              "    </tr>\n",
              "    <tr>\n",
              "      <th>1</th>\n",
              "      <td>8586</td>\n",
              "      <td>0.017735</td>\n",
              "    </tr>\n",
              "    <tr>\n",
              "      <th>2</th>\n",
              "      <td>11428</td>\n",
              "      <td>0.023606</td>\n",
              "    </tr>\n",
              "    <tr>\n",
              "      <th>3</th>\n",
              "      <td>37918</td>\n",
              "      <td>0.078323</td>\n",
              "    </tr>\n",
              "    <tr>\n",
              "      <th>4</th>\n",
              "      <td>19629</td>\n",
              "      <td>0.040545</td>\n",
              "    </tr>\n",
              "    <tr>\n",
              "      <th>5</th>\n",
              "      <td>4816</td>\n",
              "      <td>0.009948</td>\n",
              "    </tr>\n",
              "    <tr>\n",
              "      <th>6</th>\n",
              "      <td>28</td>\n",
              "      <td>0.000058</td>\n",
              "    </tr>\n",
              "  </tbody>\n",
              "</table>\n",
              "</div>"
            ],
            "text/plain": [
              "            counts     freqs\n",
              "categories                  \n",
              "0           401718  0.829785\n",
              "1             8586  0.017735\n",
              "2            11428  0.023606\n",
              "3            37918  0.078323\n",
              "4            19629  0.040545\n",
              "5             4816  0.009948\n",
              "6               28  0.000058"
            ]
          },
          "metadata": {
            "tags": []
          },
          "execution_count": 101
        }
      ]
    },
    {
      "cell_type": "markdown",
      "metadata": {
        "id": "im3FFM_bQZ8Z"
      },
      "source": [
        "### MultilayerPerceptron"
      ]
    },
    {
      "cell_type": "code",
      "metadata": {
        "id": "roqQ_uahQthd"
      },
      "source": [
        "def criarModeloMLP():\n",
        "  return  MLPClassifier(hidden_layer_sizes=(78,78), max_iter=300,activation='relu',solver='adam',random_state=1, verbose=50)"
      ],
      "execution_count": null,
      "outputs": []
    },
    {
      "cell_type": "code",
      "metadata": {
        "id": "idmGHiF6T4Lw"
      },
      "source": [
        "mlpClassifier = criarModeloMLP().fit(X_train, y_train)"
      ],
      "execution_count": null,
      "outputs": []
    },
    {
      "cell_type": "markdown",
      "metadata": {
        "id": "MybwPXpWQi19"
      },
      "source": [
        "### One Vs All com MLP"
      ]
    },
    {
      "cell_type": "code",
      "metadata": {
        "id": "CXYWE4cQ7SQk"
      },
      "source": [
        "ova = OneVsRestClassifier(criarModeloMLP()).fit(X_train, y_train)"
      ],
      "execution_count": null,
      "outputs": []
    },
    {
      "cell_type": "markdown",
      "metadata": {
        "id": "RtjV89nJSYqT"
      },
      "source": [
        "### KNN"
      ]
    },
    {
      "cell_type": "code",
      "metadata": {
        "id": "818UDHWySbae"
      },
      "source": [
        "from sklearn.neighbors import KNeighborsClassifier\n",
        "\n",
        "clf = KNeighborsClassifier(n_neighbors=1)\n",
        "clf.fit(X_train, y_train)\n"
      ],
      "execution_count": null,
      "outputs": []
    },
    {
      "cell_type": "markdown",
      "metadata": {
        "id": "9mN5-657hIAj"
      },
      "source": [
        "### ExtraTree"
      ]
    },
    {
      "cell_type": "code",
      "metadata": {
        "id": "IJCZCP-lhHNX"
      },
      "source": [
        "from sklearn.ensemble import ExtraTreesClassifier\n",
        "from sklearn.datasets import make_classification\n",
        "\n",
        "clf = ExtraTreesClassifier(n_estimators=100, random_state=0)\n",
        "clf.fit(X_train, y_train)"
      ],
      "execution_count": null,
      "outputs": []
    },
    {
      "cell_type": "markdown",
      "metadata": {
        "id": "w72UrLWhS9lX"
      },
      "source": [
        "## Pós processamento"
      ]
    },
    {
      "cell_type": "code",
      "metadata": {
        "id": "vn-28yrVTlfo"
      },
      "source": [
        "from sklearn.metrics import accuracy_score\n",
        "from sklearn.metrics import multilabel_confusion_matrix\n",
        "from sklearn.metrics import balanced_accuracy_score\n",
        "from sklearn.metrics import f1_score\n",
        "from sklearn.metrics import recall_score\n",
        "from sklearn.metrics import precision_score\n",
        "from sklearn.metrics import roc_auc_score\n",
        "from sklearn.metrics import average_precision_score"
      ],
      "execution_count": null,
      "outputs": []
    },
    {
      "cell_type": "markdown",
      "metadata": {
        "id": "I2U_qRN2TSU9"
      },
      "source": [
        "### Métricas"
      ]
    },
    {
      "cell_type": "code",
      "metadata": {
        "id": "ZgD8KjP5XCoa"
      },
      "source": [
        "nome_classes = ['Benign','Bot','Brute Force','DDOS','DoS','Infilteration','Web Attack']\n",
        "\n",
        "def salvar_informacoes(clf):\n",
        "  y_pred = clf.predict(X_test)\n",
        "  matriz = multilabel_confusion_matrix(y_test, y_pred)\n",
        "  acc = accuracy_score(y_test, y_pred)\n",
        "  acc_balanced = balanced_accuracy_score(y_test, y_pred)\n",
        "  precision = precision_score(y_test, y_pred, average='weighted')\n",
        "  texto = '=====================================================================\\n\\n'\n",
        "  texto += f'Acurácia: {acc}\\n'\n",
        "  texto += f'Acurácia Balanceada: {acc_balanced}\\n'\n",
        "  texto += f'Precision : {precision}\\n'\n",
        "  texto += '\\n\\n'\n",
        "\n",
        "  acc_classes = []\n",
        "  precision_classes = []\n",
        "  recall_classes = []\n",
        "  TNR_classes = []\n",
        "  f1_score_classes = []\n",
        "  texto += 'RESULTADOS POR CLASSE\\n\\n'\n",
        "  a = 'Results: \\n '\n",
        "  for j in range(0,len(nome_classes)):\n",
        "    texto += '\\n\\n'\n",
        "    texto += f'Classe {j}: {nome_classes[j]}\\n'\n",
        "\n",
        "    #separa a matriz de cada classe j em tn, fp, fn, tp  \n",
        "    tn = matriz[j][0][0]\n",
        "    fp = matriz[j][0][1]\n",
        "    fn = matriz[j][1][0]\n",
        "    tp = matriz[j][1][1]\n",
        "    #imprime matriz no arquivo\n",
        "    texto += '\\n\\n-- N --|-- P --\\n'\n",
        "    texto += f'N| {tn} | {fp} |\\n'\n",
        "    texto += '-----------------------\\n'\n",
        "    texto += f'P| {fn} | {tp} |\\n'\n",
        "    texto += '\\n\\n'\n",
        "\n",
        "    #calcula as métricas com base nos dados tp, tn, fn, fp\n",
        "    acc_classes.append(((tn+tp)/(tn+tp+fn+fp)))\n",
        "    precision = (tp/(tp+fp))\n",
        "    precision_classes.append(precision)\n",
        "    recall = (tp/(tp+fn))\n",
        "    recall_classes.append(recall)\n",
        "    TNR_classes.append((tn/(tn+fp)))\n",
        "    f1_score_classes.append((2 * ((precision * recall)/(precision + recall))))\n",
        "\n",
        "    #imprimir linha no arquivo com as métricas calculadas para a classe j no fold i\n",
        "    texto += '             acc,                     loss,                   precision,            recall,                TNR,              f1-score\\n'\n",
        "    texto += f'Classe {nome_classes[j]}:  {acc_classes[j]},   {1-acc_classes[j]},   {precision_classes[j]},   {recall_classes[j]},     {TNR_classes[j]},  {f1_score_classes[j]}\\n'\n",
        "    a += f'Classe {nome_classes[j]}:  {acc_classes[j]},   {1-acc_classes[j]},   {precision_classes[j]},   {recall_classes[j]},     {TNR_classes[j]},  {f1_score_classes[j]}\\n'\n",
        "  \n",
        "  texto += '\\n\\n\\n\\n'\n",
        "  texto += a\n",
        "    \n",
        "  \n",
        "  \n",
        "  return texto"
      ],
      "execution_count": null,
      "outputs": []
    },
    {
      "cell_type": "code",
      "metadata": {
        "id": "dkr4EtHLXk9a"
      },
      "source": [
        "ova_info = salvar_informacoes(ova)"
      ],
      "execution_count": null,
      "outputs": []
    },
    {
      "cell_type": "code",
      "metadata": {
        "id": "6ajZKsdqZVh1"
      },
      "source": [
        "ovo_info = salvar_informacoes(ovo)"
      ],
      "execution_count": null,
      "outputs": []
    },
    {
      "cell_type": "code",
      "metadata": {
        "id": "gRvRhdSvrSXw"
      },
      "source": [
        "evot_info = salvar_informacoes(evot)"
      ],
      "execution_count": null,
      "outputs": []
    },
    {
      "cell_type": "code",
      "metadata": {
        "id": "Qd1WGbDyPLiL"
      },
      "source": [
        "evot3_info = salvar_informacoes(evot3)"
      ],
      "execution_count": null,
      "outputs": []
    },
    {
      "cell_type": "code",
      "metadata": {
        "id": "iUORbc8-JQ4d"
      },
      "source": [
        "mlp_info = salvar_informacoes(mlpClassifier)"
      ],
      "execution_count": null,
      "outputs": []
    },
    {
      "cell_type": "code",
      "metadata": {
        "id": "B-bSlaVQU8ry"
      },
      "source": [
        "knn_info = salvar_informacoes(clf)"
      ],
      "execution_count": null,
      "outputs": []
    },
    {
      "cell_type": "code",
      "metadata": {
        "id": "6eUgUvFnTVvZ"
      },
      "source": [
        "dt_info = salvar_informacoes(dt)"
      ],
      "execution_count": null,
      "outputs": []
    },
    {
      "cell_type": "code",
      "metadata": {
        "id": "jS1lJ3nIfixD"
      },
      "source": [
        "rf_info = salvar_informacoes(clf)"
      ],
      "execution_count": null,
      "outputs": []
    },
    {
      "cell_type": "code",
      "metadata": {
        "id": "0wgWdkyxhRrO"
      },
      "source": [
        "extraTree_info = salvar_informacoes(clf)"
      ],
      "execution_count": null,
      "outputs": []
    },
    {
      "cell_type": "code",
      "metadata": {
        "id": "_zGDHFCK-37V"
      },
      "source": [
        "NB_info = salvar_informacoes(gnb)"
      ],
      "execution_count": null,
      "outputs": []
    },
    {
      "cell_type": "code",
      "metadata": {
        "id": "YpKbiekMZ4-0"
      },
      "source": [
        "def salvar(texto, nome, caminho):\n",
        "  arquivo = open(caminho + nome, 'w')\n",
        "  arquivo.write(texto)"
      ],
      "execution_count": null,
      "outputs": []
    },
    {
      "cell_type": "code",
      "metadata": {
        "id": "Zx13UlwRhVMJ"
      },
      "source": [
        "salvar(ova_info,'ovaInfo78_78_relu_balanced_SMOTE_especific_100.txt', CONJUNTO_10)"
      ],
      "execution_count": null,
      "outputs": []
    },
    {
      "cell_type": "code",
      "metadata": {
        "id": "7VHOxjgQZY8y"
      },
      "source": [
        "salvar(ovo_info,'ovoInfo78_78_relu.txt', CONJUNTO_10)"
      ],
      "execution_count": null,
      "outputs": []
    },
    {
      "cell_type": "code",
      "metadata": {
        "id": "zfWnuS54PQlK"
      },
      "source": [
        "salvar(evot3_info,'evot3Info_mlp78_78_relu_knn_rf.txt', CONJUNTO_10)"
      ],
      "execution_count": null,
      "outputs": []
    },
    {
      "cell_type": "code",
      "metadata": {
        "id": "juJdP-zTrbHr"
      },
      "source": [
        "salvar(evot_info,'evot_soft_Info78_78_relu.txt', CONJUNTO_10)"
      ],
      "execution_count": null,
      "outputs": []
    },
    {
      "cell_type": "code",
      "metadata": {
        "id": "JpUsgkkzCOKU"
      },
      "source": [
        "salvar(mlp_info,'mlpClassifierInfo_78_78_relu_normalizado2.txt', CONJUNTO_10)"
      ],
      "execution_count": null,
      "outputs": []
    },
    {
      "cell_type": "code",
      "metadata": {
        "id": "EM_K0NhvVD0V"
      },
      "source": [
        "salvar(knn_info,'KNNInfo.txt', CONJUNTO_10)"
      ],
      "execution_count": null,
      "outputs": []
    },
    {
      "cell_type": "code",
      "metadata": {
        "id": "UPg6OOCXTaXg"
      },
      "source": [
        "salvar(dt_info,'DTInfo.txt', CONJUNTO_10)"
      ],
      "execution_count": null,
      "outputs": []
    },
    {
      "cell_type": "code",
      "metadata": {
        "id": "KwbyLR7UflFJ"
      },
      "source": [
        "salvar(rf_info,'RFInfo.txt', CONJUNTO_10)"
      ],
      "execution_count": null,
      "outputs": []
    },
    {
      "cell_type": "code",
      "metadata": {
        "id": "OH3V-LG4hVWZ"
      },
      "source": [
        "salvar(extraTree_info,'ExtraTreeInfo.txt', CONJUNTO_10)"
      ],
      "execution_count": null,
      "outputs": []
    },
    {
      "cell_type": "code",
      "metadata": {
        "id": "_fmRScYA-87S"
      },
      "source": [
        "salvar(NB_info,'NaiveBayes_Info.txt', CONJUNTO_10)"
      ],
      "execution_count": null,
      "outputs": []
    }
  ]
}