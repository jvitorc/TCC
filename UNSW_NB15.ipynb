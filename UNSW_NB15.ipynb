{
  "nbformat": 4,
  "nbformat_minor": 0,
  "metadata": {
    "kernelspec": {
      "name": "python3",
      "display_name": "Python 3"
    },
    "language_info": {
      "codemirror_mode": {
        "name": "ipython",
        "version": 3
      },
      "file_extension": ".py",
      "mimetype": "text/x-python",
      "name": "python",
      "nbconvert_exporter": "python",
      "pygments_lexer": "ipython3",
      "version": "3.7.5"
    },
    "colab": {
      "provenance": [],
      "collapsed_sections": [
        "lxomYsdO8JxK",
        "T2jij-zHLLQ_",
        "EPZlQVw7Cjap",
        "pXU5sxZ2fNVi"
      ],
      "toc_visible": true,
      "include_colab_link": true
    },
    "accelerator": "GPU"
  },
  "cells": [
    {
      "cell_type": "markdown",
      "metadata": {
        "id": "view-in-github",
        "colab_type": "text"
      },
      "source": [
        "<a href=\"https://colab.research.google.com/github/jvitorc/TCC/blob/main/UNSW_NB15.ipynb\" target=\"_parent\"><img src=\"https://colab.research.google.com/assets/colab-badge.svg\" alt=\"Open In Colab\"/></a>"
      ]
    },
    {
      "cell_type": "markdown",
      "metadata": {
        "id": "1LKKi4HAzVt-"
      },
      "source": [
        "#### *João Vitor Cardoso <2020>*"
      ]
    },
    {
      "cell_type": "markdown",
      "metadata": {
        "id": "BVFEcb74zVuD"
      },
      "source": [
        "# **Explorando o uso de redes neurais para detecção de intrusão com a base UNSW-NB15**"
      ]
    },
    {
      "cell_type": "markdown",
      "metadata": {
        "id": "3-Zr7u2OBdvM"
      },
      "source": [
        "Usando a base [UNSW-NB15 - CSV Files](https://www.unsw.adfa.edu.au/unsw-canberra-cyber/cybersecurity/ADFA-NB15-Datasets/) para detecção de intrusão com redes neurais.\n",
        "  "
      ]
    },
    {
      "cell_type": "markdown",
      "metadata": {
        "id": "ORrj_QgPzqf3"
      },
      "source": [
        "## Baixando Base da Dados"
      ]
    },
    {
      "cell_type": "markdown",
      "metadata": {
        "id": "uGqd-ZzD5k-2"
      },
      "source": [
        "#### Baixando CSV de ataques DOS"
      ]
    },
    {
      "cell_type": "code",
      "metadata": {
        "id": "RFHm6zkhz02c"
      },
      "source": [
        "!wget https://cloudstor.aarnet.edu.au/plus/s/2DhnLGDdEECo4ys/download?path=%2FUNSW-NB15%20-%20CSV%20Files&files=UNSW-NB15_1.csv"
      ],
      "execution_count": null,
      "outputs": []
    },
    {
      "cell_type": "code",
      "metadata": {
        "id": "yDYBpcaDL5G_"
      },
      "source": [
        "!unzip -x 'download?path=%2FUNSW-NB15 - CSV Files'"
      ],
      "execution_count": null,
      "outputs": []
    },
    {
      "cell_type": "markdown",
      "metadata": {
        "id": "iojCuqpVzVuF"
      },
      "source": [
        "## Importando Bibliotecas"
      ]
    },
    {
      "cell_type": "markdown",
      "metadata": {
        "id": "6T82U1Y2rOIH"
      },
      "source": [
        "Instalando nova versão do tensorflow"
      ]
    },
    {
      "cell_type": "code",
      "metadata": {
        "id": "MuDInZawpTRl"
      },
      "source": [
        "!pip uninstall tensorflow"
      ],
      "execution_count": null,
      "outputs": []
    },
    {
      "cell_type": "code",
      "metadata": {
        "id": "bc2YZgWcpTdI"
      },
      "source": [
        "!pip install tensorflow==2.0.0"
      ],
      "execution_count": null,
      "outputs": []
    },
    {
      "cell_type": "markdown",
      "metadata": {
        "id": "LJdvENilxSPU"
      },
      "source": [
        "Importando bibliotecas"
      ]
    },
    {
      "cell_type": "code",
      "metadata": {
        "id": "Rnypr__BzVuH"
      },
      "source": [
        "import os\n",
        "import pandas as pd\n",
        "import numpy as np\n",
        "import tensorflow as tf\n",
        "from tensorflow import  keras\n",
        "import matplotlib.pyplot as plt\n",
        "import re\n"
      ],
      "execution_count": null,
      "outputs": []
    },
    {
      "cell_type": "markdown",
      "metadata": {
        "id": "FsQ6VASnVhQm"
      },
      "source": [
        "### Verificando GPU"
      ]
    },
    {
      "cell_type": "code",
      "metadata": {
        "id": "0dXuSSZQyN5u"
      },
      "source": [
        "tf.test.gpu_device_name()"
      ],
      "execution_count": null,
      "outputs": []
    },
    {
      "cell_type": "code",
      "metadata": {
        "id": "g0Zzjf9AUUaO"
      },
      "source": [
        "!nvidia-smi"
      ],
      "execution_count": null,
      "outputs": []
    },
    {
      "cell_type": "markdown",
      "metadata": {
        "id": "TURl6Oa3zVuN"
      },
      "source": [
        "## Explorando os Dados"
      ]
    },
    {
      "cell_type": "markdown",
      "metadata": {
        "id": "4Woenr4-zVuO"
      },
      "source": [
        "Carregando dados"
      ]
    },
    {
      "cell_type": "code",
      "metadata": {
        "id": "U3wZJ1IZzVuQ"
      },
      "source": [
        "PATH = '/content/UNSW-NB15 - CSV Files/'"
      ],
      "execution_count": null,
      "outputs": []
    },
    {
      "cell_type": "code",
      "metadata": {
        "id": "2WI3eVZkMKq3"
      },
      "source": [
        "info = pd.read_csv(PATH+'NUSW-NB15_features.csv', encoding='latin-1')"
      ],
      "execution_count": null,
      "outputs": []
    },
    {
      "cell_type": "code",
      "metadata": {
        "id": "D9hKYcb-MLNh",
        "outputId": "616e8f98-0c47-4865-fffb-3923eb74bf81",
        "colab": {
          "base_uri": "https://localhost:8080/",
          "height": 1000
        }
      },
      "source": [
        "info"
      ],
      "execution_count": null,
      "outputs": [
        {
          "output_type": "execute_result",
          "data": {
            "text/html": [
              "<div>\n",
              "<style scoped>\n",
              "    .dataframe tbody tr th:only-of-type {\n",
              "        vertical-align: middle;\n",
              "    }\n",
              "\n",
              "    .dataframe tbody tr th {\n",
              "        vertical-align: top;\n",
              "    }\n",
              "\n",
              "    .dataframe thead th {\n",
              "        text-align: right;\n",
              "    }\n",
              "</style>\n",
              "<table border=\"1\" class=\"dataframe\">\n",
              "  <thead>\n",
              "    <tr style=\"text-align: right;\">\n",
              "      <th></th>\n",
              "      <th>No.</th>\n",
              "      <th>Name</th>\n",
              "      <th>Type</th>\n",
              "      <th>Description</th>\n",
              "    </tr>\n",
              "  </thead>\n",
              "  <tbody>\n",
              "    <tr>\n",
              "      <th>0</th>\n",
              "      <td>1</td>\n",
              "      <td>srcip</td>\n",
              "      <td>nominal</td>\n",
              "      <td>Source IP address</td>\n",
              "    </tr>\n",
              "    <tr>\n",
              "      <th>1</th>\n",
              "      <td>2</td>\n",
              "      <td>sport</td>\n",
              "      <td>integer</td>\n",
              "      <td>Source port number</td>\n",
              "    </tr>\n",
              "    <tr>\n",
              "      <th>2</th>\n",
              "      <td>3</td>\n",
              "      <td>dstip</td>\n",
              "      <td>nominal</td>\n",
              "      <td>Destination IP address</td>\n",
              "    </tr>\n",
              "    <tr>\n",
              "      <th>3</th>\n",
              "      <td>4</td>\n",
              "      <td>dsport</td>\n",
              "      <td>integer</td>\n",
              "      <td>Destination port number</td>\n",
              "    </tr>\n",
              "    <tr>\n",
              "      <th>4</th>\n",
              "      <td>5</td>\n",
              "      <td>proto</td>\n",
              "      <td>nominal</td>\n",
              "      <td>Transaction protocol</td>\n",
              "    </tr>\n",
              "    <tr>\n",
              "      <th>5</th>\n",
              "      <td>6</td>\n",
              "      <td>state</td>\n",
              "      <td>nominal</td>\n",
              "      <td>Indicates to the state and its dependent proto...</td>\n",
              "    </tr>\n",
              "    <tr>\n",
              "      <th>6</th>\n",
              "      <td>7</td>\n",
              "      <td>dur</td>\n",
              "      <td>Float</td>\n",
              "      <td>Record total duration</td>\n",
              "    </tr>\n",
              "    <tr>\n",
              "      <th>7</th>\n",
              "      <td>8</td>\n",
              "      <td>sbytes</td>\n",
              "      <td>Integer</td>\n",
              "      <td>Source to destination transaction bytes</td>\n",
              "    </tr>\n",
              "    <tr>\n",
              "      <th>8</th>\n",
              "      <td>9</td>\n",
              "      <td>dbytes</td>\n",
              "      <td>Integer</td>\n",
              "      <td>Destination to source transaction bytes</td>\n",
              "    </tr>\n",
              "    <tr>\n",
              "      <th>9</th>\n",
              "      <td>10</td>\n",
              "      <td>sttl</td>\n",
              "      <td>Integer</td>\n",
              "      <td>Source to destination time to live value</td>\n",
              "    </tr>\n",
              "    <tr>\n",
              "      <th>10</th>\n",
              "      <td>11</td>\n",
              "      <td>dttl</td>\n",
              "      <td>Integer</td>\n",
              "      <td>Destination to source time to live value</td>\n",
              "    </tr>\n",
              "    <tr>\n",
              "      <th>11</th>\n",
              "      <td>12</td>\n",
              "      <td>sloss</td>\n",
              "      <td>Integer</td>\n",
              "      <td>Source packets retransmitted or dropped</td>\n",
              "    </tr>\n",
              "    <tr>\n",
              "      <th>12</th>\n",
              "      <td>13</td>\n",
              "      <td>dloss</td>\n",
              "      <td>Integer</td>\n",
              "      <td>Destination packets retransmitted or dropped</td>\n",
              "    </tr>\n",
              "    <tr>\n",
              "      <th>13</th>\n",
              "      <td>14</td>\n",
              "      <td>service</td>\n",
              "      <td>nominal</td>\n",
              "      <td>http, ftp, smtp, ssh, dns, ftp-data ,irc  and ...</td>\n",
              "    </tr>\n",
              "    <tr>\n",
              "      <th>14</th>\n",
              "      <td>15</td>\n",
              "      <td>Sload</td>\n",
              "      <td>Float</td>\n",
              "      <td>Source bits per second</td>\n",
              "    </tr>\n",
              "    <tr>\n",
              "      <th>15</th>\n",
              "      <td>16</td>\n",
              "      <td>Dload</td>\n",
              "      <td>Float</td>\n",
              "      <td>Destination bits per second</td>\n",
              "    </tr>\n",
              "    <tr>\n",
              "      <th>16</th>\n",
              "      <td>17</td>\n",
              "      <td>Spkts</td>\n",
              "      <td>integer</td>\n",
              "      <td>Source to destination packet count</td>\n",
              "    </tr>\n",
              "    <tr>\n",
              "      <th>17</th>\n",
              "      <td>18</td>\n",
              "      <td>Dpkts</td>\n",
              "      <td>integer</td>\n",
              "      <td>Destination to source packet count</td>\n",
              "    </tr>\n",
              "    <tr>\n",
              "      <th>18</th>\n",
              "      <td>19</td>\n",
              "      <td>swin</td>\n",
              "      <td>integer</td>\n",
              "      <td>Source TCP window advertisement value</td>\n",
              "    </tr>\n",
              "    <tr>\n",
              "      <th>19</th>\n",
              "      <td>20</td>\n",
              "      <td>dwin</td>\n",
              "      <td>integer</td>\n",
              "      <td>Destination TCP window advertisement value</td>\n",
              "    </tr>\n",
              "    <tr>\n",
              "      <th>20</th>\n",
              "      <td>21</td>\n",
              "      <td>stcpb</td>\n",
              "      <td>integer</td>\n",
              "      <td>Source TCP base sequence number</td>\n",
              "    </tr>\n",
              "    <tr>\n",
              "      <th>21</th>\n",
              "      <td>22</td>\n",
              "      <td>dtcpb</td>\n",
              "      <td>integer</td>\n",
              "      <td>Destination TCP base sequence number</td>\n",
              "    </tr>\n",
              "    <tr>\n",
              "      <th>22</th>\n",
              "      <td>23</td>\n",
              "      <td>smeansz</td>\n",
              "      <td>integer</td>\n",
              "      <td>Mean of the ?ow packet size transmitted by the...</td>\n",
              "    </tr>\n",
              "    <tr>\n",
              "      <th>23</th>\n",
              "      <td>24</td>\n",
              "      <td>dmeansz</td>\n",
              "      <td>integer</td>\n",
              "      <td>Mean of the ?ow packet size transmitted by the...</td>\n",
              "    </tr>\n",
              "    <tr>\n",
              "      <th>24</th>\n",
              "      <td>25</td>\n",
              "      <td>trans_depth</td>\n",
              "      <td>integer</td>\n",
              "      <td>Represents the pipelined depth into the connec...</td>\n",
              "    </tr>\n",
              "    <tr>\n",
              "      <th>25</th>\n",
              "      <td>26</td>\n",
              "      <td>res_bdy_len</td>\n",
              "      <td>integer</td>\n",
              "      <td>Actual uncompressed content size of the data t...</td>\n",
              "    </tr>\n",
              "    <tr>\n",
              "      <th>26</th>\n",
              "      <td>27</td>\n",
              "      <td>Sjit</td>\n",
              "      <td>Float</td>\n",
              "      <td>Source jitter (mSec)</td>\n",
              "    </tr>\n",
              "    <tr>\n",
              "      <th>27</th>\n",
              "      <td>28</td>\n",
              "      <td>Djit</td>\n",
              "      <td>Float</td>\n",
              "      <td>Destination jitter (mSec)</td>\n",
              "    </tr>\n",
              "    <tr>\n",
              "      <th>28</th>\n",
              "      <td>29</td>\n",
              "      <td>Stime</td>\n",
              "      <td>Timestamp</td>\n",
              "      <td>record start time</td>\n",
              "    </tr>\n",
              "    <tr>\n",
              "      <th>29</th>\n",
              "      <td>30</td>\n",
              "      <td>Ltime</td>\n",
              "      <td>Timestamp</td>\n",
              "      <td>record last time</td>\n",
              "    </tr>\n",
              "    <tr>\n",
              "      <th>30</th>\n",
              "      <td>31</td>\n",
              "      <td>Sintpkt</td>\n",
              "      <td>Float</td>\n",
              "      <td>Source interpacket arrival time (mSec)</td>\n",
              "    </tr>\n",
              "    <tr>\n",
              "      <th>31</th>\n",
              "      <td>32</td>\n",
              "      <td>Dintpkt</td>\n",
              "      <td>Float</td>\n",
              "      <td>Destination interpacket arrival time (mSec)</td>\n",
              "    </tr>\n",
              "    <tr>\n",
              "      <th>32</th>\n",
              "      <td>33</td>\n",
              "      <td>tcprtt</td>\n",
              "      <td>Float</td>\n",
              "      <td>TCP connection setup round-trip time, the sum ...</td>\n",
              "    </tr>\n",
              "    <tr>\n",
              "      <th>33</th>\n",
              "      <td>34</td>\n",
              "      <td>synack</td>\n",
              "      <td>Float</td>\n",
              "      <td>TCP connection setup time, the time between th...</td>\n",
              "    </tr>\n",
              "    <tr>\n",
              "      <th>34</th>\n",
              "      <td>35</td>\n",
              "      <td>ackdat</td>\n",
              "      <td>Float</td>\n",
              "      <td>TCP connection setup time, the time between th...</td>\n",
              "    </tr>\n",
              "    <tr>\n",
              "      <th>35</th>\n",
              "      <td>36</td>\n",
              "      <td>is_sm_ips_ports</td>\n",
              "      <td>Binary</td>\n",
              "      <td>If source (1) and destination (3)IP addresses ...</td>\n",
              "    </tr>\n",
              "    <tr>\n",
              "      <th>36</th>\n",
              "      <td>37</td>\n",
              "      <td>ct_state_ttl</td>\n",
              "      <td>Integer</td>\n",
              "      <td>No. for each state (6) according to specific r...</td>\n",
              "    </tr>\n",
              "    <tr>\n",
              "      <th>37</th>\n",
              "      <td>38</td>\n",
              "      <td>ct_flw_http_mthd</td>\n",
              "      <td>Integer</td>\n",
              "      <td>No. of flows that has methods such as Get and ...</td>\n",
              "    </tr>\n",
              "    <tr>\n",
              "      <th>38</th>\n",
              "      <td>39</td>\n",
              "      <td>is_ftp_login</td>\n",
              "      <td>Binary</td>\n",
              "      <td>If the ftp session is accessed by user and pas...</td>\n",
              "    </tr>\n",
              "    <tr>\n",
              "      <th>39</th>\n",
              "      <td>40</td>\n",
              "      <td>ct_ftp_cmd</td>\n",
              "      <td>integer</td>\n",
              "      <td>No of flows that has a command in ftp session.</td>\n",
              "    </tr>\n",
              "    <tr>\n",
              "      <th>40</th>\n",
              "      <td>41</td>\n",
              "      <td>ct_srv_src</td>\n",
              "      <td>integer</td>\n",
              "      <td>No. of connections that contain the same servi...</td>\n",
              "    </tr>\n",
              "    <tr>\n",
              "      <th>41</th>\n",
              "      <td>42</td>\n",
              "      <td>ct_srv_dst</td>\n",
              "      <td>integer</td>\n",
              "      <td>No. of connections that contain the same servi...</td>\n",
              "    </tr>\n",
              "    <tr>\n",
              "      <th>42</th>\n",
              "      <td>43</td>\n",
              "      <td>ct_dst_ltm</td>\n",
              "      <td>integer</td>\n",
              "      <td>No. of connections of the same destination add...</td>\n",
              "    </tr>\n",
              "    <tr>\n",
              "      <th>43</th>\n",
              "      <td>44</td>\n",
              "      <td>ct_src_ ltm</td>\n",
              "      <td>integer</td>\n",
              "      <td>No. of connections of the same source address ...</td>\n",
              "    </tr>\n",
              "    <tr>\n",
              "      <th>44</th>\n",
              "      <td>45</td>\n",
              "      <td>ct_src_dport_ltm</td>\n",
              "      <td>integer</td>\n",
              "      <td>No of connections of the same source address (...</td>\n",
              "    </tr>\n",
              "    <tr>\n",
              "      <th>45</th>\n",
              "      <td>46</td>\n",
              "      <td>ct_dst_sport_ltm</td>\n",
              "      <td>integer</td>\n",
              "      <td>No of connections of the same destination addr...</td>\n",
              "    </tr>\n",
              "    <tr>\n",
              "      <th>46</th>\n",
              "      <td>47</td>\n",
              "      <td>ct_dst_src_ltm</td>\n",
              "      <td>integer</td>\n",
              "      <td>No of connections of the same source (1) and t...</td>\n",
              "    </tr>\n",
              "    <tr>\n",
              "      <th>47</th>\n",
              "      <td>48</td>\n",
              "      <td>attack_cat</td>\n",
              "      <td>nominal</td>\n",
              "      <td>The name of each attack category. In this data...</td>\n",
              "    </tr>\n",
              "    <tr>\n",
              "      <th>48</th>\n",
              "      <td>49</td>\n",
              "      <td>Label</td>\n",
              "      <td>binary</td>\n",
              "      <td>0 for normal and 1 for attack records</td>\n",
              "    </tr>\n",
              "  </tbody>\n",
              "</table>\n",
              "</div>"
            ],
            "text/plain": [
              "    No.  ...                                        Description\n",
              "0     1  ...                                  Source IP address\n",
              "1     2  ...                                 Source port number\n",
              "2     3  ...                             Destination IP address\n",
              "3     4  ...                            Destination port number\n",
              "4     5  ...                               Transaction protocol\n",
              "5     6  ...  Indicates to the state and its dependent proto...\n",
              "6     7  ...                              Record total duration\n",
              "7     8  ...           Source to destination transaction bytes \n",
              "8     9  ...            Destination to source transaction bytes\n",
              "9    10  ...          Source to destination time to live value \n",
              "10   11  ...           Destination to source time to live value\n",
              "11   12  ...           Source packets retransmitted or dropped \n",
              "12   13  ...       Destination packets retransmitted or dropped\n",
              "13   14  ...  http, ftp, smtp, ssh, dns, ftp-data ,irc  and ...\n",
              "14   15  ...                             Source bits per second\n",
              "15   16  ...                        Destination bits per second\n",
              "16   17  ...                Source to destination packet count \n",
              "17   18  ...                 Destination to source packet count\n",
              "18   19  ...              Source TCP window advertisement value\n",
              "19   20  ...         Destination TCP window advertisement value\n",
              "20   21  ...                    Source TCP base sequence number\n",
              "21   22  ...               Destination TCP base sequence number\n",
              "22   23  ...  Mean of the ?ow packet size transmitted by the...\n",
              "23   24  ...  Mean of the ?ow packet size transmitted by the...\n",
              "24   25  ...  Represents the pipelined depth into the connec...\n",
              "25   26  ...  Actual uncompressed content size of the data t...\n",
              "26   27  ...                               Source jitter (mSec)\n",
              "27   28  ...                          Destination jitter (mSec)\n",
              "28   29  ...                                  record start time\n",
              "29   30  ...                                   record last time\n",
              "30   31  ...             Source interpacket arrival time (mSec)\n",
              "31   32  ...        Destination interpacket arrival time (mSec)\n",
              "32   33  ...  TCP connection setup round-trip time, the sum ...\n",
              "33   34  ...  TCP connection setup time, the time between th...\n",
              "34   35  ...  TCP connection setup time, the time between th...\n",
              "35   36  ...  If source (1) and destination (3)IP addresses ...\n",
              "36   37  ...  No. for each state (6) according to specific r...\n",
              "37   38  ...  No. of flows that has methods such as Get and ...\n",
              "38   39  ...  If the ftp session is accessed by user and pas...\n",
              "39   40  ...     No of flows that has a command in ftp session.\n",
              "40   41  ...  No. of connections that contain the same servi...\n",
              "41   42  ...  No. of connections that contain the same servi...\n",
              "42   43  ...  No. of connections of the same destination add...\n",
              "43   44  ...  No. of connections of the same source address ...\n",
              "44   45  ...  No of connections of the same source address (...\n",
              "45   46  ...  No of connections of the same destination addr...\n",
              "46   47  ...  No of connections of the same source (1) and t...\n",
              "47   48  ...  The name of each attack category. In this data...\n",
              "48   49  ...              0 for normal and 1 for attack records\n",
              "\n",
              "[49 rows x 4 columns]"
            ]
          },
          "metadata": {
            "tags": []
          },
          "execution_count": 6
        }
      ]
    },
    {
      "cell_type": "code",
      "metadata": {
        "id": "5PHqEaHyMWOr",
        "outputId": "89e81d78-59ae-4f31-991a-fb2f9112d765",
        "colab": {
          "base_uri": "https://localhost:8080/",
          "height": 917
        }
      },
      "source": [
        "column_names = info['Name']\n",
        "column_names"
      ],
      "execution_count": null,
      "outputs": [
        {
          "output_type": "execute_result",
          "data": {
            "text/plain": [
              "0                srcip\n",
              "1                sport\n",
              "2                dstip\n",
              "3               dsport\n",
              "4                proto\n",
              "5                state\n",
              "6                  dur\n",
              "7               sbytes\n",
              "8               dbytes\n",
              "9                 sttl\n",
              "10                dttl\n",
              "11               sloss\n",
              "12               dloss\n",
              "13             service\n",
              "14               Sload\n",
              "15               Dload\n",
              "16               Spkts\n",
              "17               Dpkts\n",
              "18                swin\n",
              "19                dwin\n",
              "20               stcpb\n",
              "21               dtcpb\n",
              "22             smeansz\n",
              "23             dmeansz\n",
              "24         trans_depth\n",
              "25         res_bdy_len\n",
              "26                Sjit\n",
              "27                Djit\n",
              "28               Stime\n",
              "29               Ltime\n",
              "30             Sintpkt\n",
              "31             Dintpkt\n",
              "32              tcprtt\n",
              "33              synack\n",
              "34              ackdat\n",
              "35     is_sm_ips_ports\n",
              "36        ct_state_ttl\n",
              "37    ct_flw_http_mthd\n",
              "38        is_ftp_login\n",
              "39          ct_ftp_cmd\n",
              "40          ct_srv_src\n",
              "41          ct_srv_dst\n",
              "42          ct_dst_ltm\n",
              "43         ct_src_ ltm\n",
              "44    ct_src_dport_ltm\n",
              "45    ct_dst_sport_ltm\n",
              "46      ct_dst_src_ltm\n",
              "47          attack_cat\n",
              "48               Label\n",
              "Name: Name, dtype: object"
            ]
          },
          "metadata": {
            "tags": []
          },
          "execution_count": 7
        }
      ]
    },
    {
      "cell_type": "code",
      "metadata": {
        "id": "TiQFN-k-MYCD"
      },
      "source": [
        "data1 = pd.read_csv(PATH+'UNSW-NB15_1.csv', names=column_names)\n",
        "data2 = pd.read_csv(PATH+'UNSW-NB15_2.csv', names=column_names)\n",
        "data3 = pd.read_csv(PATH+'UNSW-NB15_3.csv', names=column_names)\n",
        "data4 = pd.read_csv(PATH+'UNSW-NB15_4.csv', names=column_names)"
      ],
      "execution_count": null,
      "outputs": []
    },
    {
      "cell_type": "markdown",
      "metadata": {
        "id": "nNvLFQa9pnUK"
      },
      "source": [
        "### Unindo dados"
      ]
    },
    {
      "cell_type": "code",
      "metadata": {
        "id": "yCaB4uPzpjzF"
      },
      "source": [
        "data = data1.append(data2, ignore_index=True)\n",
        "data = data.append(data3, ignore_index=True)\n",
        "data = data.append(data4, ignore_index=True)"
      ],
      "execution_count": null,
      "outputs": []
    },
    {
      "cell_type": "code",
      "metadata": {
        "id": "IfSCckbsMhTk",
        "outputId": "3673d989-bc51-4a62-8f00-6dac29dd766d",
        "colab": {
          "base_uri": "https://localhost:8080/",
          "height": 241
        }
      },
      "source": [
        "data.head()"
      ],
      "execution_count": null,
      "outputs": [
        {
          "output_type": "execute_result",
          "data": {
            "text/html": [
              "<div>\n",
              "<style scoped>\n",
              "    .dataframe tbody tr th:only-of-type {\n",
              "        vertical-align: middle;\n",
              "    }\n",
              "\n",
              "    .dataframe tbody tr th {\n",
              "        vertical-align: top;\n",
              "    }\n",
              "\n",
              "    .dataframe thead th {\n",
              "        text-align: right;\n",
              "    }\n",
              "</style>\n",
              "<table border=\"1\" class=\"dataframe\">\n",
              "  <thead>\n",
              "    <tr style=\"text-align: right;\">\n",
              "      <th></th>\n",
              "      <th>srcip</th>\n",
              "      <th>sport</th>\n",
              "      <th>dstip</th>\n",
              "      <th>dsport</th>\n",
              "      <th>proto</th>\n",
              "      <th>state</th>\n",
              "      <th>dur</th>\n",
              "      <th>sbytes</th>\n",
              "      <th>dbytes</th>\n",
              "      <th>sttl</th>\n",
              "      <th>dttl</th>\n",
              "      <th>sloss</th>\n",
              "      <th>dloss</th>\n",
              "      <th>service</th>\n",
              "      <th>Sload</th>\n",
              "      <th>Dload</th>\n",
              "      <th>Spkts</th>\n",
              "      <th>Dpkts</th>\n",
              "      <th>swin</th>\n",
              "      <th>dwin</th>\n",
              "      <th>stcpb</th>\n",
              "      <th>dtcpb</th>\n",
              "      <th>smeansz</th>\n",
              "      <th>dmeansz</th>\n",
              "      <th>trans_depth</th>\n",
              "      <th>res_bdy_len</th>\n",
              "      <th>Sjit</th>\n",
              "      <th>Djit</th>\n",
              "      <th>Stime</th>\n",
              "      <th>Ltime</th>\n",
              "      <th>Sintpkt</th>\n",
              "      <th>Dintpkt</th>\n",
              "      <th>tcprtt</th>\n",
              "      <th>synack</th>\n",
              "      <th>ackdat</th>\n",
              "      <th>is_sm_ips_ports</th>\n",
              "      <th>ct_state_ttl</th>\n",
              "      <th>ct_flw_http_mthd</th>\n",
              "      <th>is_ftp_login</th>\n",
              "      <th>ct_ftp_cmd</th>\n",
              "      <th>ct_srv_src</th>\n",
              "      <th>ct_srv_dst</th>\n",
              "      <th>ct_dst_ltm</th>\n",
              "      <th>ct_src_ ltm</th>\n",
              "      <th>ct_src_dport_ltm</th>\n",
              "      <th>ct_dst_sport_ltm</th>\n",
              "      <th>ct_dst_src_ltm</th>\n",
              "      <th>attack_cat</th>\n",
              "      <th>Label</th>\n",
              "    </tr>\n",
              "  </thead>\n",
              "  <tbody>\n",
              "    <tr>\n",
              "      <th>0</th>\n",
              "      <td>59.166.0.0</td>\n",
              "      <td>1390</td>\n",
              "      <td>149.171.126.6</td>\n",
              "      <td>53</td>\n",
              "      <td>udp</td>\n",
              "      <td>CON</td>\n",
              "      <td>0.001055</td>\n",
              "      <td>132</td>\n",
              "      <td>164</td>\n",
              "      <td>31</td>\n",
              "      <td>29</td>\n",
              "      <td>0</td>\n",
              "      <td>0</td>\n",
              "      <td>dns</td>\n",
              "      <td>500473.93750</td>\n",
              "      <td>621800.93750</td>\n",
              "      <td>2</td>\n",
              "      <td>2</td>\n",
              "      <td>0</td>\n",
              "      <td>0</td>\n",
              "      <td>0</td>\n",
              "      <td>0</td>\n",
              "      <td>66</td>\n",
              "      <td>82</td>\n",
              "      <td>0</td>\n",
              "      <td>0</td>\n",
              "      <td>0.00000</td>\n",
              "      <td>0.000000</td>\n",
              "      <td>1421927414</td>\n",
              "      <td>1421927414</td>\n",
              "      <td>0.017</td>\n",
              "      <td>0.013000</td>\n",
              "      <td>0.0</td>\n",
              "      <td>0.0</td>\n",
              "      <td>0.0</td>\n",
              "      <td>0</td>\n",
              "      <td>0</td>\n",
              "      <td>0.0</td>\n",
              "      <td>0.0</td>\n",
              "      <td>0</td>\n",
              "      <td>3</td>\n",
              "      <td>7</td>\n",
              "      <td>1</td>\n",
              "      <td>3</td>\n",
              "      <td>1</td>\n",
              "      <td>1</td>\n",
              "      <td>1</td>\n",
              "      <td>NaN</td>\n",
              "      <td>0</td>\n",
              "    </tr>\n",
              "    <tr>\n",
              "      <th>1</th>\n",
              "      <td>59.166.0.0</td>\n",
              "      <td>33661</td>\n",
              "      <td>149.171.126.9</td>\n",
              "      <td>1024</td>\n",
              "      <td>udp</td>\n",
              "      <td>CON</td>\n",
              "      <td>0.036133</td>\n",
              "      <td>528</td>\n",
              "      <td>304</td>\n",
              "      <td>31</td>\n",
              "      <td>29</td>\n",
              "      <td>0</td>\n",
              "      <td>0</td>\n",
              "      <td>-</td>\n",
              "      <td>87676.08594</td>\n",
              "      <td>50480.17188</td>\n",
              "      <td>4</td>\n",
              "      <td>4</td>\n",
              "      <td>0</td>\n",
              "      <td>0</td>\n",
              "      <td>0</td>\n",
              "      <td>0</td>\n",
              "      <td>132</td>\n",
              "      <td>76</td>\n",
              "      <td>0</td>\n",
              "      <td>0</td>\n",
              "      <td>9.89101</td>\n",
              "      <td>10.682733</td>\n",
              "      <td>1421927414</td>\n",
              "      <td>1421927414</td>\n",
              "      <td>7.005</td>\n",
              "      <td>7.564333</td>\n",
              "      <td>0.0</td>\n",
              "      <td>0.0</td>\n",
              "      <td>0.0</td>\n",
              "      <td>0</td>\n",
              "      <td>0</td>\n",
              "      <td>0.0</td>\n",
              "      <td>0.0</td>\n",
              "      <td>0</td>\n",
              "      <td>2</td>\n",
              "      <td>4</td>\n",
              "      <td>2</td>\n",
              "      <td>3</td>\n",
              "      <td>1</td>\n",
              "      <td>1</td>\n",
              "      <td>2</td>\n",
              "      <td>NaN</td>\n",
              "      <td>0</td>\n",
              "    </tr>\n",
              "    <tr>\n",
              "      <th>2</th>\n",
              "      <td>59.166.0.6</td>\n",
              "      <td>1464</td>\n",
              "      <td>149.171.126.7</td>\n",
              "      <td>53</td>\n",
              "      <td>udp</td>\n",
              "      <td>CON</td>\n",
              "      <td>0.001119</td>\n",
              "      <td>146</td>\n",
              "      <td>178</td>\n",
              "      <td>31</td>\n",
              "      <td>29</td>\n",
              "      <td>0</td>\n",
              "      <td>0</td>\n",
              "      <td>dns</td>\n",
              "      <td>521894.53130</td>\n",
              "      <td>636282.37500</td>\n",
              "      <td>2</td>\n",
              "      <td>2</td>\n",
              "      <td>0</td>\n",
              "      <td>0</td>\n",
              "      <td>0</td>\n",
              "      <td>0</td>\n",
              "      <td>73</td>\n",
              "      <td>89</td>\n",
              "      <td>0</td>\n",
              "      <td>0</td>\n",
              "      <td>0.00000</td>\n",
              "      <td>0.000000</td>\n",
              "      <td>1421927414</td>\n",
              "      <td>1421927414</td>\n",
              "      <td>0.017</td>\n",
              "      <td>0.013000</td>\n",
              "      <td>0.0</td>\n",
              "      <td>0.0</td>\n",
              "      <td>0.0</td>\n",
              "      <td>0</td>\n",
              "      <td>0</td>\n",
              "      <td>0.0</td>\n",
              "      <td>0.0</td>\n",
              "      <td>0</td>\n",
              "      <td>12</td>\n",
              "      <td>8</td>\n",
              "      <td>1</td>\n",
              "      <td>2</td>\n",
              "      <td>2</td>\n",
              "      <td>1</td>\n",
              "      <td>1</td>\n",
              "      <td>NaN</td>\n",
              "      <td>0</td>\n",
              "    </tr>\n",
              "    <tr>\n",
              "      <th>3</th>\n",
              "      <td>59.166.0.5</td>\n",
              "      <td>3593</td>\n",
              "      <td>149.171.126.5</td>\n",
              "      <td>53</td>\n",
              "      <td>udp</td>\n",
              "      <td>CON</td>\n",
              "      <td>0.001209</td>\n",
              "      <td>132</td>\n",
              "      <td>164</td>\n",
              "      <td>31</td>\n",
              "      <td>29</td>\n",
              "      <td>0</td>\n",
              "      <td>0</td>\n",
              "      <td>dns</td>\n",
              "      <td>436724.56250</td>\n",
              "      <td>542597.18750</td>\n",
              "      <td>2</td>\n",
              "      <td>2</td>\n",
              "      <td>0</td>\n",
              "      <td>0</td>\n",
              "      <td>0</td>\n",
              "      <td>0</td>\n",
              "      <td>66</td>\n",
              "      <td>82</td>\n",
              "      <td>0</td>\n",
              "      <td>0</td>\n",
              "      <td>0.00000</td>\n",
              "      <td>0.000000</td>\n",
              "      <td>1421927414</td>\n",
              "      <td>1421927414</td>\n",
              "      <td>0.043</td>\n",
              "      <td>0.014000</td>\n",
              "      <td>0.0</td>\n",
              "      <td>0.0</td>\n",
              "      <td>0.0</td>\n",
              "      <td>0</td>\n",
              "      <td>0</td>\n",
              "      <td>0.0</td>\n",
              "      <td>0.0</td>\n",
              "      <td>0</td>\n",
              "      <td>6</td>\n",
              "      <td>9</td>\n",
              "      <td>1</td>\n",
              "      <td>1</td>\n",
              "      <td>1</td>\n",
              "      <td>1</td>\n",
              "      <td>1</td>\n",
              "      <td>NaN</td>\n",
              "      <td>0</td>\n",
              "    </tr>\n",
              "    <tr>\n",
              "      <th>4</th>\n",
              "      <td>59.166.0.3</td>\n",
              "      <td>49664</td>\n",
              "      <td>149.171.126.0</td>\n",
              "      <td>53</td>\n",
              "      <td>udp</td>\n",
              "      <td>CON</td>\n",
              "      <td>0.001169</td>\n",
              "      <td>146</td>\n",
              "      <td>178</td>\n",
              "      <td>31</td>\n",
              "      <td>29</td>\n",
              "      <td>0</td>\n",
              "      <td>0</td>\n",
              "      <td>dns</td>\n",
              "      <td>499572.25000</td>\n",
              "      <td>609067.56250</td>\n",
              "      <td>2</td>\n",
              "      <td>2</td>\n",
              "      <td>0</td>\n",
              "      <td>0</td>\n",
              "      <td>0</td>\n",
              "      <td>0</td>\n",
              "      <td>73</td>\n",
              "      <td>89</td>\n",
              "      <td>0</td>\n",
              "      <td>0</td>\n",
              "      <td>0.00000</td>\n",
              "      <td>0.000000</td>\n",
              "      <td>1421927414</td>\n",
              "      <td>1421927414</td>\n",
              "      <td>0.005</td>\n",
              "      <td>0.003000</td>\n",
              "      <td>0.0</td>\n",
              "      <td>0.0</td>\n",
              "      <td>0.0</td>\n",
              "      <td>0</td>\n",
              "      <td>0</td>\n",
              "      <td>0.0</td>\n",
              "      <td>0.0</td>\n",
              "      <td>0</td>\n",
              "      <td>7</td>\n",
              "      <td>9</td>\n",
              "      <td>1</td>\n",
              "      <td>1</td>\n",
              "      <td>1</td>\n",
              "      <td>1</td>\n",
              "      <td>1</td>\n",
              "      <td>NaN</td>\n",
              "      <td>0</td>\n",
              "    </tr>\n",
              "  </tbody>\n",
              "</table>\n",
              "</div>"
            ],
            "text/plain": [
              "        srcip  sport          dstip  ... ct_dst_src_ltm attack_cat Label\n",
              "0  59.166.0.0   1390  149.171.126.6  ...              1        NaN     0\n",
              "1  59.166.0.0  33661  149.171.126.9  ...              2        NaN     0\n",
              "2  59.166.0.6   1464  149.171.126.7  ...              1        NaN     0\n",
              "3  59.166.0.5   3593  149.171.126.5  ...              1        NaN     0\n",
              "4  59.166.0.3  49664  149.171.126.0  ...              1        NaN     0\n",
              "\n",
              "[5 rows x 49 columns]"
            ]
          },
          "metadata": {
            "tags": []
          },
          "execution_count": 10
        }
      ]
    },
    {
      "cell_type": "markdown",
      "metadata": {
        "id": "UW8m8Hh8zVuV"
      },
      "source": [
        "### Tamanho dos dados"
      ]
    },
    {
      "cell_type": "code",
      "metadata": {
        "id": "c7Amff-NzVuX",
        "outputId": "052fa136-982a-4343-ae05-419a811896bb",
        "colab": {
          "base_uri": "https://localhost:8080/",
          "height": 35
        }
      },
      "source": [
        "data.shape"
      ],
      "execution_count": null,
      "outputs": [
        {
          "output_type": "execute_result",
          "data": {
            "text/plain": [
              "(2540047, 49)"
            ]
          },
          "metadata": {
            "tags": []
          },
          "execution_count": 11
        }
      ]
    },
    {
      "cell_type": "markdown",
      "metadata": {
        "id": "kRMcpRWVdXjz"
      },
      "source": [
        "### Verificando tipos de ataques (Porcentagem)"
      ]
    },
    {
      "cell_type": "code",
      "metadata": {
        "id": "z_1y8Yl1aoMC",
        "outputId": "a0e1a573-3323-460e-ded0-f8e239b77906",
        "colab": {
          "base_uri": "https://localhost:8080/",
          "height": 71
        }
      },
      "source": [
        "data.Label.value_counts()/sum(data.Label.value_counts())*100"
      ],
      "execution_count": null,
      "outputs": [
        {
          "output_type": "execute_result",
          "data": {
            "text/plain": [
              "0    87.351297\n",
              "1    12.648703\n",
              "Name: Label, dtype: float64"
            ]
          },
          "metadata": {
            "tags": []
          },
          "execution_count": 12
        }
      ]
    },
    {
      "cell_type": "code",
      "metadata": {
        "id": "ENg3Ru8RMocZ",
        "outputId": "f827a62c-f097-4c43-9885-20ae55595254",
        "colab": {
          "base_uri": "https://localhost:8080/",
          "height": 269
        }
      },
      "source": [
        "data.attack_cat.value_counts()/sum(data.attack_cat.value_counts())*100"
      ],
      "execution_count": null,
      "outputs": [
        {
          "output_type": "execute_result",
          "data": {
            "text/plain": [
              "Generic             67.068908\n",
              "Exploits            13.858499\n",
              " Fuzzers             5.974484\n",
              "DoS                  5.089905\n",
              " Reconnaissance      3.805990\n",
              " Fuzzers             1.572134\n",
              "Analysis             0.833222\n",
              "Backdoor             0.558697\n",
              "Reconnaissance       0.547492\n",
              " Shellcode           0.400893\n",
              "Backdoors            0.166209\n",
              "Shellcode            0.069409\n",
              "Worms                0.054158\n",
              "Name: attack_cat, dtype: float64"
            ]
          },
          "metadata": {
            "tags": []
          },
          "execution_count": 13
        }
      ]
    },
    {
      "cell_type": "markdown",
      "metadata": {
        "id": "Ah75uHpXzVuc"
      },
      "source": [
        "## Pré-processamento dos dados\n",
        "\n",
        "\n",
        "\n"
      ]
    },
    {
      "cell_type": "markdown",
      "metadata": {
        "id": "U51UgEkwIwpq"
      },
      "source": [
        "### Listando colunas com tipo object"
      ]
    },
    {
      "cell_type": "code",
      "metadata": {
        "id": "YGdlZ2h-M5kj",
        "outputId": "32ea8631-3b8f-4389-80a7-87d1a806e8da",
        "colab": {
          "base_uri": "https://localhost:8080/",
          "height": 197
        }
      },
      "source": [
        "data.dtypes[data.dtypes == 'O']"
      ],
      "execution_count": null,
      "outputs": [
        {
          "output_type": "execute_result",
          "data": {
            "text/plain": [
              "srcip         object\n",
              "sport         object\n",
              "dstip         object\n",
              "dsport        object\n",
              "proto         object\n",
              "state         object\n",
              "service       object\n",
              "ct_ftp_cmd    object\n",
              "attack_cat    object\n",
              "dtype: object"
            ]
          },
          "metadata": {
            "tags": []
          },
          "execution_count": 14
        }
      ]
    },
    {
      "cell_type": "markdown",
      "metadata": {
        "id": "17c7cM6ZI_H5"
      },
      "source": [
        "### Filtrando dados defeituosos"
      ]
    },
    {
      "cell_type": "code",
      "metadata": {
        "id": "H7fskh6TNggX"
      },
      "source": [
        "def isdecimal(x):\n",
        "  return  str(x).isdecimal()"
      ],
      "execution_count": null,
      "outputs": []
    },
    {
      "cell_type": "code",
      "metadata": {
        "id": "5LqaC9zu-R2J"
      },
      "source": [
        "data  = data[data['sport'].apply(isdecimal)]"
      ],
      "execution_count": null,
      "outputs": []
    },
    {
      "cell_type": "code",
      "metadata": {
        "id": "guyUaCsn_Unr"
      },
      "source": [
        "data  = data[data['dsport'].apply(isdecimal)]"
      ],
      "execution_count": null,
      "outputs": []
    },
    {
      "cell_type": "markdown",
      "metadata": {
        "id": "7ORR9a6FJQDO"
      },
      "source": [
        "### Ajustando tipos"
      ]
    },
    {
      "cell_type": "code",
      "metadata": {
        "id": "21ubRPtOQ8nZ"
      },
      "source": [
        "data['sport'] = pd.to_numeric(data['sport'])"
      ],
      "execution_count": null,
      "outputs": []
    },
    {
      "cell_type": "code",
      "metadata": {
        "id": "4X3NQ6qNUGIg"
      },
      "source": [
        "data['dsport'] = pd.to_numeric(data['dsport'])"
      ],
      "execution_count": null,
      "outputs": []
    },
    {
      "cell_type": "markdown",
      "metadata": {
        "id": "JP-qeJFUJM5E"
      },
      "source": [
        "Separando dados categoricos"
      ]
    },
    {
      "cell_type": "code",
      "metadata": {
        "id": "Y9AfmstfVXzY"
      },
      "source": [
        "proto = pd.Categorical(data['proto'])"
      ],
      "execution_count": null,
      "outputs": []
    },
    {
      "cell_type": "code",
      "metadata": {
        "id": "b-nbymKc_MWT"
      },
      "source": [
        "data['proto'] = proto.codes"
      ],
      "execution_count": null,
      "outputs": []
    },
    {
      "cell_type": "code",
      "metadata": {
        "id": "mnAGRlnW_m5G"
      },
      "source": [
        "state = pd.Categorical(data['state'])"
      ],
      "execution_count": null,
      "outputs": []
    },
    {
      "cell_type": "code",
      "metadata": {
        "id": "UYyp2j2tCS6k"
      },
      "source": [
        "data['state'] = state.codes"
      ],
      "execution_count": null,
      "outputs": []
    },
    {
      "cell_type": "code",
      "metadata": {
        "id": "Nl8my_g2Ci4X"
      },
      "source": [
        "service = pd.Categorical(data['service'])"
      ],
      "execution_count": null,
      "outputs": []
    },
    {
      "cell_type": "code",
      "metadata": {
        "id": "HuGi7-67HtrQ"
      },
      "source": [
        "data['service'] = service.codes"
      ],
      "execution_count": null,
      "outputs": []
    },
    {
      "cell_type": "markdown",
      "metadata": {
        "id": "lZWZLYciJupk"
      },
      "source": [
        "Substituindo dados"
      ]
    },
    {
      "cell_type": "code",
      "metadata": {
        "id": "qMjTZwfiCz9x"
      },
      "source": [
        "data['ct_ftp_cmd'] = data['ct_ftp_cmd'].replace(' ', 0)"
      ],
      "execution_count": null,
      "outputs": []
    },
    {
      "cell_type": "code",
      "metadata": {
        "id": "nr1tkH1TDfme"
      },
      "source": [
        "data['ct_ftp_cmd'] = pd.to_numeric(data['ct_ftp_cmd'])"
      ],
      "execution_count": null,
      "outputs": []
    },
    {
      "cell_type": "code",
      "metadata": {
        "id": "vqUp9GlQT-oB"
      },
      "source": [
        "data['attack_cat'] = data['attack_cat'].replace(np.nan, 'Benign')"
      ],
      "execution_count": null,
      "outputs": []
    },
    {
      "cell_type": "markdown",
      "metadata": {
        "id": "sDbqAh7vKwYT"
      },
      "source": [
        "Separando Labels"
      ]
    },
    {
      "cell_type": "code",
      "metadata": {
        "id": "-JOyVGOe8j_5"
      },
      "source": [
        "attack_cat = data.pop('attack_cat')"
      ],
      "execution_count": null,
      "outputs": []
    },
    {
      "cell_type": "code",
      "metadata": {
        "id": "pi4nUEMsH-Tg"
      },
      "source": [
        "attack_cat = pd.Categorical(attack_cat)"
      ],
      "execution_count": null,
      "outputs": []
    },
    {
      "cell_type": "code",
      "metadata": {
        "id": "q2NpjJJpL0ps"
      },
      "source": [
        "label = data.pop('Label')"
      ],
      "execution_count": null,
      "outputs": []
    },
    {
      "cell_type": "markdown",
      "metadata": {
        "id": "j7SMGv1GJ6Tb"
      },
      "source": [
        "Separando endereços ip"
      ]
    },
    {
      "cell_type": "code",
      "metadata": {
        "id": "sXSY0XRX94xX"
      },
      "source": [
        "srcip = data.pop('srcip')"
      ],
      "execution_count": null,
      "outputs": []
    },
    {
      "cell_type": "code",
      "metadata": {
        "id": "LwqNVEhY-Y7o"
      },
      "source": [
        "dstip = data.pop('dstip')"
      ],
      "execution_count": null,
      "outputs": []
    },
    {
      "cell_type": "markdown",
      "metadata": {
        "id": "v06ARe4fKBpx"
      },
      "source": [
        "Verificando novos tipos"
      ]
    },
    {
      "cell_type": "code",
      "metadata": {
        "id": "5RF_bMaQ-hUw",
        "outputId": "21858c3b-2ed7-4f41-a6c5-af67364296c0",
        "colab": {
          "base_uri": "https://localhost:8080/",
          "height": 845
        }
      },
      "source": [
        "data.dtypes"
      ],
      "execution_count": null,
      "outputs": [
        {
          "output_type": "execute_result",
          "data": {
            "text/plain": [
              "sport                 int64\n",
              "dsport                int64\n",
              "proto                 int16\n",
              "state                  int8\n",
              "dur                 float64\n",
              "sbytes                int64\n",
              "dbytes                int64\n",
              "sttl                  int64\n",
              "dttl                  int64\n",
              "sloss                 int64\n",
              "dloss                 int64\n",
              "service                int8\n",
              "Sload               float64\n",
              "Dload               float64\n",
              "Spkts                 int64\n",
              "Dpkts                 int64\n",
              "swin                  int64\n",
              "dwin                  int64\n",
              "stcpb                 int64\n",
              "dtcpb                 int64\n",
              "smeansz               int64\n",
              "dmeansz               int64\n",
              "trans_depth           int64\n",
              "res_bdy_len           int64\n",
              "Sjit                float64\n",
              "Djit                float64\n",
              "Stime                 int64\n",
              "Ltime                 int64\n",
              "Sintpkt             float64\n",
              "Dintpkt             float64\n",
              "tcprtt              float64\n",
              "synack              float64\n",
              "ackdat              float64\n",
              "is_sm_ips_ports       int64\n",
              "ct_state_ttl          int64\n",
              "ct_flw_http_mthd    float64\n",
              "is_ftp_login        float64\n",
              "ct_ftp_cmd            int64\n",
              "ct_srv_src            int64\n",
              "ct_srv_dst            int64\n",
              "ct_dst_ltm            int64\n",
              "ct_src_ ltm           int64\n",
              "ct_src_dport_ltm      int64\n",
              "ct_dst_sport_ltm      int64\n",
              "ct_dst_src_ltm        int64\n",
              "dtype: object"
            ]
          },
          "metadata": {
            "tags": []
          },
          "execution_count": 33
        }
      ]
    },
    {
      "cell_type": "markdown",
      "metadata": {
        "id": "lB0O1m9MLuYi"
      },
      "source": [
        "### Normaliznado dados"
      ]
    },
    {
      "cell_type": "code",
      "metadata": {
        "id": "zzNIaEuMLy_C"
      },
      "source": [
        "features_stats = data.describe().transpose()"
      ],
      "execution_count": null,
      "outputs": []
    },
    {
      "cell_type": "code",
      "metadata": {
        "id": "zBWfGOjuW9wo",
        "outputId": "67cadc71-901c-4f00-bbbd-28e7e87755ae",
        "colab": {
          "base_uri": "https://localhost:8080/",
          "height": 204
        }
      },
      "source": [],
      "execution_count": null,
      "outputs": [
        {
          "output_type": "execute_result",
          "data": {
            "text/html": [
              "<div>\n",
              "<style scoped>\n",
              "    .dataframe tbody tr th:only-of-type {\n",
              "        vertical-align: middle;\n",
              "    }\n",
              "\n",
              "    .dataframe tbody tr th {\n",
              "        vertical-align: top;\n",
              "    }\n",
              "\n",
              "    .dataframe thead th {\n",
              "        text-align: right;\n",
              "    }\n",
              "</style>\n",
              "<table border=\"1\" class=\"dataframe\">\n",
              "  <thead>\n",
              "    <tr style=\"text-align: right;\">\n",
              "      <th></th>\n",
              "      <th>count</th>\n",
              "      <th>mean</th>\n",
              "      <th>std</th>\n",
              "      <th>min</th>\n",
              "      <th>25%</th>\n",
              "      <th>50%</th>\n",
              "      <th>75%</th>\n",
              "      <th>max</th>\n",
              "    </tr>\n",
              "  </thead>\n",
              "  <tbody>\n",
              "    <tr>\n",
              "      <th>sport</th>\n",
              "      <td>2539739.0</td>\n",
              "      <td>30536.931086</td>\n",
              "      <td>20441.216792</td>\n",
              "      <td>0.0</td>\n",
              "      <td>11231.000000</td>\n",
              "      <td>31690.000000</td>\n",
              "      <td>47439.000000</td>\n",
              "      <td>65535.000000</td>\n",
              "    </tr>\n",
              "    <tr>\n",
              "      <th>dsport</th>\n",
              "      <td>2539739.0</td>\n",
              "      <td>11235.096789</td>\n",
              "      <td>18438.200836</td>\n",
              "      <td>0.0</td>\n",
              "      <td>53.000000</td>\n",
              "      <td>80.000000</td>\n",
              "      <td>14970.000000</td>\n",
              "      <td>65535.000000</td>\n",
              "    </tr>\n",
              "    <tr>\n",
              "      <th>proto</th>\n",
              "      <td>2539739.0</td>\n",
              "      <td>114.494973</td>\n",
              "      <td>9.455864</td>\n",
              "      <td>0.0</td>\n",
              "      <td>113.000000</td>\n",
              "      <td>113.000000</td>\n",
              "      <td>119.000000</td>\n",
              "      <td>133.000000</td>\n",
              "    </tr>\n",
              "    <tr>\n",
              "      <th>state</th>\n",
              "      <td>2539739.0</td>\n",
              "      <td>4.546094</td>\n",
              "      <td>1.428131</td>\n",
              "      <td>0.0</td>\n",
              "      <td>5.000000</td>\n",
              "      <td>5.000000</td>\n",
              "      <td>5.000000</td>\n",
              "      <td>15.000000</td>\n",
              "    </tr>\n",
              "    <tr>\n",
              "      <th>dur</th>\n",
              "      <td>2539739.0</td>\n",
              "      <td>0.658863</td>\n",
              "      <td>13.925768</td>\n",
              "      <td>0.0</td>\n",
              "      <td>0.001037</td>\n",
              "      <td>0.015864</td>\n",
              "      <td>0.214754</td>\n",
              "      <td>8786.637695</td>\n",
              "    </tr>\n",
              "  </tbody>\n",
              "</table>\n",
              "</div>"
            ],
            "text/plain": [
              "            count          mean  ...           75%           max\n",
              "sport   2539739.0  30536.931086  ...  47439.000000  65535.000000\n",
              "dsport  2539739.0  11235.096789  ...  14970.000000  65535.000000\n",
              "proto   2539739.0    114.494973  ...    119.000000    133.000000\n",
              "state   2539739.0      4.546094  ...      5.000000     15.000000\n",
              "dur     2539739.0      0.658863  ...      0.214754   8786.637695\n",
              "\n",
              "[5 rows x 8 columns]"
            ]
          },
          "metadata": {
            "tags": []
          },
          "execution_count": 61
        }
      ]
    },
    {
      "cell_type": "code",
      "metadata": {
        "id": "1VjACTgnMGX1"
      },
      "source": [
        "def norm(x):\n",
        "  return (x - features_stats['mean']) / features_stats['std']\n",
        "\n",
        "normed_features = norm(data)"
      ],
      "execution_count": null,
      "outputs": []
    },
    {
      "cell_type": "code",
      "metadata": {
        "id": "grFiomDeW7GJ"
      },
      "source": [
        "normed_features.isna().sum()"
      ],
      "execution_count": null,
      "outputs": []
    },
    {
      "cell_type": "markdown",
      "metadata": {
        "id": "jq_a40xfTJFd"
      },
      "source": [
        "### Separando conjunto de treino e teste"
      ]
    },
    {
      "cell_type": "code",
      "metadata": {
        "id": "6O5ccoQYd_K0"
      },
      "source": [
        " normed_features['Label'] = label"
      ],
      "execution_count": null,
      "outputs": []
    },
    {
      "cell_type": "code",
      "metadata": {
        "id": "8u9RlyLMM_hG"
      },
      "source": [
        "normed_features['attack_cat'] = attack_cat"
      ],
      "execution_count": null,
      "outputs": []
    },
    {
      "cell_type": "code",
      "metadata": {
        "id": "HSnYmzAtTVh6"
      },
      "source": [
        "train = normed_features.sample(frac=0.8,random_state=1)\n",
        "test = normed_features.drop(train.index)"
      ],
      "execution_count": null,
      "outputs": []
    },
    {
      "cell_type": "code",
      "metadata": {
        "id": "AtRbWZm_fb4c",
        "outputId": "35ec776a-38ba-43b3-a8da-a16e86811212",
        "colab": {
          "base_uri": "https://localhost:8080/",
          "height": 71
        }
      },
      "source": [
        "train.Label.value_counts()"
      ],
      "execution_count": null,
      "outputs": [
        {
          "output_type": "execute_result",
          "data": {
            "text/plain": [
              "0    1774805\n",
              "1     256986\n",
              "Name: Label, dtype: int64"
            ]
          },
          "metadata": {
            "tags": []
          },
          "execution_count": 39
        }
      ]
    },
    {
      "cell_type": "code",
      "metadata": {
        "id": "n64s6wKKfqqa",
        "outputId": "50ad42c8-ee14-4dbd-9247-9044755ab06a",
        "colab": {
          "base_uri": "https://localhost:8080/",
          "height": 71
        }
      },
      "source": [
        "test.Label.value_counts()"
      ],
      "execution_count": null,
      "outputs": [
        {
          "output_type": "execute_result",
          "data": {
            "text/plain": [
              "0    443651\n",
              "1     64297\n",
              "Name: Label, dtype: int64"
            ]
          },
          "metadata": {
            "tags": []
          },
          "execution_count": 40
        }
      ]
    },
    {
      "cell_type": "code",
      "metadata": {
        "id": "e3sMvPwuf0zZ",
        "outputId": "20fad037-dfaa-47b6-da19-7e13f5e741e1",
        "colab": {
          "base_uri": "https://localhost:8080/",
          "height": 35
        }
      },
      "source": [
        "test.shape, train.shape"
      ],
      "execution_count": null,
      "outputs": [
        {
          "output_type": "execute_result",
          "data": {
            "text/plain": [
              "((507948, 47), (2031791, 47))"
            ]
          },
          "metadata": {
            "tags": []
          },
          "execution_count": 41
        }
      ]
    },
    {
      "cell_type": "code",
      "metadata": {
        "id": "IKwpI224g-Q8"
      },
      "source": [
        "train_targ1 = train.pop('Label')\n",
        "train_targ2 = train.pop('attack_cat')\n",
        "train_feat = train\n",
        "\n",
        "test_targ1 = test.pop('Label')\n",
        "test_targ2 = test.pop('attack_cat')\n",
        "test_feat = test"
      ],
      "execution_count": null,
      "outputs": []
    },
    {
      "cell_type": "markdown",
      "metadata": {
        "id": "tkg5ZlH1zVvQ"
      },
      "source": [
        "## Criando Modelo"
      ]
    },
    {
      "cell_type": "code",
      "metadata": {
        "id": "0SbPPIqhTMWw",
        "outputId": "5d7d04cd-d861-4349-c4f9-d96a3d11582b",
        "colab": {
          "base_uri": "https://localhost:8080/",
          "height": 269
        }
      },
      "source": [
        "attack_cat.value_counts()"
      ],
      "execution_count": null,
      "outputs": [
        {
          "output_type": "execute_result",
          "data": {
            "text/plain": [
              " Fuzzers              5051\n",
              " Fuzzers             19195\n",
              " Reconnaissance      12228\n",
              " Shellcode            1288\n",
              "Analysis              2677\n",
              "Backdoor              1795\n",
              "Backdoors              534\n",
              "DoS                  16353\n",
              "Exploits             44525\n",
              "Generic             215481\n",
              "Reconnaissance        1759\n",
              "Shellcode              223\n",
              "Worms                  174\n",
              "dtype: int64"
            ]
          },
          "metadata": {
            "tags": []
          },
          "execution_count": 47
        }
      ]
    },
    {
      "cell_type": "code",
      "metadata": {
        "id": "r3DaEeeJFF3y",
        "outputId": "ab344daf-1393-4436-ce84-50850d040a9a",
        "colab": {
          "base_uri": "https://localhost:8080/",
          "height": 35
        }
      },
      "source": [
        "train_feat.shape[1]"
      ],
      "execution_count": null,
      "outputs": [
        {
          "output_type": "execute_result",
          "data": {
            "text/plain": [
              "45"
            ]
          },
          "metadata": {
            "tags": []
          },
          "execution_count": 48
        }
      ]
    },
    {
      "cell_type": "code",
      "metadata": {
        "id": "h0_2-aMPzVvy"
      },
      "source": [
        "def build_model_label():\n",
        "  model = keras.Sequential([\n",
        "    keras.layers.Dense(15, activation='relu', input_shape=[45]),\n",
        "    keras.layers.Dense(10, activation='relu'),\n",
        "    keras.layers.Dense(1, activation='sigmoid')\n",
        "  ])\n",
        "\n",
        "  model.compile(loss='sparse_categorical_crossentropy',\n",
        "                optimizer='adam',\n",
        "                metrics=['accuracy'])\n",
        "\n",
        "  return model"
      ],
      "execution_count": null,
      "outputs": []
    },
    {
      "cell_type": "code",
      "metadata": {
        "id": "E6gByZQazVv1",
        "outputId": "abb4d6a4-244d-4e83-b191-a0e3819192a3",
        "colab": {
          "base_uri": "https://localhost:8080/",
          "height": 91
        }
      },
      "source": [
        "model_label = build_model_label()"
      ],
      "execution_count": null,
      "outputs": [
        {
          "output_type": "stream",
          "text": [
            "WARNING:tensorflow:From /usr/local/lib/python3.6/dist-packages/tensorflow_core/python/ops/resource_variable_ops.py:1630: calling BaseResourceVariable.__init__ (from tensorflow.python.ops.resource_variable_ops) with constraint is deprecated and will be removed in a future version.\n",
            "Instructions for updating:\n",
            "If using Keras pass *_constraint arguments to layers.\n"
          ],
          "name": "stdout"
        }
      ]
    },
    {
      "cell_type": "code",
      "metadata": {
        "id": "nKmEekOjyYfC",
        "outputId": "c8d3c1d4-af0c-4dc2-e099-847ef37bd616",
        "colab": {
          "base_uri": "https://localhost:8080/",
          "height": 269
        }
      },
      "source": [
        "model_label.summary()"
      ],
      "execution_count": null,
      "outputs": [
        {
          "output_type": "stream",
          "text": [
            "Model: \"sequential\"\n",
            "_________________________________________________________________\n",
            "Layer (type)                 Output Shape              Param #   \n",
            "=================================================================\n",
            "dense (Dense)                (None, 15)                690       \n",
            "_________________________________________________________________\n",
            "dense_1 (Dense)              (None, 10)                160       \n",
            "_________________________________________________________________\n",
            "dense_2 (Dense)              (None, 1)                 11        \n",
            "=================================================================\n",
            "Total params: 861\n",
            "Trainable params: 861\n",
            "Non-trainable params: 0\n",
            "_________________________________________________________________\n"
          ],
          "name": "stdout"
        }
      ]
    },
    {
      "cell_type": "markdown",
      "metadata": {
        "id": "lxomYsdO8JxK"
      },
      "source": [
        "### Criando checkpoint para salvar treinamento"
      ]
    },
    {
      "cell_type": "code",
      "metadata": {
        "id": "RpUcshlV8i3S"
      },
      "source": [
        "!mkdir training"
      ],
      "execution_count": null,
      "outputs": []
    },
    {
      "cell_type": "code",
      "metadata": {
        "id": "n2e33jDN8JDC"
      },
      "source": [
        "checkpoint_path = \"training/cp.ckpt\"\n",
        "checkpoint_dir = os.path.dirname(checkpoint_path)"
      ],
      "execution_count": null,
      "outputs": []
    },
    {
      "cell_type": "code",
      "metadata": {
        "id": "srOjIpXn8dfS"
      },
      "source": [
        "cp_callback = tf.keras.callbacks.ModelCheckpoint(filepath=checkpoint_path,\n",
        "                                                 save_weights_only=True,\n",
        "                                                 verbose=1)"
      ],
      "execution_count": null,
      "outputs": []
    },
    {
      "cell_type": "markdown",
      "metadata": {
        "id": "t5ID1vBl9Dti"
      },
      "source": [
        "## Treinamento"
      ]
    },
    {
      "cell_type": "code",
      "metadata": {
        "id": "Tsa4fvxGWavS",
        "outputId": "9a1f5548-a353-490d-f592-e8f32eb6deab",
        "colab": {
          "base_uri": "https://localhost:8080/",
          "height": 35
        }
      },
      "source": [
        "train_feat.shape"
      ],
      "execution_count": null,
      "outputs": [
        {
          "output_type": "execute_result",
          "data": {
            "text/plain": [
              "(2031791, 45)"
            ]
          },
          "metadata": {
            "tags": []
          },
          "execution_count": 56
        }
      ]
    },
    {
      "cell_type": "code",
      "metadata": {
        "id": "Y0c6ckZXWeow",
        "outputId": "0ea72238-ed8b-4722-e2f1-04e810aa3bb3",
        "colab": {
          "base_uri": "https://localhost:8080/",
          "height": 35
        }
      },
      "source": [
        "train_targ1.shape"
      ],
      "execution_count": null,
      "outputs": [
        {
          "output_type": "execute_result",
          "data": {
            "text/plain": [
              "(2031791,)"
            ]
          },
          "metadata": {
            "tags": []
          },
          "execution_count": 57
        }
      ]
    },
    {
      "cell_type": "code",
      "metadata": {
        "id": "Lw4jPgN5WlSc",
        "outputId": "d67b1626-4241-458f-d81a-71d2357723db",
        "colab": {
          "base_uri": "https://localhost:8080/",
          "height": 71
        }
      },
      "source": [
        "train_targ1.value_counts()"
      ],
      "execution_count": null,
      "outputs": [
        {
          "output_type": "execute_result",
          "data": {
            "text/plain": [
              "0    1774805\n",
              "1     256986\n",
              "Name: Label, dtype: int64"
            ]
          },
          "metadata": {
            "tags": []
          },
          "execution_count": 58
        }
      ]
    },
    {
      "cell_type": "code",
      "metadata": {
        "id": "rEnHx4tKWvJI",
        "outputId": "26f4cb0e-7d6a-4819-c57a-b89e6455b5f7",
        "colab": {
          "base_uri": "https://localhost:8080/",
          "height": 241
        }
      },
      "source": [
        "train_feat.head()"
      ],
      "execution_count": null,
      "outputs": [
        {
          "output_type": "execute_result",
          "data": {
            "text/html": [
              "<div>\n",
              "<style scoped>\n",
              "    .dataframe tbody tr th:only-of-type {\n",
              "        vertical-align: middle;\n",
              "    }\n",
              "\n",
              "    .dataframe tbody tr th {\n",
              "        vertical-align: top;\n",
              "    }\n",
              "\n",
              "    .dataframe thead th {\n",
              "        text-align: right;\n",
              "    }\n",
              "</style>\n",
              "<table border=\"1\" class=\"dataframe\">\n",
              "  <thead>\n",
              "    <tr style=\"text-align: right;\">\n",
              "      <th></th>\n",
              "      <th>sport</th>\n",
              "      <th>dsport</th>\n",
              "      <th>proto</th>\n",
              "      <th>state</th>\n",
              "      <th>dur</th>\n",
              "      <th>sbytes</th>\n",
              "      <th>dbytes</th>\n",
              "      <th>sttl</th>\n",
              "      <th>dttl</th>\n",
              "      <th>sloss</th>\n",
              "      <th>dloss</th>\n",
              "      <th>service</th>\n",
              "      <th>Sload</th>\n",
              "      <th>Dload</th>\n",
              "      <th>Spkts</th>\n",
              "      <th>Dpkts</th>\n",
              "      <th>swin</th>\n",
              "      <th>dwin</th>\n",
              "      <th>stcpb</th>\n",
              "      <th>dtcpb</th>\n",
              "      <th>smeansz</th>\n",
              "      <th>dmeansz</th>\n",
              "      <th>trans_depth</th>\n",
              "      <th>res_bdy_len</th>\n",
              "      <th>Sjit</th>\n",
              "      <th>Djit</th>\n",
              "      <th>Stime</th>\n",
              "      <th>Ltime</th>\n",
              "      <th>Sintpkt</th>\n",
              "      <th>Dintpkt</th>\n",
              "      <th>tcprtt</th>\n",
              "      <th>synack</th>\n",
              "      <th>ackdat</th>\n",
              "      <th>is_sm_ips_ports</th>\n",
              "      <th>ct_state_ttl</th>\n",
              "      <th>ct_flw_http_mthd</th>\n",
              "      <th>is_ftp_login</th>\n",
              "      <th>ct_ftp_cmd</th>\n",
              "      <th>ct_srv_src</th>\n",
              "      <th>ct_srv_dst</th>\n",
              "      <th>ct_dst_ltm</th>\n",
              "      <th>ct_src_ ltm</th>\n",
              "      <th>ct_src_dport_ltm</th>\n",
              "      <th>ct_dst_sport_ltm</th>\n",
              "      <th>ct_dst_src_ltm</th>\n",
              "    </tr>\n",
              "  </thead>\n",
              "  <tbody>\n",
              "    <tr>\n",
              "      <th>2232574</th>\n",
              "      <td>-1.442866</td>\n",
              "      <td>-0.606464</td>\n",
              "      <td>0.476427</td>\n",
              "      <td>1.018048</td>\n",
              "      <td>-0.047312</td>\n",
              "      <td>-0.072259</td>\n",
              "      <td>-0.226138</td>\n",
              "      <td>-0.037272</td>\n",
              "      <td>-0.718064</td>\n",
              "      <td>-0.229348</td>\n",
              "      <td>-0.288552</td>\n",
              "      <td>0.091341</td>\n",
              "      <td>0.677751</td>\n",
              "      <td>-0.580151</td>\n",
              "      <td>-0.410191</td>\n",
              "      <td>-0.351678</td>\n",
              "      <td>-1.19627</td>\n",
              "      <td>-1.192953</td>\n",
              "      <td>-0.887352</td>\n",
              "      <td>-0.887328</td>\n",
              "      <td>0.050996</td>\n",
              "      <td>-0.824453</td>\n",
              "      <td>-0.237878</td>\n",
              "      <td>-0.089312</td>\n",
              "      <td>-0.093970</td>\n",
              "      <td>-0.212334</td>\n",
              "      <td>0.875105</td>\n",
              "      <td>0.875105</td>\n",
              "      <td>-0.069473</td>\n",
              "      <td>-0.055003</td>\n",
              "      <td>-0.133905</td>\n",
              "      <td>-0.126767</td>\n",
              "      <td>-0.120812</td>\n",
              "      <td>-0.040675</td>\n",
              "      <td>-0.382335</td>\n",
              "      <td>NaN</td>\n",
              "      <td>NaN</td>\n",
              "      <td>-0.111515</td>\n",
              "      <td>1.826330</td>\n",
              "      <td>1.848883</td>\n",
              "      <td>1.906352</td>\n",
              "      <td>1.840065</td>\n",
              "      <td>2.047349</td>\n",
              "      <td>2.981003</td>\n",
              "      <td>1.967656</td>\n",
              "    </tr>\n",
              "    <tr>\n",
              "      <th>1531343</th>\n",
              "      <td>0.826862</td>\n",
              "      <td>-0.606464</td>\n",
              "      <td>0.476427</td>\n",
              "      <td>1.018048</td>\n",
              "      <td>-0.047312</td>\n",
              "      <td>-0.074918</td>\n",
              "      <td>-0.226138</td>\n",
              "      <td>2.562334</td>\n",
              "      <td>-0.718064</td>\n",
              "      <td>-0.229348</td>\n",
              "      <td>-0.288552</td>\n",
              "      <td>0.091341</td>\n",
              "      <td>0.970040</td>\n",
              "      <td>-0.580151</td>\n",
              "      <td>-0.410191</td>\n",
              "      <td>-0.351678</td>\n",
              "      <td>-1.19627</td>\n",
              "      <td>-1.192953</td>\n",
              "      <td>-0.887352</td>\n",
              "      <td>-0.887328</td>\n",
              "      <td>-0.442682</td>\n",
              "      <td>-0.824453</td>\n",
              "      <td>-0.237878</td>\n",
              "      <td>-0.089312</td>\n",
              "      <td>-0.093970</td>\n",
              "      <td>-0.212334</td>\n",
              "      <td>0.857768</td>\n",
              "      <td>0.857767</td>\n",
              "      <td>-0.069476</td>\n",
              "      <td>-0.055003</td>\n",
              "      <td>-0.133905</td>\n",
              "      <td>-0.126767</td>\n",
              "      <td>-0.120812</td>\n",
              "      <td>-0.040675</td>\n",
              "      <td>2.545361</td>\n",
              "      <td>NaN</td>\n",
              "      <td>NaN</td>\n",
              "      <td>-0.111515</td>\n",
              "      <td>0.719021</td>\n",
              "      <td>0.740114</td>\n",
              "      <td>1.293782</td>\n",
              "      <td>1.352578</td>\n",
              "      <td>1.457587</td>\n",
              "      <td>2.171254</td>\n",
              "      <td>0.901823</td>\n",
              "    </tr>\n",
              "    <tr>\n",
              "      <th>2202124</th>\n",
              "      <td>0.826862</td>\n",
              "      <td>-0.606464</td>\n",
              "      <td>0.476427</td>\n",
              "      <td>1.018048</td>\n",
              "      <td>-0.047312</td>\n",
              "      <td>-0.074918</td>\n",
              "      <td>-0.226138</td>\n",
              "      <td>2.562334</td>\n",
              "      <td>-0.718064</td>\n",
              "      <td>-0.229348</td>\n",
              "      <td>-0.288552</td>\n",
              "      <td>0.091341</td>\n",
              "      <td>0.970040</td>\n",
              "      <td>-0.580151</td>\n",
              "      <td>-0.410191</td>\n",
              "      <td>-0.351678</td>\n",
              "      <td>-1.19627</td>\n",
              "      <td>-1.192953</td>\n",
              "      <td>-0.887352</td>\n",
              "      <td>-0.887328</td>\n",
              "      <td>-0.442682</td>\n",
              "      <td>-0.824453</td>\n",
              "      <td>-0.237878</td>\n",
              "      <td>-0.089312</td>\n",
              "      <td>-0.093970</td>\n",
              "      <td>-0.212334</td>\n",
              "      <td>0.874617</td>\n",
              "      <td>0.874617</td>\n",
              "      <td>-0.069476</td>\n",
              "      <td>-0.055003</td>\n",
              "      <td>-0.133905</td>\n",
              "      <td>-0.126767</td>\n",
              "      <td>-0.120812</td>\n",
              "      <td>-0.040675</td>\n",
              "      <td>2.545361</td>\n",
              "      <td>NaN</td>\n",
              "      <td>NaN</td>\n",
              "      <td>-0.111515</td>\n",
              "      <td>1.272676</td>\n",
              "      <td>1.294499</td>\n",
              "      <td>2.028866</td>\n",
              "      <td>2.083809</td>\n",
              "      <td>2.165301</td>\n",
              "      <td>1.199556</td>\n",
              "      <td>1.434740</td>\n",
              "    </tr>\n",
              "    <tr>\n",
              "      <th>152766</th>\n",
              "      <td>1.367192</td>\n",
              "      <td>-0.327857</td>\n",
              "      <td>-0.158100</td>\n",
              "      <td>0.317832</td>\n",
              "      <td>-0.046856</td>\n",
              "      <td>-0.042228</td>\n",
              "      <td>-0.211812</td>\n",
              "      <td>-0.425873</td>\n",
              "      <td>-0.041315</td>\n",
              "      <td>0.037101</td>\n",
              "      <td>-0.182541</td>\n",
              "      <td>-0.727560</td>\n",
              "      <td>-0.291700</td>\n",
              "      <td>0.078812</td>\n",
              "      <td>-0.148026</td>\n",
              "      <td>-0.154161</td>\n",
              "      <td>0.83594</td>\n",
              "      <td>0.838262</td>\n",
              "      <td>0.756195</td>\n",
              "      <td>0.756295</td>\n",
              "      <td>-0.232046</td>\n",
              "      <td>-0.538418</td>\n",
              "      <td>-0.237878</td>\n",
              "      <td>-0.089312</td>\n",
              "      <td>-0.092921</td>\n",
              "      <td>-0.208110</td>\n",
              "      <td>-1.170264</td>\n",
              "      <td>-1.170265</td>\n",
              "      <td>-0.069374</td>\n",
              "      <td>-0.054828</td>\n",
              "      <td>-0.117701</td>\n",
              "      <td>-0.104020</td>\n",
              "      <td>-0.114215</td>\n",
              "      <td>-0.040675</td>\n",
              "      <td>-0.382335</td>\n",
              "      <td>-0.295422</td>\n",
              "      <td>-0.198842</td>\n",
              "      <td>-0.111515</td>\n",
              "      <td>-0.111461</td>\n",
              "      <td>-0.368655</td>\n",
              "      <td>-0.666443</td>\n",
              "      <td>-0.475500</td>\n",
              "      <td>-0.429650</td>\n",
              "      <td>-0.419941</td>\n",
              "      <td>-0.519288</td>\n",
              "    </tr>\n",
              "    <tr>\n",
              "      <th>1813052</th>\n",
              "      <td>1.521782</td>\n",
              "      <td>2.665765</td>\n",
              "      <td>-0.158100</td>\n",
              "      <td>0.317832</td>\n",
              "      <td>-0.009157</td>\n",
              "      <td>0.006310</td>\n",
              "      <td>-0.207020</td>\n",
              "      <td>-0.425873</td>\n",
              "      <td>-0.041315</td>\n",
              "      <td>0.081509</td>\n",
              "      <td>-0.164872</td>\n",
              "      <td>-0.727560</td>\n",
              "      <td>-0.310960</td>\n",
              "      <td>-0.569539</td>\n",
              "      <td>-0.069376</td>\n",
              "      <td>-0.104781</td>\n",
              "      <td>0.83594</td>\n",
              "      <td>0.838262</td>\n",
              "      <td>0.400276</td>\n",
              "      <td>0.407319</td>\n",
              "      <td>0.287961</td>\n",
              "      <td>-0.517561</td>\n",
              "      <td>-0.237878</td>\n",
              "      <td>-0.089312</td>\n",
              "      <td>-0.030933</td>\n",
              "      <td>-0.204550</td>\n",
              "      <td>0.865101</td>\n",
              "      <td>0.865100</td>\n",
              "      <td>-0.062398</td>\n",
              "      <td>-0.042233</td>\n",
              "      <td>-0.117896</td>\n",
              "      <td>-0.104984</td>\n",
              "      <td>-0.113547</td>\n",
              "      <td>-0.040675</td>\n",
              "      <td>-0.382335</td>\n",
              "      <td>NaN</td>\n",
              "      <td>NaN</td>\n",
              "      <td>-0.111515</td>\n",
              "      <td>-0.111461</td>\n",
              "      <td>-0.183860</td>\n",
              "      <td>-0.298901</td>\n",
              "      <td>0.011987</td>\n",
              "      <td>-0.429650</td>\n",
              "      <td>-0.419941</td>\n",
              "      <td>-0.252830</td>\n",
              "    </tr>\n",
              "  </tbody>\n",
              "</table>\n",
              "</div>"
            ],
            "text/plain": [
              "            sport    dsport  ...  ct_dst_sport_ltm  ct_dst_src_ltm\n",
              "2232574 -1.442866 -0.606464  ...          2.981003        1.967656\n",
              "1531343  0.826862 -0.606464  ...          2.171254        0.901823\n",
              "2202124  0.826862 -0.606464  ...          1.199556        1.434740\n",
              "152766   1.367192 -0.327857  ...         -0.419941       -0.519288\n",
              "1813052  1.521782  2.665765  ...         -0.419941       -0.252830\n",
              "\n",
              "[5 rows x 45 columns]"
            ]
          },
          "metadata": {
            "tags": []
          },
          "execution_count": 60
        }
      ]
    },
    {
      "cell_type": "code",
      "metadata": {
        "id": "sfOPd-92h4dB"
      },
      "source": [
        "history = model_label.fit(train_feat, train_targ1, epochs=10)"
      ],
      "execution_count": null,
      "outputs": []
    },
    {
      "cell_type": "markdown",
      "metadata": {
        "id": "T2jij-zHLLQ_"
      },
      "source": [
        "### Validação"
      ]
    },
    {
      "cell_type": "code",
      "metadata": {
        "id": "4rTk7XbToYE5"
      },
      "source": [
        "test_loss, test_acc = model.evaluate(test_feat,  test_targ, verbose=2)"
      ],
      "execution_count": null,
      "outputs": []
    },
    {
      "cell_type": "markdown",
      "metadata": {
        "id": "EPZlQVw7Cjap"
      },
      "source": [
        "### Grafico"
      ]
    },
    {
      "cell_type": "code",
      "metadata": {
        "id": "1vjEQs1KCkN-"
      },
      "source": [
        "acc = history.history['acc']\n",
        "loss = history.history['loss']"
      ],
      "execution_count": null,
      "outputs": []
    },
    {
      "cell_type": "code",
      "metadata": {
        "id": "wX6XXiGsDeYy"
      },
      "source": [
        "epochs = range(1, len(acc) + 1)"
      ],
      "execution_count": null,
      "outputs": []
    },
    {
      "cell_type": "code",
      "metadata": {
        "id": "ygPGIRMRDieP"
      },
      "source": [
        "plt.clf()\n",
        "\n",
        "plt.plot(epochs, acc, '-r^', label='Training acc')\n",
        "plt.title('Training  accuracy')\n",
        "plt.xlabel('Epochs')\n",
        "plt.ylabel('Accuracy')\n",
        "plt.legend(loc='best')\n",
        "\n",
        "plt.show()"
      ],
      "execution_count": null,
      "outputs": []
    },
    {
      "cell_type": "code",
      "metadata": {
        "id": "HGPZrmTcEjDF"
      },
      "source": [
        "plt.clf()\n",
        "\n",
        "plt.plot(epochs, loss, '-bo', label='Training loss')\n",
        "plt.title('Training  loss')\n",
        "plt.xlabel('Epochs')\n",
        "plt.ylabel('Loss')\n",
        "plt.legend(loc='best')\n",
        "\n",
        "plt.show()"
      ],
      "execution_count": null,
      "outputs": []
    },
    {
      "cell_type": "markdown",
      "metadata": {
        "id": "Z-FgMHjBLSir"
      },
      "source": [
        "## Restaurando rede neural apartir dos dados salvos"
      ]
    },
    {
      "cell_type": "markdown",
      "metadata": {
        "id": "W-hJhAGwHrVE"
      },
      "source": [
        "Verificando se os arquvios existem"
      ]
    },
    {
      "cell_type": "code",
      "metadata": {
        "id": "AlH-_UDZAisL"
      },
      "source": [
        "!ls {checkpoint_dir}"
      ],
      "execution_count": null,
      "outputs": []
    },
    {
      "cell_type": "markdown",
      "metadata": {
        "id": "kRjvjVQtLzJO"
      },
      "source": [
        "Criando novo modelo"
      ]
    },
    {
      "cell_type": "code",
      "metadata": {
        "id": "f-SBNn4kGC4N"
      },
      "source": [
        "model = build_model()\n",
        "\n",
        "loss, acc = model.evaluate(test_feat,  test_targ, verbose=2)\n",
        "print(\"Modelo sem treinamento, precisão: {:5.2f}%\".format(100*acc))"
      ],
      "execution_count": null,
      "outputs": []
    },
    {
      "cell_type": "markdown",
      "metadata": {
        "id": "YpGVaCJ7L2or"
      },
      "source": [
        "Carregando pesos"
      ]
    },
    {
      "cell_type": "code",
      "metadata": {
        "id": "-Gk34rR9GFT5"
      },
      "source": [
        "model.load_weights(checkpoint_path)\n",
        "\n",
        "loss,acc = model.evaluate(test_feat,  test_targ, verbose=2)\n",
        "print(\"Modelo restaurado, precisão: {:5.2f}%\".format(100*acc))"
      ],
      "execution_count": null,
      "outputs": []
    },
    {
      "cell_type": "markdown",
      "metadata": {
        "id": "pXU5sxZ2fNVi"
      },
      "source": [
        "### Salvar dados no Drive"
      ]
    },
    {
      "cell_type": "code",
      "metadata": {
        "id": "paudDH8WfY4i"
      },
      "source": [
        "from google.colab import drive\n",
        "drive.mount('/content/drive')"
      ],
      "execution_count": null,
      "outputs": []
    },
    {
      "cell_type": "code",
      "metadata": {
        "id": "bT2jVtEjfMWx"
      },
      "source": [
        "!zip training.zip training/"
      ],
      "execution_count": null,
      "outputs": []
    },
    {
      "cell_type": "code",
      "metadata": {
        "id": "WnwIdfYrfsLJ"
      },
      "source": [
        "!cp training.zip \"/content/drive/My Drive/\""
      ],
      "execution_count": null,
      "outputs": []
    }
  ]
}