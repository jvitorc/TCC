{
  "nbformat": 4,
  "nbformat_minor": 0,
  "metadata": {
    "colab": {
      "provenance": [],
      "collapsed_sections": [
        "4Woenr4-zVuO",
        "Gj_ByzDhcoLQ",
        "t2q4T5-Ncw5h",
        "Ah75uHpXzVuc"
      ],
      "toc_visible": true,
      "include_colab_link": true
    },
    "kernelspec": {
      "display_name": "Python 3",
      "name": "python3"
    },
    "language_info": {
      "codemirror_mode": {
        "name": "ipython",
        "version": 3
      },
      "file_extension": ".py",
      "mimetype": "text/x-python",
      "name": "python",
      "nbconvert_exporter": "python",
      "pygments_lexer": "ipython3",
      "version": "3.7.5"
    }
  },
  "cells": [
    {
      "cell_type": "markdown",
      "metadata": {
        "id": "view-in-github",
        "colab_type": "text"
      },
      "source": [
        "<a href=\"https://colab.research.google.com/github/jvitorc/TCC/blob/main/OneVsAll.ipynb\" target=\"_parent\"><img src=\"https://colab.research.google.com/assets/colab-badge.svg\" alt=\"Open In Colab\"/></a>"
      ]
    },
    {
      "cell_type": "markdown",
      "metadata": {
        "id": "1LKKi4HAzVt-"
      },
      "source": [
        "#### *João Vitor Cardoso <2021>*"
      ]
    },
    {
      "cell_type": "markdown",
      "metadata": {
        "id": "BVFEcb74zVuD"
      },
      "source": [
        "# **Explorando estratégia One vs All com MPL na deteção e classificação de intrusão**"
      ]
    },
    {
      "cell_type": "markdown",
      "metadata": {
        "id": "3-Zr7u2OBdvM"
      },
      "source": [
        "  Usando a base [CSE-CIC-IDS2018](https://www.unb.ca/cic/datasets/ids-2018.html) para explorar estratégia One vs All com MPL (MultilayerPerceptron) na deteção e classificação de intrusão\n",
        "  "
      ]
    },
    {
      "cell_type": "markdown",
      "metadata": {
        "id": "ORrj_QgPzqf3"
      },
      "source": [
        "## Baixando Base da Dados"
      ]
    },
    {
      "cell_type": "markdown",
      "metadata": {
        "id": "uGqd-ZzD5k-2"
      },
      "source": [
        "#### Baixando awc-cli"
      ]
    },
    {
      "cell_type": "code",
      "metadata": {
        "id": "RFHm6zkhz02c"
      },
      "source": [
        "!curl \"https://awscli.amazonaws.com/awscli-exe-linux-x86_64.zip\" -o \"awscliv2.zip\"\n",
        "!unzip awscliv2.zip\n",
        "!sudo ./aws/install"
      ],
      "execution_count": null,
      "outputs": []
    },
    {
      "cell_type": "markdown",
      "metadata": {
        "id": "BJxsnkGd5rpT"
      },
      "source": [
        "#### Baixando CSV de ataques DOS"
      ]
    },
    {
      "cell_type": "code",
      "metadata": {
        "id": "Qqj79-lR2Wfz"
      },
      "source": [
        "!aws s3 sync --no-sign-request --region sa-east-1 \"s3://cse-cic-ids2018/Processed Traffic Data for ML Algorithms\" \"./CSE-CIC-IDS2018\""
      ],
      "execution_count": null,
      "outputs": []
    },
    {
      "cell_type": "code",
      "metadata": {
        "id": "543p2ZTRYbUv"
      },
      "source": [
        "!ls -l --block-size=M \"CSE-CIC-IDS2018\""
      ],
      "execution_count": null,
      "outputs": []
    },
    {
      "cell_type": "markdown",
      "metadata": {
        "id": "ELj0k9KqgejQ"
      },
      "source": [
        "\n",
        "Thuesday-20-02-2018_TrafficForML_CICFlowMeter.csv ->  Retirar pois já tem outro.\n",
        "\n",
        "Thursday-22-02-2018_TrafficForML_CICFlowMeter.csv -> Remover.\n",
        "\n",
        "Wednesday-28-02-2018_TrafficForML_CICFlowMeter.csv -> Remover."
      ]
    },
    {
      "cell_type": "markdown",
      "metadata": {
        "id": "i9jERw_GeI1h"
      },
      "source": [
        "## Conectar com o drive"
      ]
    },
    {
      "cell_type": "code",
      "metadata": {
        "colab": {
          "base_uri": "https://localhost:8080/"
        },
        "id": "JkHg9Ks-eClr",
        "outputId": "2b2b3055-8210-4a88-e51f-e3292c0259cf"
      },
      "source": [
        "from google.colab import drive\n",
        "drive.mount('/content/drive')"
      ],
      "execution_count": null,
      "outputs": [
        {
          "output_type": "stream",
          "name": "stdout",
          "text": [
            "Drive already mounted at /content/drive; to attempt to forcibly remount, call drive.mount(\"/content/drive\", force_remount=True).\n"
          ]
        }
      ]
    },
    {
      "cell_type": "code",
      "metadata": {
        "id": "uzOe4rrbeFXC"
      },
      "source": [
        "TRAIN_PATH =  '/content/drive/MyDrive/UFSC/TCC/Arquivos/ids2018/train/'\n",
        "TEST_PATH =  '/content/drive/MyDrive/UFSC/TCC/Arquivos/ids2018/test/'"
      ],
      "execution_count": null,
      "outputs": []
    },
    {
      "cell_type": "markdown",
      "metadata": {
        "id": "iojCuqpVzVuF"
      },
      "source": [
        "## Importando Bibliotecas"
      ]
    },
    {
      "cell_type": "code",
      "metadata": {
        "id": "Rnypr__BzVuH"
      },
      "source": [
        "import os\n",
        "import pandas as pd\n",
        "import numpy as np\n",
        "import tensorflow as tf\n",
        "from tensorflow import  keras\n",
        "import matplotlib.pyplot as plt\n",
        "from sklearn.multiclass import OneVsRestClassifier\n",
        "from sklearn.neural_network import MLPClassifier"
      ],
      "execution_count": null,
      "outputs": []
    },
    {
      "cell_type": "markdown",
      "metadata": {
        "id": "TURl6Oa3zVuN"
      },
      "source": [
        "## Explorando os Dados"
      ]
    },
    {
      "cell_type": "markdown",
      "metadata": {
        "id": "4Woenr4-zVuO"
      },
      "source": [
        "### Carregando dados"
      ]
    },
    {
      "cell_type": "code",
      "metadata": {
        "id": "Is7HzUdQQIMg"
      },
      "source": [
        "FILEPATH = 'CSE-CIC-IDS2018/'"
      ],
      "execution_count": null,
      "outputs": []
    },
    {
      "cell_type": "code",
      "metadata": {
        "id": "hRV-3gv5PZCQ"
      },
      "source": [
        "def carregar_arquivos(filename):\n",
        "  data = pd.read_csv(FILEPATH + filename)\n",
        "  data = data[data['Protocol'] != 'Protocol']\n",
        "  target = data.pop('Label')\n",
        "  timestamp = data.pop('Timestamp')\n",
        "  data = data.apply(pd.to_numeric)\n",
        "  data['Label'] = target\n",
        "  return data"
      ],
      "execution_count": null,
      "outputs": []
    },
    {
      "cell_type": "code",
      "metadata": {
        "id": "yyFbgY-OP_jA",
        "colab": {
          "base_uri": "https://localhost:8080/"
        },
        "outputId": "a5020c18-b49f-409d-a62d-b0ac1eaaa5f5"
      },
      "source": [
        "dataset = carregar_arquivos('Thursday-15-02-2018_TrafficForML_CICFlowMeter.csv')\n",
        "dataset = dataset.append(carregar_arquivos('Wednesday-21-02-2018_TrafficForML_CICFlowMeter.csv'), ignore_index=False)\n",
        "dataset = dataset.append(carregar_arquivos('Wednesday-14-02-2018_TrafficForML_CICFlowMeter.csv'), ignore_index=False)\n",
        "dataset = dataset.append(carregar_arquivos('Thursday-22-02-2018_TrafficForML_CICFlowMeter.csv'), ignore_index=False)\n",
        "dataset = dataset.append(carregar_arquivos('Thursday-01-03-2018_TrafficForML_CICFlowMeter.csv'), ignore_index=False)\n",
        "dataset = dataset.append(carregar_arquivos('Friday-02-03-2018_TrafficForML_CICFlowMeter.csv'), ignore_index=False)"
      ],
      "execution_count": null,
      "outputs": [
        {
          "output_type": "stream",
          "name": "stderr",
          "text": [
            "/usr/local/lib/python3.7/dist-packages/ipykernel_launcher.py:5: DtypeWarning: Columns (0,1,3,4,5,6,7,8,9,10,11,12,13,14,15,16,17,18,19,20,21,22,23,24,25,26,27,28,29,30,31,32,33,34,35,36,37,38,39,40,41,42,43,44,45,46,47,48,49,50,51,52,53,54,55,56,57,58,59,60,61,62,63,64,65,66,67,68,69,70,71,72,73,74,75,76,77,78) have mixed types.Specify dtype option on import or set low_memory=False.\n",
            "  \"\"\"\n"
          ]
        }
      ]
    },
    {
      "cell_type": "code",
      "metadata": {
        "colab": {
          "base_uri": "https://localhost:8080/"
        },
        "id": "kf69XJILUo_Q",
        "outputId": "c67cdb95-ff5a-469c-e208-39b18eb1611e"
      },
      "source": [
        "dataset['Label'].value_counts()"
      ],
      "execution_count": null,
      "outputs": [
        {
          "output_type": "execute_result",
          "data": {
            "text/plain": [
              "Benign                   4073170\n",
              "DDOS attack-HOIC          686012\n",
              "Bot                       286191\n",
              "FTP-BruteForce            193360\n",
              "SSH-Bruteforce            187589\n",
              "Infilteration              93063\n",
              "DoS attacks-GoldenEye      41508\n",
              "DoS attacks-Slowloris      10990\n",
              "DDOS attack-LOIC-UDP        1730\n",
              "Brute Force -Web             249\n",
              "Brute Force -XSS              79\n",
              "SQL Injection                 34\n",
              "Name: Label, dtype: int64"
            ]
          },
          "metadata": {},
          "execution_count": 5
        }
      ]
    },
    {
      "cell_type": "markdown",
      "metadata": {
        "id": "Gj_ByzDhcoLQ"
      },
      "source": [
        "### Tamanho dos dados"
      ]
    },
    {
      "cell_type": "code",
      "metadata": {
        "colab": {
          "base_uri": "https://localhost:8080/"
        },
        "id": "c7Amff-NzVuX",
        "outputId": "74078136-616b-4692-b013-93b890786424"
      },
      "source": [
        "dataset.shape"
      ],
      "execution_count": null,
      "outputs": [
        {
          "output_type": "execute_result",
          "data": {
            "text/plain": [
              "(5573975, 79)"
            ]
          },
          "metadata": {},
          "execution_count": 6
        }
      ]
    },
    {
      "cell_type": "markdown",
      "metadata": {
        "id": "t2q4T5-Ncw5h"
      },
      "source": [
        "### Visualizando dados"
      ]
    },
    {
      "cell_type": "code",
      "metadata": {
        "colab": {
          "base_uri": "https://localhost:8080/",
          "height": 352
        },
        "id": "DCfDbsZwzh-9",
        "outputId": "81d31cf7-98d2-47f3-c02d-58e0ec72fa9b"
      },
      "source": [
        "dataset.head()"
      ],
      "execution_count": null,
      "outputs": [
        {
          "output_type": "execute_result",
          "data": {
            "text/plain": [
              "   Dst Port  Protocol  Flow Duration  Tot Fwd Pkts  Tot Bwd Pkts  \\\n",
              "0         0         0      112641158             3             0   \n",
              "1        22         6       37366762            14            12   \n",
              "2     47514         6            543             2             0   \n",
              "3         0         0      112640703             3             0   \n",
              "4         0         0      112640874             3             0   \n",
              "\n",
              "   TotLen Fwd Pkts  TotLen Bwd Pkts  Fwd Pkt Len Max  Fwd Pkt Len Min  \\\n",
              "0                0              0.0                0                0   \n",
              "1             2168           2993.0              712                0   \n",
              "2               64              0.0               64                0   \n",
              "3                0              0.0                0                0   \n",
              "4                0              0.0                0                0   \n",
              "\n",
              "   Fwd Pkt Len Mean  ...  Fwd Seg Size Min  Active Mean     Active Std  \\\n",
              "0          0.000000  ...                 0          0.0       0.000000   \n",
              "1        154.857143  ...                32    1024353.0  649038.754495   \n",
              "2         32.000000  ...                32          0.0       0.000000   \n",
              "3          0.000000  ...                 0          0.0       0.000000   \n",
              "4          0.000000  ...                 0          0.0       0.000000   \n",
              "\n",
              "   Active Max  Active Min   Idle Mean      Idle Std    Idle Max    Idle Min  \\\n",
              "0         0.0         0.0  56320579.0  7.042784e+02  56321077.0  56320081.0   \n",
              "1   1601183.0    321569.0  11431221.0  3.644991e+06  15617415.0   8960247.0   \n",
              "2         0.0         0.0         0.0  0.000000e+00         0.0         0.0   \n",
              "3         0.0         0.0  56320351.5  3.669884e+02  56320611.0  56320092.0   \n",
              "4         0.0         0.0  56320437.0  7.198347e+02  56320946.0  56319928.0   \n",
              "\n",
              "    Label  \n",
              "0  Benign  \n",
              "1  Benign  \n",
              "2  Benign  \n",
              "3  Benign  \n",
              "4  Benign  \n",
              "\n",
              "[5 rows x 79 columns]"
            ],
            "text/html": [
              "\n",
              "  <div id=\"df-9a77012c-4a4a-4159-8a7c-8998b310db6b\">\n",
              "    <div class=\"colab-df-container\">\n",
              "      <div>\n",
              "<style scoped>\n",
              "    .dataframe tbody tr th:only-of-type {\n",
              "        vertical-align: middle;\n",
              "    }\n",
              "\n",
              "    .dataframe tbody tr th {\n",
              "        vertical-align: top;\n",
              "    }\n",
              "\n",
              "    .dataframe thead th {\n",
              "        text-align: right;\n",
              "    }\n",
              "</style>\n",
              "<table border=\"1\" class=\"dataframe\">\n",
              "  <thead>\n",
              "    <tr style=\"text-align: right;\">\n",
              "      <th></th>\n",
              "      <th>Dst Port</th>\n",
              "      <th>Protocol</th>\n",
              "      <th>Flow Duration</th>\n",
              "      <th>Tot Fwd Pkts</th>\n",
              "      <th>Tot Bwd Pkts</th>\n",
              "      <th>TotLen Fwd Pkts</th>\n",
              "      <th>TotLen Bwd Pkts</th>\n",
              "      <th>Fwd Pkt Len Max</th>\n",
              "      <th>Fwd Pkt Len Min</th>\n",
              "      <th>Fwd Pkt Len Mean</th>\n",
              "      <th>...</th>\n",
              "      <th>Fwd Seg Size Min</th>\n",
              "      <th>Active Mean</th>\n",
              "      <th>Active Std</th>\n",
              "      <th>Active Max</th>\n",
              "      <th>Active Min</th>\n",
              "      <th>Idle Mean</th>\n",
              "      <th>Idle Std</th>\n",
              "      <th>Idle Max</th>\n",
              "      <th>Idle Min</th>\n",
              "      <th>Label</th>\n",
              "    </tr>\n",
              "  </thead>\n",
              "  <tbody>\n",
              "    <tr>\n",
              "      <th>0</th>\n",
              "      <td>0</td>\n",
              "      <td>0</td>\n",
              "      <td>112641158</td>\n",
              "      <td>3</td>\n",
              "      <td>0</td>\n",
              "      <td>0</td>\n",
              "      <td>0.0</td>\n",
              "      <td>0</td>\n",
              "      <td>0</td>\n",
              "      <td>0.000000</td>\n",
              "      <td>...</td>\n",
              "      <td>0</td>\n",
              "      <td>0.0</td>\n",
              "      <td>0.000000</td>\n",
              "      <td>0.0</td>\n",
              "      <td>0.0</td>\n",
              "      <td>56320579.0</td>\n",
              "      <td>7.042784e+02</td>\n",
              "      <td>56321077.0</td>\n",
              "      <td>56320081.0</td>\n",
              "      <td>Benign</td>\n",
              "    </tr>\n",
              "    <tr>\n",
              "      <th>1</th>\n",
              "      <td>22</td>\n",
              "      <td>6</td>\n",
              "      <td>37366762</td>\n",
              "      <td>14</td>\n",
              "      <td>12</td>\n",
              "      <td>2168</td>\n",
              "      <td>2993.0</td>\n",
              "      <td>712</td>\n",
              "      <td>0</td>\n",
              "      <td>154.857143</td>\n",
              "      <td>...</td>\n",
              "      <td>32</td>\n",
              "      <td>1024353.0</td>\n",
              "      <td>649038.754495</td>\n",
              "      <td>1601183.0</td>\n",
              "      <td>321569.0</td>\n",
              "      <td>11431221.0</td>\n",
              "      <td>3.644991e+06</td>\n",
              "      <td>15617415.0</td>\n",
              "      <td>8960247.0</td>\n",
              "      <td>Benign</td>\n",
              "    </tr>\n",
              "    <tr>\n",
              "      <th>2</th>\n",
              "      <td>47514</td>\n",
              "      <td>6</td>\n",
              "      <td>543</td>\n",
              "      <td>2</td>\n",
              "      <td>0</td>\n",
              "      <td>64</td>\n",
              "      <td>0.0</td>\n",
              "      <td>64</td>\n",
              "      <td>0</td>\n",
              "      <td>32.000000</td>\n",
              "      <td>...</td>\n",
              "      <td>32</td>\n",
              "      <td>0.0</td>\n",
              "      <td>0.000000</td>\n",
              "      <td>0.0</td>\n",
              "      <td>0.0</td>\n",
              "      <td>0.0</td>\n",
              "      <td>0.000000e+00</td>\n",
              "      <td>0.0</td>\n",
              "      <td>0.0</td>\n",
              "      <td>Benign</td>\n",
              "    </tr>\n",
              "    <tr>\n",
              "      <th>3</th>\n",
              "      <td>0</td>\n",
              "      <td>0</td>\n",
              "      <td>112640703</td>\n",
              "      <td>3</td>\n",
              "      <td>0</td>\n",
              "      <td>0</td>\n",
              "      <td>0.0</td>\n",
              "      <td>0</td>\n",
              "      <td>0</td>\n",
              "      <td>0.000000</td>\n",
              "      <td>...</td>\n",
              "      <td>0</td>\n",
              "      <td>0.0</td>\n",
              "      <td>0.000000</td>\n",
              "      <td>0.0</td>\n",
              "      <td>0.0</td>\n",
              "      <td>56320351.5</td>\n",
              "      <td>3.669884e+02</td>\n",
              "      <td>56320611.0</td>\n",
              "      <td>56320092.0</td>\n",
              "      <td>Benign</td>\n",
              "    </tr>\n",
              "    <tr>\n",
              "      <th>4</th>\n",
              "      <td>0</td>\n",
              "      <td>0</td>\n",
              "      <td>112640874</td>\n",
              "      <td>3</td>\n",
              "      <td>0</td>\n",
              "      <td>0</td>\n",
              "      <td>0.0</td>\n",
              "      <td>0</td>\n",
              "      <td>0</td>\n",
              "      <td>0.000000</td>\n",
              "      <td>...</td>\n",
              "      <td>0</td>\n",
              "      <td>0.0</td>\n",
              "      <td>0.000000</td>\n",
              "      <td>0.0</td>\n",
              "      <td>0.0</td>\n",
              "      <td>56320437.0</td>\n",
              "      <td>7.198347e+02</td>\n",
              "      <td>56320946.0</td>\n",
              "      <td>56319928.0</td>\n",
              "      <td>Benign</td>\n",
              "    </tr>\n",
              "  </tbody>\n",
              "</table>\n",
              "<p>5 rows × 79 columns</p>\n",
              "</div>\n",
              "      <button class=\"colab-df-convert\" onclick=\"convertToInteractive('df-9a77012c-4a4a-4159-8a7c-8998b310db6b')\"\n",
              "              title=\"Convert this dataframe to an interactive table.\"\n",
              "              style=\"display:none;\">\n",
              "        \n",
              "  <svg xmlns=\"http://www.w3.org/2000/svg\" height=\"24px\"viewBox=\"0 0 24 24\"\n",
              "       width=\"24px\">\n",
              "    <path d=\"M0 0h24v24H0V0z\" fill=\"none\"/>\n",
              "    <path d=\"M18.56 5.44l.94 2.06.94-2.06 2.06-.94-2.06-.94-.94-2.06-.94 2.06-2.06.94zm-11 1L8.5 8.5l.94-2.06 2.06-.94-2.06-.94L8.5 2.5l-.94 2.06-2.06.94zm10 10l.94 2.06.94-2.06 2.06-.94-2.06-.94-.94-2.06-.94 2.06-2.06.94z\"/><path d=\"M17.41 7.96l-1.37-1.37c-.4-.4-.92-.59-1.43-.59-.52 0-1.04.2-1.43.59L10.3 9.45l-7.72 7.72c-.78.78-.78 2.05 0 2.83L4 21.41c.39.39.9.59 1.41.59.51 0 1.02-.2 1.41-.59l7.78-7.78 2.81-2.81c.8-.78.8-2.07 0-2.86zM5.41 20L4 18.59l7.72-7.72 1.47 1.35L5.41 20z\"/>\n",
              "  </svg>\n",
              "      </button>\n",
              "      \n",
              "  <style>\n",
              "    .colab-df-container {\n",
              "      display:flex;\n",
              "      flex-wrap:wrap;\n",
              "      gap: 12px;\n",
              "    }\n",
              "\n",
              "    .colab-df-convert {\n",
              "      background-color: #E8F0FE;\n",
              "      border: none;\n",
              "      border-radius: 50%;\n",
              "      cursor: pointer;\n",
              "      display: none;\n",
              "      fill: #1967D2;\n",
              "      height: 32px;\n",
              "      padding: 0 0 0 0;\n",
              "      width: 32px;\n",
              "    }\n",
              "\n",
              "    .colab-df-convert:hover {\n",
              "      background-color: #E2EBFA;\n",
              "      box-shadow: 0px 1px 2px rgba(60, 64, 67, 0.3), 0px 1px 3px 1px rgba(60, 64, 67, 0.15);\n",
              "      fill: #174EA6;\n",
              "    }\n",
              "\n",
              "    [theme=dark] .colab-df-convert {\n",
              "      background-color: #3B4455;\n",
              "      fill: #D2E3FC;\n",
              "    }\n",
              "\n",
              "    [theme=dark] .colab-df-convert:hover {\n",
              "      background-color: #434B5C;\n",
              "      box-shadow: 0px 1px 3px 1px rgba(0, 0, 0, 0.15);\n",
              "      filter: drop-shadow(0px 1px 2px rgba(0, 0, 0, 0.3));\n",
              "      fill: #FFFFFF;\n",
              "    }\n",
              "  </style>\n",
              "\n",
              "      <script>\n",
              "        const buttonEl =\n",
              "          document.querySelector('#df-9a77012c-4a4a-4159-8a7c-8998b310db6b button.colab-df-convert');\n",
              "        buttonEl.style.display =\n",
              "          google.colab.kernel.accessAllowed ? 'block' : 'none';\n",
              "\n",
              "        async function convertToInteractive(key) {\n",
              "          const element = document.querySelector('#df-9a77012c-4a4a-4159-8a7c-8998b310db6b');\n",
              "          const dataTable =\n",
              "            await google.colab.kernel.invokeFunction('convertToInteractive',\n",
              "                                                     [key], {});\n",
              "          if (!dataTable) return;\n",
              "\n",
              "          const docLinkHtml = 'Like what you see? Visit the ' +\n",
              "            '<a target=\"_blank\" href=https://colab.research.google.com/notebooks/data_table.ipynb>data table notebook</a>'\n",
              "            + ' to learn more about interactive tables.';\n",
              "          element.innerHTML = '';\n",
              "          dataTable['output_type'] = 'display_data';\n",
              "          await google.colab.output.renderOutput(dataTable, element);\n",
              "          const docLink = document.createElement('div');\n",
              "          docLink.innerHTML = docLinkHtml;\n",
              "          element.appendChild(docLink);\n",
              "        }\n",
              "      </script>\n",
              "    </div>\n",
              "  </div>\n",
              "  "
            ]
          },
          "metadata": {},
          "execution_count": 7
        }
      ]
    },
    {
      "cell_type": "markdown",
      "metadata": {
        "id": "Ah75uHpXzVuc"
      },
      "source": [
        "## Pré-processamento dos dados\n",
        "\n",
        "\n",
        "\n"
      ]
    },
    {
      "cell_type": "code",
      "metadata": {
        "id": "9Vr8SerfmfC5"
      },
      "source": [
        "with pd.option_context('mode.use_inf_as_na', True):\n",
        "  dataset = dataset.dropna()"
      ],
      "execution_count": null,
      "outputs": []
    },
    {
      "cell_type": "code",
      "metadata": {
        "id": "0CyW0ib7d7wV"
      },
      "source": [
        "dataset['Label'] = dataset['Label'].replace('Brute Force -Web', 'Brute Force')\n",
        "dataset['Label'] = dataset['Label'].replace('Brute Force -XSS', 'Brute Force')\n",
        "dataset['Label'] = dataset['Label'].replace('DDOS attack-HOIC', 'DDOS')\n",
        "dataset['Label'] = dataset['Label'].replace('DDOS attack-LOIC-UDP', 'DDOS')\n",
        "dataset['Label'] = dataset['Label'].replace('DoS attacks-GoldenEye', 'DoS')\n",
        "dataset['Label'] = dataset['Label'].replace('DoS attacks-Slowloris', 'DoS')\n",
        "dataset['Label'] = dataset['Label'].replace('SSH-Bruteforce', 'Brute Force')\n",
        "dataset['Label'] = dataset['Label'].replace('FTP-BruteForce', 'Brute Force')"
      ],
      "execution_count": null,
      "outputs": []
    },
    {
      "cell_type": "code",
      "metadata": {
        "colab": {
          "base_uri": "https://localhost:8080/"
        },
        "id": "Tu_bX13MVTId",
        "outputId": "14b12e57-cfe1-437e-ab67-77a67f24fbf3"
      },
      "source": [
        "dataset['Label'].value_counts()"
      ],
      "execution_count": null,
      "outputs": [
        {
          "output_type": "execute_result",
          "data": {
            "text/plain": [
              "Benign           4049406\n",
              "DDOS              687742\n",
              "Brute Force       381271\n",
              "Bot               286191\n",
              "Infilteration      92403\n",
              "DoS                52498\n",
              "SQL Injection         34\n",
              "Name: Label, dtype: int64"
            ]
          },
          "metadata": {},
          "execution_count": 10
        }
      ]
    },
    {
      "cell_type": "code",
      "metadata": {
        "id": "JMJliGO_Vyaf"
      },
      "source": [
        "CODIGOS_LABEL = {'Benign': 0, 'Bot': 1, 'Brute Force': 2, 'DDOS': 3, 'DoS': 4,'Infilteration': 5, 'SQL Injection': 6 }"
      ],
      "execution_count": null,
      "outputs": []
    },
    {
      "cell_type": "code",
      "metadata": {
        "id": "WQiffYyFWcMK"
      },
      "source": [
        "for key,value in CODIGOS_LABEL.items():\n",
        "  dataset['Label'] = dataset['Label'].replace(key, value)"
      ],
      "execution_count": null,
      "outputs": []
    },
    {
      "cell_type": "markdown",
      "metadata": {
        "id": "jq_a40xfTJFd"
      },
      "source": [
        "## Separando conjunto de treino e teste salvando no drive"
      ]
    },
    {
      "cell_type": "code",
      "metadata": {
        "id": "-uHMAfkqYP36"
      },
      "source": [
        "dataset = dataset.groupby('Label')"
      ],
      "execution_count": null,
      "outputs": []
    },
    {
      "cell_type": "code",
      "metadata": {
        "id": "CbGZyofASzwP"
      },
      "source": [
        "CONJUNTO_40 = '/content/drive/MyDrive/Colab Notebooks/ids2018/conjunto40/'\n",
        "CONJUNTO_60 = '/content/drive/MyDrive/Colab Notebooks/ids2018/conjunto60/'"
      ],
      "execution_count": null,
      "outputs": []
    },
    {
      "cell_type": "code",
      "metadata": {
        "id": "hujz-0iKefDC"
      },
      "source": [
        "def separar_salvar(dataset, name):\n",
        "  conjunto_40 = dataset.sample(frac=0.4,random_state=1)\n",
        "  conjunto_60 = dataset.drop(conjunto_40.index)\n",
        "  conjunto_40.to_csv(CONJUNTO_40 + name + '.csv', encoding='utf-8', index=False)\n",
        "  conjunto_60.to_csv(CONJUNTO_60 + name + '.csv', encoding='utf-8', index=False)"
      ],
      "execution_count": null,
      "outputs": []
    },
    {
      "cell_type": "code",
      "metadata": {
        "id": "ecL8OEW1Uj9M"
      },
      "source": [
        "separar_salvar(dataset.get_group(CODIGOS_LABEL['Benign']), 'benign')"
      ],
      "execution_count": null,
      "outputs": []
    },
    {
      "cell_type": "code",
      "metadata": {
        "id": "5kgDjCcab_yU"
      },
      "source": [
        "separar_salvar(dataset.get_group(CODIGOS_LABEL['Bot']), 'bot')"
      ],
      "execution_count": null,
      "outputs": []
    },
    {
      "cell_type": "code",
      "metadata": {
        "id": "gK_-ZBGHcIuy"
      },
      "source": [
        "separar_salvar(dataset.get_group(CODIGOS_LABEL['Brute Force']), 'brute_force')"
      ],
      "execution_count": null,
      "outputs": []
    },
    {
      "cell_type": "code",
      "metadata": {
        "id": "P6eYp4DqcQj6"
      },
      "source": [
        "separar_salvar(dataset.get_group(CODIGOS_LABEL['DDOS']), 'ddos')"
      ],
      "execution_count": null,
      "outputs": []
    },
    {
      "cell_type": "code",
      "metadata": {
        "id": "OIoP3qlDcWzc"
      },
      "source": [
        "separar_salvar(dataset.get_group(CODIGOS_LABEL['DoS']), 'dos')"
      ],
      "execution_count": null,
      "outputs": []
    },
    {
      "cell_type": "code",
      "metadata": {
        "id": "M14gxdixdJgT"
      },
      "source": [
        "separar_salvar(dataset.get_group(CODIGOS_LABEL['Infilteration']), 'infilteration')"
      ],
      "execution_count": null,
      "outputs": []
    },
    {
      "cell_type": "code",
      "metadata": {
        "id": "-1wJYP-adQRJ"
      },
      "source": [
        "separar_salvar(dataset.get_group(CODIGOS_LABEL['SQL Injection']), 'sql_injection')"
      ],
      "execution_count": null,
      "outputs": []
    },
    {
      "cell_type": "code",
      "source": [
        "dataset = dataset.get_group(CODIGOS_LABEL['Benign'])"
      ],
      "metadata": {
        "id": "xSHIwSAcU-Im"
      },
      "execution_count": null,
      "outputs": []
    },
    {
      "cell_type": "code",
      "source": [
        "separar_salvar(dataset, 'benign')"
      ],
      "metadata": {
        "id": "Z0vaEMAxWwBb"
      },
      "execution_count": null,
      "outputs": []
    },
    {
      "cell_type": "markdown",
      "metadata": {
        "id": "Tv-9hoSKf3Dv"
      },
      "source": [
        "## Carregar conjunto de treinamento"
      ]
    },
    {
      "cell_type": "markdown",
      "source": [],
      "metadata": {
        "id": "RLVVktPUN5RH"
      }
    },
    {
      "cell_type": "code",
      "metadata": {
        "id": "21XpgbPtf8qP"
      },
      "source": [
        "def carregar_arquivo(name, path):\n",
        "  return pd.read_csv(path + name + '.csv')"
      ],
      "execution_count": null,
      "outputs": []
    },
    {
      "cell_type": "code",
      "metadata": {
        "id": "TO7aGkbWVqCb"
      },
      "source": [
        "def carregar_arquivo_conjunto40(name):\n",
        "  return carregar_arquivo(name, CONJUNTO_40)"
      ],
      "execution_count": null,
      "outputs": []
    },
    {
      "cell_type": "code",
      "metadata": {
        "id": "cgwjocde1Bet"
      },
      "source": [
        "train = carregar_arquivo_conjunto40('benign')"
      ],
      "execution_count": null,
      "outputs": []
    },
    {
      "cell_type": "code",
      "metadata": {
        "id": "C2f6hYX912RS"
      },
      "source": [
        "train = train.append(carregar_arquivo_conjunto40('bot'), ignore_index=False)\n",
        "train = train.append(carregar_arquivo_conjunto40('brute_force'), ignore_index=False)\n",
        "train = train.append(carregar_arquivo_conjunto40('ddos'), ignore_index=False)\n",
        "train = train.append(carregar_arquivo_conjunto40('dos'), ignore_index=False)\n",
        "train = train.append(carregar_arquivo_conjunto40('infilteration'), ignore_index=False)\n",
        "train = train.append(carregar_arquivo_conjunto40('sql_injection'), ignore_index=False)"
      ],
      "execution_count": null,
      "outputs": []
    },
    {
      "cell_type": "code",
      "metadata": {
        "id": "6ZUgMSoi3D2a"
      },
      "source": [
        "target = pd.Categorical(train.pop('Label'))"
      ],
      "execution_count": null,
      "outputs": []
    },
    {
      "cell_type": "code",
      "metadata": {
        "id": "jm5RZxQk3SbS"
      },
      "source": [
        "target.describe()"
      ],
      "execution_count": null,
      "outputs": []
    },
    {
      "cell_type": "markdown",
      "metadata": {
        "id": "FMk8OQcjWWWE"
      },
      "source": [
        "## Normalizar "
      ]
    },
    {
      "cell_type": "code",
      "metadata": {
        "id": "5vQ0HEw2WVer"
      },
      "source": [
        "from sklearn.preprocessing import StandardScaler"
      ],
      "execution_count": null,
      "outputs": []
    },
    {
      "cell_type": "code",
      "metadata": {
        "id": "n_uNbxyoczgc"
      },
      "source": [
        "transformer = StandardScaler()"
      ],
      "execution_count": null,
      "outputs": []
    },
    {
      "cell_type": "code",
      "metadata": {
        "id": "YThphT69f0cZ"
      },
      "source": [
        "transformer = transformer.fit(train.values)"
      ],
      "execution_count": null,
      "outputs": []
    },
    {
      "cell_type": "code",
      "metadata": {
        "id": "uuHn4UnUXIZV"
      },
      "source": [
        "normalized_dataset = transformer.transform(train.values)"
      ],
      "execution_count": null,
      "outputs": []
    },
    {
      "cell_type": "code",
      "metadata": {
        "id": "5bG_52E-YR1X"
      },
      "source": [
        "normalized_dataset  = pd.DataFrame(normalized_dataset)\n",
        "normalized_dataset['Label'] = target"
      ],
      "execution_count": null,
      "outputs": []
    },
    {
      "cell_type": "code",
      "metadata": {
        "id": "56N3FWcIYdcz"
      },
      "source": [
        "normalized_dataset.to_csv(CONJUNTO_40 + \"standard_scaler.csv\")"
      ],
      "execution_count": null,
      "outputs": []
    },
    {
      "cell_type": "code",
      "metadata": {
        "id": "aKSlCGuDTrgq"
      },
      "source": [
        "normalized_dataset = carregar_arquivo_conjunto40(\"standard_scaler\")"
      ],
      "execution_count": null,
      "outputs": []
    },
    {
      "cell_type": "code",
      "metadata": {
        "id": "b_-Fty-kUjkX"
      },
      "source": [
        "normalized_dataset.head()"
      ],
      "execution_count": null,
      "outputs": []
    },
    {
      "cell_type": "markdown",
      "metadata": {
        "id": "yQgaGDiti6sB"
      },
      "source": [
        "## Treinamento"
      ]
    },
    {
      "cell_type": "code",
      "metadata": {
        "id": "HsKhO9QmOSnG"
      },
      "source": [
        "from sklearn.model_selection import train_test_split\n",
        "from sklearn.multiclass import OneVsRestClassifier"
      ],
      "execution_count": null,
      "outputs": []
    },
    {
      "cell_type": "code",
      "metadata": {
        "id": "SLdnWXwVcr_D"
      },
      "source": [
        "target = normalized_dataset.pop('Label')"
      ],
      "execution_count": null,
      "outputs": []
    },
    {
      "cell_type": "code",
      "metadata": {
        "id": "5T6WVb0gi_7b"
      },
      "source": [
        "X_train, X_test, y_train, y_test = train_test_split(normalized_dataset, target, test_size=0.3, random_state=42, stratify=target) "
      ],
      "execution_count": null,
      "outputs": []
    },
    {
      "cell_type": "code",
      "metadata": {
        "colab": {
          "base_uri": "https://localhost:8080/"
        },
        "id": "eeGyX0AkdG57",
        "outputId": "05489f73-49a1-47c9-b04c-7711a0868105"
      },
      "source": [
        "X_train.shape, y_train.shape, X_test.shape, y_test.shape "
      ],
      "execution_count": null,
      "outputs": [
        {
          "output_type": "execute_result",
          "data": {
            "text/plain": [
              "((1553871, 79), (1553871,), (665946, 79), (665946,))"
            ]
          },
          "metadata": {
            "tags": []
          },
          "execution_count": 14
        }
      ]
    },
    {
      "cell_type": "code",
      "metadata": {
        "colab": {
          "base_uri": "https://localhost:8080/",
          "height": 297
        },
        "id": "PtBDqysPCwaH",
        "outputId": "d6b98bd8-a85b-4770-c7a1-f5d7bbfce507"
      },
      "source": [
        "pd.Categorical(y_test).describe()"
      ],
      "execution_count": null,
      "outputs": [
        {
          "output_type": "execute_result",
          "data": {
            "text/html": [
              "<div>\n",
              "<style scoped>\n",
              "    .dataframe tbody tr th:only-of-type {\n",
              "        vertical-align: middle;\n",
              "    }\n",
              "\n",
              "    .dataframe tbody tr th {\n",
              "        vertical-align: top;\n",
              "    }\n",
              "\n",
              "    .dataframe thead th {\n",
              "        text-align: right;\n",
              "    }\n",
              "</style>\n",
              "<table border=\"1\" class=\"dataframe\">\n",
              "  <thead>\n",
              "    <tr style=\"text-align: right;\">\n",
              "      <th></th>\n",
              "      <th>counts</th>\n",
              "      <th>freqs</th>\n",
              "    </tr>\n",
              "    <tr>\n",
              "      <th>categories</th>\n",
              "      <th></th>\n",
              "      <th></th>\n",
              "    </tr>\n",
              "  </thead>\n",
              "  <tbody>\n",
              "    <tr>\n",
              "      <th>0</th>\n",
              "      <td>485929</td>\n",
              "      <td>0.729682</td>\n",
              "    </tr>\n",
              "    <tr>\n",
              "      <th>1</th>\n",
              "      <td>34343</td>\n",
              "      <td>0.051570</td>\n",
              "    </tr>\n",
              "    <tr>\n",
              "      <th>2</th>\n",
              "      <td>45753</td>\n",
              "      <td>0.068704</td>\n",
              "    </tr>\n",
              "    <tr>\n",
              "      <th>3</th>\n",
              "      <td>82529</td>\n",
              "      <td>0.123927</td>\n",
              "    </tr>\n",
              "    <tr>\n",
              "      <th>4</th>\n",
              "      <td>6300</td>\n",
              "      <td>0.009460</td>\n",
              "    </tr>\n",
              "    <tr>\n",
              "      <th>5</th>\n",
              "      <td>11088</td>\n",
              "      <td>0.016650</td>\n",
              "    </tr>\n",
              "    <tr>\n",
              "      <th>6</th>\n",
              "      <td>4</td>\n",
              "      <td>0.000006</td>\n",
              "    </tr>\n",
              "  </tbody>\n",
              "</table>\n",
              "</div>"
            ],
            "text/plain": [
              "            counts     freqs\n",
              "categories                  \n",
              "0           485929  0.729682\n",
              "1            34343  0.051570\n",
              "2            45753  0.068704\n",
              "3            82529  0.123927\n",
              "4             6300  0.009460\n",
              "5            11088  0.016650\n",
              "6                4  0.000006"
            ]
          },
          "metadata": {
            "tags": []
          },
          "execution_count": 15
        }
      ]
    },
    {
      "cell_type": "markdown",
      "metadata": {
        "id": "im3FFM_bQZ8Z"
      },
      "source": [
        "### MultilayerPerceptron"
      ]
    },
    {
      "cell_type": "code",
      "metadata": {
        "id": "roqQ_uahQthd"
      },
      "source": [
        "def criarModeloMLP():\n",
        "  return  MLPClassifier(hidden_layer_sizes=(78,39), max_iter=300,activation = 'relu',solver='adam',random_state=1, verbose=50)"
      ],
      "execution_count": null,
      "outputs": []
    },
    {
      "cell_type": "code",
      "metadata": {
        "id": "we5DlTXe4W7p"
      },
      "source": [
        "mlpClassifier = criarModeloMLP()"
      ],
      "execution_count": null,
      "outputs": []
    },
    {
      "cell_type": "code",
      "metadata": {
        "id": "idmGHiF6T4Lw"
      },
      "source": [
        "mlpClassifier = mlpClassifier.fit(X_train, y_train)"
      ],
      "execution_count": null,
      "outputs": []
    },
    {
      "cell_type": "markdown",
      "metadata": {
        "id": "MybwPXpWQi19"
      },
      "source": [
        "### One Vs All com MLP"
      ]
    },
    {
      "cell_type": "code",
      "metadata": {
        "id": "CXYWE4cQ7SQk"
      },
      "source": [
        "ova = OneVsRestClassifier(criarModeloMLP()).fit(X_train, y_train)"
      ],
      "execution_count": null,
      "outputs": []
    },
    {
      "cell_type": "markdown",
      "metadata": {
        "id": "w72UrLWhS9lX"
      },
      "source": [
        "## Pós processamento"
      ]
    },
    {
      "cell_type": "code",
      "metadata": {
        "id": "vn-28yrVTlfo"
      },
      "source": [
        "from sklearn.metrics import accuracy_score\n",
        "from sklearn.metrics import multilabel_confusion_matrix\n",
        "from sklearn.metrics import balanced_accuracy_score\n",
        "from sklearn.metrics import f1_score\n",
        "from sklearn.metrics import recall_score\n",
        "from sklearn.metrics import precision_score\n",
        "from sklearn.metrics import roc_auc_score\n",
        "from sklearn.metrics import average_precision_score"
      ],
      "execution_count": null,
      "outputs": []
    },
    {
      "cell_type": "markdown",
      "metadata": {
        "id": "I2U_qRN2TSU9"
      },
      "source": [
        "### Métricas"
      ]
    },
    {
      "cell_type": "code",
      "metadata": {
        "id": "ZgD8KjP5XCoa"
      },
      "source": [
        "nome_classes = ['Benign','Bot','Brute Force','DDOS','DoS','Infilteration','SQL Injection']\n",
        "\n",
        "def salvar_informacoes(clf):\n",
        "  y_pred = clf.predict(X_test)\n",
        "  matriz = multilabel_confusion_matrix(y_test, y_pred)\n",
        "  acc = accuracy_score(y_test, y_pred)\n",
        "  acc_balanced = balanced_accuracy_score(y_test, y_pred)\n",
        "  precision = precision_score(y_test, y_pred, average='weighted')\n",
        "  texto = '=====================================================================\\n\\n'\n",
        "  texto += f'Acurácia: {acc}\\n'\n",
        "  texto += f'Acurácia Balanceada: {acc_balanced}\\n'\n",
        "  texto += f'Precision : {precision}\\n'\n",
        "  texto += '\\n\\n'\n",
        "\n",
        "  acc_classes = []\n",
        "  precision_classes = []\n",
        "  recall_classes = []\n",
        "  TNR_classes = []\n",
        "  f1_score_classes = []\n",
        "  texto += 'RESULTADOS POR CLASSE\\n\\n'\n",
        "  for j in range(0,len(nome_classes)):\n",
        "    texto += '\\n\\n'\n",
        "    texto += f'Classe {j}: {nome_classes[j]}\\n'\n",
        "\n",
        "    #separa a matriz de cada classe j em tn, fp, fn, tp  \n",
        "    tn = matriz[j][0][0]\n",
        "    fp = matriz[j][0][1]\n",
        "    fn = matriz[j][1][0]\n",
        "    tp = matriz[j][1][1]\n",
        "    #imprime matriz no arquivo\n",
        "    texto += '\\n\\n-- N --|-- P --\\n'\n",
        "    texto += f'N| {tn} | {fp} |\\n'\n",
        "    texto += '-----------------------\\n'\n",
        "    texto += f'P| {fn} | {tp} |\\n'\n",
        "    texto += '\\n\\n'\n",
        "\n",
        "    #calcula as métricas com base nos dados tp, tn, fn, fp\n",
        "    acc_classes.append(((tn+tp)/(tn+tp+fn+fp)))\n",
        "    precision = (tp/(tp+fp))\n",
        "    precision_classes.append(precision)\n",
        "    recall = (tp/(tp+fn))\n",
        "    recall_classes.append(recall)\n",
        "    TNR_classes.append((tn/(tn+fp)))\n",
        "    f1_score_classes.append((2 * ((precision * recall)/(precision + recall))))\n",
        "\n",
        "    #imprimir linha no arquivo com as métricas calculadas para a classe j no fold i\n",
        "    texto += '             acc,                     loss,                   precision,            recall,                TNR,              f1-score\\n'\n",
        "    texto += f'Classe {nome_classes[j]}:  {acc_classes[j]},   {1-acc_classes[j]},   {precision_classes[j]},   {recall_classes[j]},     {TNR_classes[j]},  {f1_score_classes[j]}\\n'\n",
        "  return texto"
      ],
      "execution_count": null,
      "outputs": []
    },
    {
      "cell_type": "code",
      "metadata": {
        "id": "3YzeINr8BXXY"
      },
      "source": [
        "ova_info = salvar_informacoes(ova)"
      ],
      "execution_count": null,
      "outputs": []
    },
    {
      "cell_type": "code",
      "metadata": {
        "id": "iUORbc8-JQ4d"
      },
      "source": [
        "mlp_info = salvar_informacoes(mlpClassifier)"
      ],
      "execution_count": null,
      "outputs": []
    },
    {
      "cell_type": "code",
      "metadata": {
        "id": "YpKbiekMZ4-0"
      },
      "source": [
        "def salvar(texto, nome, caminho):\n",
        "  arquivo = open(caminho + nome, 'w')\n",
        "  arquivo.write(texto)"
      ],
      "execution_count": null,
      "outputs": []
    },
    {
      "cell_type": "code",
      "metadata": {
        "id": "Zx13UlwRhVMJ"
      },
      "source": [
        "salvar(ova_info,'ovaInfo3.txt', CONJUNTO_40)"
      ],
      "execution_count": null,
      "outputs": []
    },
    {
      "cell_type": "code",
      "metadata": {
        "id": "JpUsgkkzCOKU"
      },
      "source": [
        "salvar(mlp_info,'mlpClassifierInfo3.txt', CONJUNTO_40)"
      ],
      "execution_count": null,
      "outputs": []
    }
  ]
}